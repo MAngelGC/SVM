{
 "cells": [
  {
   "cell_type": "markdown",
   "metadata": {},
   "source": [
    "# Práctica 2 - SVM\n",
    "\n",
    "## Funciones auxiliares\n",
    "Primero, podemos crear algunas funciones auxiliares (como por ejemplo, para la transformación)."
   ]
  },
  {
   "cell_type": "code",
   "execution_count": 29,
   "metadata": {
    "vscode": {
     "languageId": "r"
    }
   },
   "outputs": [],
   "source": [
    "transformacion <- function(x1, x2) {\n",
    "  for (i in 1:length(x1)) {\n",
    "    if (sqrt(x1[i]^2 + x2[i]^2) > 2) {\n",
    "      x1[i] <- 4 - x2[i] + abs(x1[i] - x2[i])\n",
    "      x2[i] <- 4 - x1[i] + abs(x1[i] - x2[i])\n",
    "    }\n",
    "  }\n",
    "  return(list(X1 = x2, X2 = x2))\n",
    "}\n",
    "\n",
    "print_clasificacion <- function(x, w, b) {\n",
    "  print(x)\n",
    "  if ((t(w) %*% x + b) >= 0) {\n",
    "    print(\"Pertenece a la clase: 1\")\n",
    "  } else {\n",
    "    print(\"Pertenece a la clase: -1\")\n",
    "  }\n",
    "}\n",
    "\n",
    "kernel <- function(x1, x2) {\n",
    "  len_x1 <- length(x1)\n",
    "  len_x2 <- length(x2)\n",
    "  k <- matrix(data = NA, nrow = len_x1, ncol = len_x2)\n",
    "  for (i in 1:len_x1) {\n",
    "    xi <- c(x1[i], x2[i])\n",
    "    for (j in 1:len_x2) {\n",
    "      xj <- c(x1[j], x2[j])\n",
    "      k[i, j] <- xi %*% xj\n",
    "    }\n",
    "  }\n",
    "  return(k)\n",
    "}"
   ]
  },
  {
   "cell_type": "markdown",
   "metadata": {},
   "source": [
    "## Librerías y dataframes\n",
    "Una vez creadas las funciones auxiliares, cargamos las librerías necesarias y creamos los dataframes a usar, poniendo la columna Y de cada uno como factor."
   ]
  },
  {
   "cell_type": "code",
   "execution_count": 92,
   "metadata": {
    "vscode": {
     "languageId": "r"
    }
   },
   "outputs": [
    {
     "data": {
      "text/html": [
       "<table class=\"dataframe\">\n",
       "<caption>A data.frame: 2 × 3</caption>\n",
       "<thead>\n",
       "\t<tr><th scope=col>X1</th><th scope=col>X2</th><th scope=col>Y</th></tr>\n",
       "\t<tr><th scope=col>&lt;dbl&gt;</th><th scope=col>&lt;dbl&gt;</th><th scope=col>&lt;fct&gt;</th></tr>\n",
       "</thead>\n",
       "<tbody>\n",
       "\t<tr><td>0</td><td>0</td><td>1 </td></tr>\n",
       "\t<tr><td>4</td><td>4</td><td>-1</td></tr>\n",
       "</tbody>\n",
       "</table>\n"
      ],
      "text/latex": [
       "A data.frame: 2 × 3\n",
       "\\begin{tabular}{lll}\n",
       " X1 & X2 & Y\\\\\n",
       " <dbl> & <dbl> & <fct>\\\\\n",
       "\\hline\n",
       "\t 0 & 0 & 1 \\\\\n",
       "\t 4 & 4 & -1\\\\\n",
       "\\end{tabular}\n"
      ],
      "text/markdown": [
       "\n",
       "A data.frame: 2 × 3\n",
       "\n",
       "| X1 &lt;dbl&gt; | X2 &lt;dbl&gt; | Y &lt;fct&gt; |\n",
       "|---|---|---|\n",
       "| 0 | 0 | 1  |\n",
       "| 4 | 4 | -1 |\n",
       "\n"
      ],
      "text/plain": [
       "  X1 X2 Y \n",
       "1 0  0  1 \n",
       "2 4  4  -1"
      ]
     },
     "metadata": {},
     "output_type": "display_data"
    },
    {
     "data": {
      "text/html": [
       "<table class=\"dataframe\">\n",
       "<caption>A data.frame: 3 × 3</caption>\n",
       "<thead>\n",
       "\t<tr><th scope=col>X1</th><th scope=col>X2</th><th scope=col>Y</th></tr>\n",
       "\t<tr><th scope=col>&lt;dbl&gt;</th><th scope=col>&lt;dbl&gt;</th><th scope=col>&lt;fct&gt;</th></tr>\n",
       "</thead>\n",
       "<tbody>\n",
       "\t<tr><td>2</td><td>0</td><td>1 </td></tr>\n",
       "\t<tr><td>0</td><td>0</td><td>-1</td></tr>\n",
       "\t<tr><td>1</td><td>1</td><td>-1</td></tr>\n",
       "</tbody>\n",
       "</table>\n"
      ],
      "text/latex": [
       "A data.frame: 3 × 3\n",
       "\\begin{tabular}{lll}\n",
       " X1 & X2 & Y\\\\\n",
       " <dbl> & <dbl> & <fct>\\\\\n",
       "\\hline\n",
       "\t 2 & 0 & 1 \\\\\n",
       "\t 0 & 0 & -1\\\\\n",
       "\t 1 & 1 & -1\\\\\n",
       "\\end{tabular}\n"
      ],
      "text/markdown": [
       "\n",
       "A data.frame: 3 × 3\n",
       "\n",
       "| X1 &lt;dbl&gt; | X2 &lt;dbl&gt; | Y &lt;fct&gt; |\n",
       "|---|---|---|\n",
       "| 2 | 0 | 1  |\n",
       "| 0 | 0 | -1 |\n",
       "| 1 | 1 | -1 |\n",
       "\n"
      ],
      "text/plain": [
       "  X1 X2 Y \n",
       "1 2  0  1 \n",
       "2 0  0  -1\n",
       "3 1  1  -1"
      ]
     },
     "metadata": {},
     "output_type": "display_data"
    },
    {
     "data": {
      "text/html": [
       "<table class=\"dataframe\">\n",
       "<caption>A data.frame: 8 × 3</caption>\n",
       "<thead>\n",
       "\t<tr><th scope=col>X1</th><th scope=col>X2</th><th scope=col>Y</th></tr>\n",
       "\t<tr><th scope=col>&lt;dbl&gt;</th><th scope=col>&lt;dbl&gt;</th><th scope=col>&lt;fct&gt;</th></tr>\n",
       "</thead>\n",
       "<tbody>\n",
       "\t<tr><td> 2</td><td> 2</td><td>1 </td></tr>\n",
       "\t<tr><td> 2</td><td>-2</td><td>1 </td></tr>\n",
       "\t<tr><td>-2</td><td>-2</td><td>1 </td></tr>\n",
       "\t<tr><td>-2</td><td> 2</td><td>1 </td></tr>\n",
       "\t<tr><td> 1</td><td> 1</td><td>-1</td></tr>\n",
       "\t<tr><td> 1</td><td>-1</td><td>-1</td></tr>\n",
       "\t<tr><td>-1</td><td>-1</td><td>-1</td></tr>\n",
       "\t<tr><td>-1</td><td> 1</td><td>-1</td></tr>\n",
       "</tbody>\n",
       "</table>\n"
      ],
      "text/latex": [
       "A data.frame: 8 × 3\n",
       "\\begin{tabular}{lll}\n",
       " X1 & X2 & Y\\\\\n",
       " <dbl> & <dbl> & <fct>\\\\\n",
       "\\hline\n",
       "\t  2 &  2 & 1 \\\\\n",
       "\t  2 & -2 & 1 \\\\\n",
       "\t -2 & -2 & 1 \\\\\n",
       "\t -2 &  2 & 1 \\\\\n",
       "\t  1 &  1 & -1\\\\\n",
       "\t  1 & -1 & -1\\\\\n",
       "\t -1 & -1 & -1\\\\\n",
       "\t -1 &  1 & -1\\\\\n",
       "\\end{tabular}\n"
      ],
      "text/markdown": [
       "\n",
       "A data.frame: 8 × 3\n",
       "\n",
       "| X1 &lt;dbl&gt; | X2 &lt;dbl&gt; | Y &lt;fct&gt; |\n",
       "|---|---|---|\n",
       "|  2 |  2 | 1  |\n",
       "|  2 | -2 | 1  |\n",
       "| -2 | -2 | 1  |\n",
       "| -2 |  2 | 1  |\n",
       "|  1 |  1 | -1 |\n",
       "|  1 | -1 | -1 |\n",
       "| -1 | -1 | -1 |\n",
       "| -1 |  1 | -1 |\n",
       "\n"
      ],
      "text/plain": [
       "  X1 X2 Y \n",
       "1  2  2 1 \n",
       "2  2 -2 1 \n",
       "3 -2 -2 1 \n",
       "4 -2  2 1 \n",
       "5  1  1 -1\n",
       "6  1 -1 -1\n",
       "7 -1 -1 -1\n",
       "8 -1  1 -1"
      ]
     },
     "metadata": {},
     "output_type": "display_data"
    },
    {
     "data": {
      "text/html": [
       "<table class=\"dataframe\">\n",
       "<caption>A data.frame: 8 × 3</caption>\n",
       "<thead>\n",
       "\t<tr><th scope=col>X1</th><th scope=col>X2</th><th scope=col>Y</th></tr>\n",
       "\t<tr><th scope=col>&lt;dbl&gt;</th><th scope=col>&lt;dbl&gt;</th><th scope=col>&lt;fct&gt;</th></tr>\n",
       "</thead>\n",
       "<tbody>\n",
       "\t<tr><td> 2</td><td> 2</td><td>1 </td></tr>\n",
       "\t<tr><td> 6</td><td> 6</td><td>1 </td></tr>\n",
       "\t<tr><td> 6</td><td> 6</td><td>1 </td></tr>\n",
       "\t<tr><td> 2</td><td> 2</td><td>1 </td></tr>\n",
       "\t<tr><td> 1</td><td> 1</td><td>-1</td></tr>\n",
       "\t<tr><td>-1</td><td>-1</td><td>-1</td></tr>\n",
       "\t<tr><td>-1</td><td>-1</td><td>-1</td></tr>\n",
       "\t<tr><td> 1</td><td> 1</td><td>-1</td></tr>\n",
       "</tbody>\n",
       "</table>\n"
      ],
      "text/latex": [
       "A data.frame: 8 × 3\n",
       "\\begin{tabular}{lll}\n",
       " X1 & X2 & Y\\\\\n",
       " <dbl> & <dbl> & <fct>\\\\\n",
       "\\hline\n",
       "\t  2 &  2 & 1 \\\\\n",
       "\t  6 &  6 & 1 \\\\\n",
       "\t  6 &  6 & 1 \\\\\n",
       "\t  2 &  2 & 1 \\\\\n",
       "\t  1 &  1 & -1\\\\\n",
       "\t -1 & -1 & -1\\\\\n",
       "\t -1 & -1 & -1\\\\\n",
       "\t  1 &  1 & -1\\\\\n",
       "\\end{tabular}\n"
      ],
      "text/markdown": [
       "\n",
       "A data.frame: 8 × 3\n",
       "\n",
       "| X1 &lt;dbl&gt; | X2 &lt;dbl&gt; | Y &lt;fct&gt; |\n",
       "|---|---|---|\n",
       "|  2 |  2 | 1  |\n",
       "|  6 |  6 | 1  |\n",
       "|  6 |  6 | 1  |\n",
       "|  2 |  2 | 1  |\n",
       "|  1 |  1 | -1 |\n",
       "| -1 | -1 | -1 |\n",
       "| -1 | -1 | -1 |\n",
       "|  1 |  1 | -1 |\n",
       "\n"
      ],
      "text/plain": [
       "  X1 X2 Y \n",
       "1  2  2 1 \n",
       "2  6  6 1 \n",
       "3  6  6 1 \n",
       "4  2  2 1 \n",
       "5  1  1 -1\n",
       "6 -1 -1 -1\n",
       "7 -1 -1 -1\n",
       "8  1  1 -1"
      ]
     },
     "metadata": {},
     "output_type": "display_data"
    },
    {
     "data": {
      "text/html": [
       "<table class=\"dataframe\">\n",
       "<caption>A data.frame: 8 × 3</caption>\n",
       "<thead>\n",
       "\t<tr><th scope=col>X1</th><th scope=col>X2</th><th scope=col>Y</th></tr>\n",
       "\t<tr><th scope=col>&lt;dbl&gt;</th><th scope=col>&lt;dbl&gt;</th><th scope=col>&lt;fct&gt;</th></tr>\n",
       "</thead>\n",
       "<tbody>\n",
       "\t<tr><td> 3</td><td> 1</td><td>1 </td></tr>\n",
       "\t<tr><td> 3</td><td>-1</td><td>1 </td></tr>\n",
       "\t<tr><td> 6</td><td> 1</td><td>1 </td></tr>\n",
       "\t<tr><td> 6</td><td>-1</td><td>1 </td></tr>\n",
       "\t<tr><td> 1</td><td> 0</td><td>-1</td></tr>\n",
       "\t<tr><td> 0</td><td> 1</td><td>-1</td></tr>\n",
       "\t<tr><td> 0</td><td>-1</td><td>-1</td></tr>\n",
       "\t<tr><td>-1</td><td> 0</td><td>-1</td></tr>\n",
       "</tbody>\n",
       "</table>\n"
      ],
      "text/latex": [
       "A data.frame: 8 × 3\n",
       "\\begin{tabular}{lll}\n",
       " X1 & X2 & Y\\\\\n",
       " <dbl> & <dbl> & <fct>\\\\\n",
       "\\hline\n",
       "\t  3 &  1 & 1 \\\\\n",
       "\t  3 & -1 & 1 \\\\\n",
       "\t  6 &  1 & 1 \\\\\n",
       "\t  6 & -1 & 1 \\\\\n",
       "\t  1 &  0 & -1\\\\\n",
       "\t  0 &  1 & -1\\\\\n",
       "\t  0 & -1 & -1\\\\\n",
       "\t -1 &  0 & -1\\\\\n",
       "\\end{tabular}\n"
      ],
      "text/markdown": [
       "\n",
       "A data.frame: 8 × 3\n",
       "\n",
       "| X1 &lt;dbl&gt; | X2 &lt;dbl&gt; | Y &lt;fct&gt; |\n",
       "|---|---|---|\n",
       "|  3 |  1 | 1  |\n",
       "|  3 | -1 | 1  |\n",
       "|  6 |  1 | 1  |\n",
       "|  6 | -1 | 1  |\n",
       "|  1 |  0 | -1 |\n",
       "|  0 |  1 | -1 |\n",
       "|  0 | -1 | -1 |\n",
       "| -1 |  0 | -1 |\n",
       "\n"
      ],
      "text/plain": [
       "  X1 X2 Y \n",
       "1  3  1 1 \n",
       "2  3 -1 1 \n",
       "3  6  1 1 \n",
       "4  6 -1 1 \n",
       "5  1  0 -1\n",
       "6  0  1 -1\n",
       "7  0 -1 -1\n",
       "8 -1  0 -1"
      ]
     },
     "metadata": {},
     "output_type": "display_data"
    },
    {
     "data": {
      "text/html": [
       "<table class=\"dataframe\">\n",
       "<caption>A data.frame: 150 × 5</caption>\n",
       "<thead>\n",
       "\t<tr><th scope=col>Sepal.Length</th><th scope=col>Sepal.Width</th><th scope=col>Petal.Length</th><th scope=col>Petal.Width</th><th scope=col>Species</th></tr>\n",
       "\t<tr><th scope=col>&lt;dbl&gt;</th><th scope=col>&lt;dbl&gt;</th><th scope=col>&lt;dbl&gt;</th><th scope=col>&lt;dbl&gt;</th><th scope=col>&lt;fct&gt;</th></tr>\n",
       "</thead>\n",
       "<tbody>\n",
       "\t<tr><td>5.1</td><td>3.5</td><td>1.4</td><td>0.2</td><td>setosa</td></tr>\n",
       "\t<tr><td>4.9</td><td>3.0</td><td>1.4</td><td>0.2</td><td>setosa</td></tr>\n",
       "\t<tr><td>4.7</td><td>3.2</td><td>1.3</td><td>0.2</td><td>setosa</td></tr>\n",
       "\t<tr><td>4.6</td><td>3.1</td><td>1.5</td><td>0.2</td><td>setosa</td></tr>\n",
       "\t<tr><td>5.0</td><td>3.6</td><td>1.4</td><td>0.2</td><td>setosa</td></tr>\n",
       "\t<tr><td>5.4</td><td>3.9</td><td>1.7</td><td>0.4</td><td>setosa</td></tr>\n",
       "\t<tr><td>4.6</td><td>3.4</td><td>1.4</td><td>0.3</td><td>setosa</td></tr>\n",
       "\t<tr><td>5.0</td><td>3.4</td><td>1.5</td><td>0.2</td><td>setosa</td></tr>\n",
       "\t<tr><td>4.4</td><td>2.9</td><td>1.4</td><td>0.2</td><td>setosa</td></tr>\n",
       "\t<tr><td>4.9</td><td>3.1</td><td>1.5</td><td>0.1</td><td>setosa</td></tr>\n",
       "\t<tr><td>5.4</td><td>3.7</td><td>1.5</td><td>0.2</td><td>setosa</td></tr>\n",
       "\t<tr><td>4.8</td><td>3.4</td><td>1.6</td><td>0.2</td><td>setosa</td></tr>\n",
       "\t<tr><td>4.8</td><td>3.0</td><td>1.4</td><td>0.1</td><td>setosa</td></tr>\n",
       "\t<tr><td>4.3</td><td>3.0</td><td>1.1</td><td>0.1</td><td>setosa</td></tr>\n",
       "\t<tr><td>5.8</td><td>4.0</td><td>1.2</td><td>0.2</td><td>setosa</td></tr>\n",
       "\t<tr><td>5.7</td><td>4.4</td><td>1.5</td><td>0.4</td><td>setosa</td></tr>\n",
       "\t<tr><td>5.4</td><td>3.9</td><td>1.3</td><td>0.4</td><td>setosa</td></tr>\n",
       "\t<tr><td>5.1</td><td>3.5</td><td>1.4</td><td>0.3</td><td>setosa</td></tr>\n",
       "\t<tr><td>5.7</td><td>3.8</td><td>1.7</td><td>0.3</td><td>setosa</td></tr>\n",
       "\t<tr><td>5.1</td><td>3.8</td><td>1.5</td><td>0.3</td><td>setosa</td></tr>\n",
       "\t<tr><td>5.4</td><td>3.4</td><td>1.7</td><td>0.2</td><td>setosa</td></tr>\n",
       "\t<tr><td>5.1</td><td>3.7</td><td>1.5</td><td>0.4</td><td>setosa</td></tr>\n",
       "\t<tr><td>4.6</td><td>3.6</td><td>1.0</td><td>0.2</td><td>setosa</td></tr>\n",
       "\t<tr><td>5.1</td><td>3.3</td><td>1.7</td><td>0.5</td><td>setosa</td></tr>\n",
       "\t<tr><td>4.8</td><td>3.4</td><td>1.9</td><td>0.2</td><td>setosa</td></tr>\n",
       "\t<tr><td>5.0</td><td>3.0</td><td>1.6</td><td>0.2</td><td>setosa</td></tr>\n",
       "\t<tr><td>5.0</td><td>3.4</td><td>1.6</td><td>0.4</td><td>setosa</td></tr>\n",
       "\t<tr><td>5.2</td><td>3.5</td><td>1.5</td><td>0.2</td><td>setosa</td></tr>\n",
       "\t<tr><td>5.2</td><td>3.4</td><td>1.4</td><td>0.2</td><td>setosa</td></tr>\n",
       "\t<tr><td>4.7</td><td>3.2</td><td>1.6</td><td>0.2</td><td>setosa</td></tr>\n",
       "\t<tr><td>⋮</td><td>⋮</td><td>⋮</td><td>⋮</td><td>⋮</td></tr>\n",
       "\t<tr><td>6.9</td><td>3.2</td><td>5.7</td><td>2.3</td><td>virginica</td></tr>\n",
       "\t<tr><td>5.6</td><td>2.8</td><td>4.9</td><td>2.0</td><td>virginica</td></tr>\n",
       "\t<tr><td>7.7</td><td>2.8</td><td>6.7</td><td>2.0</td><td>virginica</td></tr>\n",
       "\t<tr><td>6.3</td><td>2.7</td><td>4.9</td><td>1.8</td><td>virginica</td></tr>\n",
       "\t<tr><td>6.7</td><td>3.3</td><td>5.7</td><td>2.1</td><td>virginica</td></tr>\n",
       "\t<tr><td>7.2</td><td>3.2</td><td>6.0</td><td>1.8</td><td>virginica</td></tr>\n",
       "\t<tr><td>6.2</td><td>2.8</td><td>4.8</td><td>1.8</td><td>virginica</td></tr>\n",
       "\t<tr><td>6.1</td><td>3.0</td><td>4.9</td><td>1.8</td><td>virginica</td></tr>\n",
       "\t<tr><td>6.4</td><td>2.8</td><td>5.6</td><td>2.1</td><td>virginica</td></tr>\n",
       "\t<tr><td>7.2</td><td>3.0</td><td>5.8</td><td>1.6</td><td>virginica</td></tr>\n",
       "\t<tr><td>7.4</td><td>2.8</td><td>6.1</td><td>1.9</td><td>virginica</td></tr>\n",
       "\t<tr><td>7.9</td><td>3.8</td><td>6.4</td><td>2.0</td><td>virginica</td></tr>\n",
       "\t<tr><td>6.4</td><td>2.8</td><td>5.6</td><td>2.2</td><td>virginica</td></tr>\n",
       "\t<tr><td>6.3</td><td>2.8</td><td>5.1</td><td>1.5</td><td>virginica</td></tr>\n",
       "\t<tr><td>6.1</td><td>2.6</td><td>5.6</td><td>1.4</td><td>virginica</td></tr>\n",
       "\t<tr><td>7.7</td><td>3.0</td><td>6.1</td><td>2.3</td><td>virginica</td></tr>\n",
       "\t<tr><td>6.3</td><td>3.4</td><td>5.6</td><td>2.4</td><td>virginica</td></tr>\n",
       "\t<tr><td>6.4</td><td>3.1</td><td>5.5</td><td>1.8</td><td>virginica</td></tr>\n",
       "\t<tr><td>6.0</td><td>3.0</td><td>4.8</td><td>1.8</td><td>virginica</td></tr>\n",
       "\t<tr><td>6.9</td><td>3.1</td><td>5.4</td><td>2.1</td><td>virginica</td></tr>\n",
       "\t<tr><td>6.7</td><td>3.1</td><td>5.6</td><td>2.4</td><td>virginica</td></tr>\n",
       "\t<tr><td>6.9</td><td>3.1</td><td>5.1</td><td>2.3</td><td>virginica</td></tr>\n",
       "\t<tr><td>5.8</td><td>2.7</td><td>5.1</td><td>1.9</td><td>virginica</td></tr>\n",
       "\t<tr><td>6.8</td><td>3.2</td><td>5.9</td><td>2.3</td><td>virginica</td></tr>\n",
       "\t<tr><td>6.7</td><td>3.3</td><td>5.7</td><td>2.5</td><td>virginica</td></tr>\n",
       "\t<tr><td>6.7</td><td>3.0</td><td>5.2</td><td>2.3</td><td>virginica</td></tr>\n",
       "\t<tr><td>6.3</td><td>2.5</td><td>5.0</td><td>1.9</td><td>virginica</td></tr>\n",
       "\t<tr><td>6.5</td><td>3.0</td><td>5.2</td><td>2.0</td><td>virginica</td></tr>\n",
       "\t<tr><td>6.2</td><td>3.4</td><td>5.4</td><td>2.3</td><td>virginica</td></tr>\n",
       "\t<tr><td>5.9</td><td>3.0</td><td>5.1</td><td>1.8</td><td>virginica</td></tr>\n",
       "</tbody>\n",
       "</table>\n"
      ],
      "text/latex": [
       "A data.frame: 150 × 5\n",
       "\\begin{tabular}{lllll}\n",
       " Sepal.Length & Sepal.Width & Petal.Length & Petal.Width & Species\\\\\n",
       " <dbl> & <dbl> & <dbl> & <dbl> & <fct>\\\\\n",
       "\\hline\n",
       "\t 5.1 & 3.5 & 1.4 & 0.2 & setosa\\\\\n",
       "\t 4.9 & 3.0 & 1.4 & 0.2 & setosa\\\\\n",
       "\t 4.7 & 3.2 & 1.3 & 0.2 & setosa\\\\\n",
       "\t 4.6 & 3.1 & 1.5 & 0.2 & setosa\\\\\n",
       "\t 5.0 & 3.6 & 1.4 & 0.2 & setosa\\\\\n",
       "\t 5.4 & 3.9 & 1.7 & 0.4 & setosa\\\\\n",
       "\t 4.6 & 3.4 & 1.4 & 0.3 & setosa\\\\\n",
       "\t 5.0 & 3.4 & 1.5 & 0.2 & setosa\\\\\n",
       "\t 4.4 & 2.9 & 1.4 & 0.2 & setosa\\\\\n",
       "\t 4.9 & 3.1 & 1.5 & 0.1 & setosa\\\\\n",
       "\t 5.4 & 3.7 & 1.5 & 0.2 & setosa\\\\\n",
       "\t 4.8 & 3.4 & 1.6 & 0.2 & setosa\\\\\n",
       "\t 4.8 & 3.0 & 1.4 & 0.1 & setosa\\\\\n",
       "\t 4.3 & 3.0 & 1.1 & 0.1 & setosa\\\\\n",
       "\t 5.8 & 4.0 & 1.2 & 0.2 & setosa\\\\\n",
       "\t 5.7 & 4.4 & 1.5 & 0.4 & setosa\\\\\n",
       "\t 5.4 & 3.9 & 1.3 & 0.4 & setosa\\\\\n",
       "\t 5.1 & 3.5 & 1.4 & 0.3 & setosa\\\\\n",
       "\t 5.7 & 3.8 & 1.7 & 0.3 & setosa\\\\\n",
       "\t 5.1 & 3.8 & 1.5 & 0.3 & setosa\\\\\n",
       "\t 5.4 & 3.4 & 1.7 & 0.2 & setosa\\\\\n",
       "\t 5.1 & 3.7 & 1.5 & 0.4 & setosa\\\\\n",
       "\t 4.6 & 3.6 & 1.0 & 0.2 & setosa\\\\\n",
       "\t 5.1 & 3.3 & 1.7 & 0.5 & setosa\\\\\n",
       "\t 4.8 & 3.4 & 1.9 & 0.2 & setosa\\\\\n",
       "\t 5.0 & 3.0 & 1.6 & 0.2 & setosa\\\\\n",
       "\t 5.0 & 3.4 & 1.6 & 0.4 & setosa\\\\\n",
       "\t 5.2 & 3.5 & 1.5 & 0.2 & setosa\\\\\n",
       "\t 5.2 & 3.4 & 1.4 & 0.2 & setosa\\\\\n",
       "\t 4.7 & 3.2 & 1.6 & 0.2 & setosa\\\\\n",
       "\t ⋮ & ⋮ & ⋮ & ⋮ & ⋮\\\\\n",
       "\t 6.9 & 3.2 & 5.7 & 2.3 & virginica\\\\\n",
       "\t 5.6 & 2.8 & 4.9 & 2.0 & virginica\\\\\n",
       "\t 7.7 & 2.8 & 6.7 & 2.0 & virginica\\\\\n",
       "\t 6.3 & 2.7 & 4.9 & 1.8 & virginica\\\\\n",
       "\t 6.7 & 3.3 & 5.7 & 2.1 & virginica\\\\\n",
       "\t 7.2 & 3.2 & 6.0 & 1.8 & virginica\\\\\n",
       "\t 6.2 & 2.8 & 4.8 & 1.8 & virginica\\\\\n",
       "\t 6.1 & 3.0 & 4.9 & 1.8 & virginica\\\\\n",
       "\t 6.4 & 2.8 & 5.6 & 2.1 & virginica\\\\\n",
       "\t 7.2 & 3.0 & 5.8 & 1.6 & virginica\\\\\n",
       "\t 7.4 & 2.8 & 6.1 & 1.9 & virginica\\\\\n",
       "\t 7.9 & 3.8 & 6.4 & 2.0 & virginica\\\\\n",
       "\t 6.4 & 2.8 & 5.6 & 2.2 & virginica\\\\\n",
       "\t 6.3 & 2.8 & 5.1 & 1.5 & virginica\\\\\n",
       "\t 6.1 & 2.6 & 5.6 & 1.4 & virginica\\\\\n",
       "\t 7.7 & 3.0 & 6.1 & 2.3 & virginica\\\\\n",
       "\t 6.3 & 3.4 & 5.6 & 2.4 & virginica\\\\\n",
       "\t 6.4 & 3.1 & 5.5 & 1.8 & virginica\\\\\n",
       "\t 6.0 & 3.0 & 4.8 & 1.8 & virginica\\\\\n",
       "\t 6.9 & 3.1 & 5.4 & 2.1 & virginica\\\\\n",
       "\t 6.7 & 3.1 & 5.6 & 2.4 & virginica\\\\\n",
       "\t 6.9 & 3.1 & 5.1 & 2.3 & virginica\\\\\n",
       "\t 5.8 & 2.7 & 5.1 & 1.9 & virginica\\\\\n",
       "\t 6.8 & 3.2 & 5.9 & 2.3 & virginica\\\\\n",
       "\t 6.7 & 3.3 & 5.7 & 2.5 & virginica\\\\\n",
       "\t 6.7 & 3.0 & 5.2 & 2.3 & virginica\\\\\n",
       "\t 6.3 & 2.5 & 5.0 & 1.9 & virginica\\\\\n",
       "\t 6.5 & 3.0 & 5.2 & 2.0 & virginica\\\\\n",
       "\t 6.2 & 3.4 & 5.4 & 2.3 & virginica\\\\\n",
       "\t 5.9 & 3.0 & 5.1 & 1.8 & virginica\\\\\n",
       "\\end{tabular}\n"
      ],
      "text/markdown": [
       "\n",
       "A data.frame: 150 × 5\n",
       "\n",
       "| Sepal.Length &lt;dbl&gt; | Sepal.Width &lt;dbl&gt; | Petal.Length &lt;dbl&gt; | Petal.Width &lt;dbl&gt; | Species &lt;fct&gt; |\n",
       "|---|---|---|---|---|\n",
       "| 5.1 | 3.5 | 1.4 | 0.2 | setosa |\n",
       "| 4.9 | 3.0 | 1.4 | 0.2 | setosa |\n",
       "| 4.7 | 3.2 | 1.3 | 0.2 | setosa |\n",
       "| 4.6 | 3.1 | 1.5 | 0.2 | setosa |\n",
       "| 5.0 | 3.6 | 1.4 | 0.2 | setosa |\n",
       "| 5.4 | 3.9 | 1.7 | 0.4 | setosa |\n",
       "| 4.6 | 3.4 | 1.4 | 0.3 | setosa |\n",
       "| 5.0 | 3.4 | 1.5 | 0.2 | setosa |\n",
       "| 4.4 | 2.9 | 1.4 | 0.2 | setosa |\n",
       "| 4.9 | 3.1 | 1.5 | 0.1 | setosa |\n",
       "| 5.4 | 3.7 | 1.5 | 0.2 | setosa |\n",
       "| 4.8 | 3.4 | 1.6 | 0.2 | setosa |\n",
       "| 4.8 | 3.0 | 1.4 | 0.1 | setosa |\n",
       "| 4.3 | 3.0 | 1.1 | 0.1 | setosa |\n",
       "| 5.8 | 4.0 | 1.2 | 0.2 | setosa |\n",
       "| 5.7 | 4.4 | 1.5 | 0.4 | setosa |\n",
       "| 5.4 | 3.9 | 1.3 | 0.4 | setosa |\n",
       "| 5.1 | 3.5 | 1.4 | 0.3 | setosa |\n",
       "| 5.7 | 3.8 | 1.7 | 0.3 | setosa |\n",
       "| 5.1 | 3.8 | 1.5 | 0.3 | setosa |\n",
       "| 5.4 | 3.4 | 1.7 | 0.2 | setosa |\n",
       "| 5.1 | 3.7 | 1.5 | 0.4 | setosa |\n",
       "| 4.6 | 3.6 | 1.0 | 0.2 | setosa |\n",
       "| 5.1 | 3.3 | 1.7 | 0.5 | setosa |\n",
       "| 4.8 | 3.4 | 1.9 | 0.2 | setosa |\n",
       "| 5.0 | 3.0 | 1.6 | 0.2 | setosa |\n",
       "| 5.0 | 3.4 | 1.6 | 0.4 | setosa |\n",
       "| 5.2 | 3.5 | 1.5 | 0.2 | setosa |\n",
       "| 5.2 | 3.4 | 1.4 | 0.2 | setosa |\n",
       "| 4.7 | 3.2 | 1.6 | 0.2 | setosa |\n",
       "| ⋮ | ⋮ | ⋮ | ⋮ | ⋮ |\n",
       "| 6.9 | 3.2 | 5.7 | 2.3 | virginica |\n",
       "| 5.6 | 2.8 | 4.9 | 2.0 | virginica |\n",
       "| 7.7 | 2.8 | 6.7 | 2.0 | virginica |\n",
       "| 6.3 | 2.7 | 4.9 | 1.8 | virginica |\n",
       "| 6.7 | 3.3 | 5.7 | 2.1 | virginica |\n",
       "| 7.2 | 3.2 | 6.0 | 1.8 | virginica |\n",
       "| 6.2 | 2.8 | 4.8 | 1.8 | virginica |\n",
       "| 6.1 | 3.0 | 4.9 | 1.8 | virginica |\n",
       "| 6.4 | 2.8 | 5.6 | 2.1 | virginica |\n",
       "| 7.2 | 3.0 | 5.8 | 1.6 | virginica |\n",
       "| 7.4 | 2.8 | 6.1 | 1.9 | virginica |\n",
       "| 7.9 | 3.8 | 6.4 | 2.0 | virginica |\n",
       "| 6.4 | 2.8 | 5.6 | 2.2 | virginica |\n",
       "| 6.3 | 2.8 | 5.1 | 1.5 | virginica |\n",
       "| 6.1 | 2.6 | 5.6 | 1.4 | virginica |\n",
       "| 7.7 | 3.0 | 6.1 | 2.3 | virginica |\n",
       "| 6.3 | 3.4 | 5.6 | 2.4 | virginica |\n",
       "| 6.4 | 3.1 | 5.5 | 1.8 | virginica |\n",
       "| 6.0 | 3.0 | 4.8 | 1.8 | virginica |\n",
       "| 6.9 | 3.1 | 5.4 | 2.1 | virginica |\n",
       "| 6.7 | 3.1 | 5.6 | 2.4 | virginica |\n",
       "| 6.9 | 3.1 | 5.1 | 2.3 | virginica |\n",
       "| 5.8 | 2.7 | 5.1 | 1.9 | virginica |\n",
       "| 6.8 | 3.2 | 5.9 | 2.3 | virginica |\n",
       "| 6.7 | 3.3 | 5.7 | 2.5 | virginica |\n",
       "| 6.7 | 3.0 | 5.2 | 2.3 | virginica |\n",
       "| 6.3 | 2.5 | 5.0 | 1.9 | virginica |\n",
       "| 6.5 | 3.0 | 5.2 | 2.0 | virginica |\n",
       "| 6.2 | 3.4 | 5.4 | 2.3 | virginica |\n",
       "| 5.9 | 3.0 | 5.1 | 1.8 | virginica |\n",
       "\n"
      ],
      "text/plain": [
       "    Sepal.Length Sepal.Width Petal.Length Petal.Width Species  \n",
       "1   5.1          3.5         1.4          0.2         setosa   \n",
       "2   4.9          3.0         1.4          0.2         setosa   \n",
       "3   4.7          3.2         1.3          0.2         setosa   \n",
       "4   4.6          3.1         1.5          0.2         setosa   \n",
       "5   5.0          3.6         1.4          0.2         setosa   \n",
       "6   5.4          3.9         1.7          0.4         setosa   \n",
       "7   4.6          3.4         1.4          0.3         setosa   \n",
       "8   5.0          3.4         1.5          0.2         setosa   \n",
       "9   4.4          2.9         1.4          0.2         setosa   \n",
       "10  4.9          3.1         1.5          0.1         setosa   \n",
       "11  5.4          3.7         1.5          0.2         setosa   \n",
       "12  4.8          3.4         1.6          0.2         setosa   \n",
       "13  4.8          3.0         1.4          0.1         setosa   \n",
       "14  4.3          3.0         1.1          0.1         setosa   \n",
       "15  5.8          4.0         1.2          0.2         setosa   \n",
       "16  5.7          4.4         1.5          0.4         setosa   \n",
       "17  5.4          3.9         1.3          0.4         setosa   \n",
       "18  5.1          3.5         1.4          0.3         setosa   \n",
       "19  5.7          3.8         1.7          0.3         setosa   \n",
       "20  5.1          3.8         1.5          0.3         setosa   \n",
       "21  5.4          3.4         1.7          0.2         setosa   \n",
       "22  5.1          3.7         1.5          0.4         setosa   \n",
       "23  4.6          3.6         1.0          0.2         setosa   \n",
       "24  5.1          3.3         1.7          0.5         setosa   \n",
       "25  4.8          3.4         1.9          0.2         setosa   \n",
       "26  5.0          3.0         1.6          0.2         setosa   \n",
       "27  5.0          3.4         1.6          0.4         setosa   \n",
       "28  5.2          3.5         1.5          0.2         setosa   \n",
       "29  5.2          3.4         1.4          0.2         setosa   \n",
       "30  4.7          3.2         1.6          0.2         setosa   \n",
       "⋮   ⋮            ⋮           ⋮            ⋮           ⋮        \n",
       "121 6.9          3.2         5.7          2.3         virginica\n",
       "122 5.6          2.8         4.9          2.0         virginica\n",
       "123 7.7          2.8         6.7          2.0         virginica\n",
       "124 6.3          2.7         4.9          1.8         virginica\n",
       "125 6.7          3.3         5.7          2.1         virginica\n",
       "126 7.2          3.2         6.0          1.8         virginica\n",
       "127 6.2          2.8         4.8          1.8         virginica\n",
       "128 6.1          3.0         4.9          1.8         virginica\n",
       "129 6.4          2.8         5.6          2.1         virginica\n",
       "130 7.2          3.0         5.8          1.6         virginica\n",
       "131 7.4          2.8         6.1          1.9         virginica\n",
       "132 7.9          3.8         6.4          2.0         virginica\n",
       "133 6.4          2.8         5.6          2.2         virginica\n",
       "134 6.3          2.8         5.1          1.5         virginica\n",
       "135 6.1          2.6         5.6          1.4         virginica\n",
       "136 7.7          3.0         6.1          2.3         virginica\n",
       "137 6.3          3.4         5.6          2.4         virginica\n",
       "138 6.4          3.1         5.5          1.8         virginica\n",
       "139 6.0          3.0         4.8          1.8         virginica\n",
       "140 6.9          3.1         5.4          2.1         virginica\n",
       "141 6.7          3.1         5.6          2.4         virginica\n",
       "142 6.9          3.1         5.1          2.3         virginica\n",
       "143 5.8          2.7         5.1          1.9         virginica\n",
       "144 6.8          3.2         5.9          2.3         virginica\n",
       "145 6.7          3.3         5.7          2.5         virginica\n",
       "146 6.7          3.0         5.2          2.3         virginica\n",
       "147 6.3          2.5         5.0          1.9         virginica\n",
       "148 6.5          3.0         5.2          2.0         virginica\n",
       "149 6.2          3.4         5.4          2.3         virginica\n",
       "150 5.9          3.0         5.1          1.8         virginica"
      ]
     },
     "metadata": {},
     "output_type": "display_data"
    }
   ],
   "source": [
    "library(tidyverse)\n",
    "library(e1071)\n",
    "library(kernlab)\n",
    "data(iris)\n",
    "\n",
    "dataframe_a <- data.frame(X1 = c(0, 4), X2 = c(0, 4), Y = c(1, -1))\n",
    "dataframe_a$Y <- as.factor(dataframe_a$Y)\n",
    "dataframe_a\n",
    "\n",
    "dataframe_b <- data.frame(X1 = c(2, 0, 1), X2 = c(0, 0, 1), Y = c(1, -1, -1))\n",
    "dataframe_b$Y <- as.factor(dataframe_b$Y)\n",
    "dataframe_b\n",
    "\n",
    "dataframe_c <- data.frame(X1 = c(2, 2, -2, -2, 1, 1, -1, -1),\n",
    "                          X2 = c(2, -2, -2, 2, 1, -1, -1, 1),\n",
    "                          Y = c(rep(1, 4), rep(-1, 4)))\n",
    "dataframe_c$Y <- as.factor(dataframe_c$Y)\n",
    "dataframe_c\n",
    "\n",
    "dataframe_d <- dataframe_c\n",
    "x1_x2 <- transformacion(dataframe_d$X1, dataframe_d$X2)\n",
    "dataframe_d$X1 <- x1_x2$X1\n",
    "dataframe_d$X2 <- x1_x2$X2\n",
    "dataframe_d\n",
    "\n",
    "dataframe_e <- data.frame(X1 = c(3, 3, 6, 6, 1, 0, 0, -1),\n",
    "                          X2 = c(1, -1, 1, -1, 0, 1, -1, 0),\n",
    "                          Y = c(rep(1, 4), rep(-1, 4)))\n",
    "dataframe_e$Y <- as.factor(dataframe_e$Y)\n",
    "dataframe_e\n",
    "\n",
    "iris"
   ]
  },
  {
   "cell_type": "markdown",
   "metadata": {},
   "source": [
    "## Desarrollo\n",
    "Primero, usamos la función *svm* para crear las máquinas vector soporte para cada dataframe."
   ]
  },
  {
   "cell_type": "code",
   "execution_count": 93,
   "metadata": {
    "vscode": {
     "languageId": "r"
    }
   },
   "outputs": [],
   "source": [
    "svm_df_a <- svm(Y ~ ., dataframe_a, kernel = \"linear\")\n",
    "svm_df_b <- svm(Y ~ ., dataframe_b, kernel = \"linear\")\n",
    "svm_df_c <- svm(Y ~ ., dataframe_c, kernel = \"linear\")\n",
    "svm_df_d <- svm(Y ~ ., dataframe_d, kernel = \"linear\")\n",
    "svm_df_e <- svm(Y ~ ., dataframe_e, kernel = \"linear\")\n",
    "svm_iris <- svm(Species ~ ., iris, kernel = \"linear\")"
   ]
  },
  {
   "cell_type": "markdown",
   "metadata": {},
   "source": [
    "Una vez tenemos nuestra máquina vector soporte, podemos determinar los vectores soporte."
   ]
  },
  {
   "cell_type": "code",
   "execution_count": 102,
   "metadata": {
    "vscode": {
     "languageId": "r"
    }
   },
   "outputs": [
    {
     "data": {
      "text/html": [
       "<table class=\"dataframe\">\n",
       "<caption>A data.frame: 2 × 2</caption>\n",
       "<thead>\n",
       "\t<tr><th></th><th scope=col>X1</th><th scope=col>X2</th></tr>\n",
       "\t<tr><th></th><th scope=col>&lt;dbl&gt;</th><th scope=col>&lt;dbl&gt;</th></tr>\n",
       "</thead>\n",
       "<tbody>\n",
       "\t<tr><th scope=row>1</th><td>0</td><td>0</td></tr>\n",
       "\t<tr><th scope=row>2</th><td>4</td><td>4</td></tr>\n",
       "</tbody>\n",
       "</table>\n"
      ],
      "text/latex": [
       "A data.frame: 2 × 2\n",
       "\\begin{tabular}{r|ll}\n",
       "  & X1 & X2\\\\\n",
       "  & <dbl> & <dbl>\\\\\n",
       "\\hline\n",
       "\t1 & 0 & 0\\\\\n",
       "\t2 & 4 & 4\\\\\n",
       "\\end{tabular}\n"
      ],
      "text/markdown": [
       "\n",
       "A data.frame: 2 × 2\n",
       "\n",
       "| <!--/--> | X1 &lt;dbl&gt; | X2 &lt;dbl&gt; |\n",
       "|---|---|---|\n",
       "| 1 | 0 | 0 |\n",
       "| 2 | 4 | 4 |\n",
       "\n"
      ],
      "text/plain": [
       "  X1 X2\n",
       "1 0  0 \n",
       "2 4  4 "
      ]
     },
     "metadata": {},
     "output_type": "display_data"
    },
    {
     "data": {
      "text/html": [
       "<table class=\"dataframe\">\n",
       "<caption>A data.frame: 3 × 2</caption>\n",
       "<thead>\n",
       "\t<tr><th></th><th scope=col>X1</th><th scope=col>X2</th></tr>\n",
       "\t<tr><th></th><th scope=col>&lt;dbl&gt;</th><th scope=col>&lt;dbl&gt;</th></tr>\n",
       "</thead>\n",
       "<tbody>\n",
       "\t<tr><th scope=row>1</th><td>2</td><td>0</td></tr>\n",
       "\t<tr><th scope=row>2</th><td>0</td><td>0</td></tr>\n",
       "\t<tr><th scope=row>3</th><td>1</td><td>1</td></tr>\n",
       "</tbody>\n",
       "</table>\n"
      ],
      "text/latex": [
       "A data.frame: 3 × 2\n",
       "\\begin{tabular}{r|ll}\n",
       "  & X1 & X2\\\\\n",
       "  & <dbl> & <dbl>\\\\\n",
       "\\hline\n",
       "\t1 & 2 & 0\\\\\n",
       "\t2 & 0 & 0\\\\\n",
       "\t3 & 1 & 1\\\\\n",
       "\\end{tabular}\n"
      ],
      "text/markdown": [
       "\n",
       "A data.frame: 3 × 2\n",
       "\n",
       "| <!--/--> | X1 &lt;dbl&gt; | X2 &lt;dbl&gt; |\n",
       "|---|---|---|\n",
       "| 1 | 2 | 0 |\n",
       "| 2 | 0 | 0 |\n",
       "| 3 | 1 | 1 |\n",
       "\n"
      ],
      "text/plain": [
       "  X1 X2\n",
       "1 2  0 \n",
       "2 0  0 \n",
       "3 1  1 "
      ]
     },
     "metadata": {},
     "output_type": "display_data"
    },
    {
     "data": {
      "text/html": [
       "<table class=\"dataframe\">\n",
       "<caption>A data.frame: 8 × 2</caption>\n",
       "<thead>\n",
       "\t<tr><th></th><th scope=col>X1</th><th scope=col>X2</th></tr>\n",
       "\t<tr><th></th><th scope=col>&lt;dbl&gt;</th><th scope=col>&lt;dbl&gt;</th></tr>\n",
       "</thead>\n",
       "<tbody>\n",
       "\t<tr><th scope=row>1</th><td> 2</td><td> 2</td></tr>\n",
       "\t<tr><th scope=row>2</th><td> 2</td><td>-2</td></tr>\n",
       "\t<tr><th scope=row>3</th><td>-2</td><td>-2</td></tr>\n",
       "\t<tr><th scope=row>4</th><td>-2</td><td> 2</td></tr>\n",
       "\t<tr><th scope=row>5</th><td> 1</td><td> 1</td></tr>\n",
       "\t<tr><th scope=row>6</th><td> 1</td><td>-1</td></tr>\n",
       "\t<tr><th scope=row>7</th><td>-1</td><td>-1</td></tr>\n",
       "\t<tr><th scope=row>8</th><td>-1</td><td> 1</td></tr>\n",
       "</tbody>\n",
       "</table>\n"
      ],
      "text/latex": [
       "A data.frame: 8 × 2\n",
       "\\begin{tabular}{r|ll}\n",
       "  & X1 & X2\\\\\n",
       "  & <dbl> & <dbl>\\\\\n",
       "\\hline\n",
       "\t1 &  2 &  2\\\\\n",
       "\t2 &  2 & -2\\\\\n",
       "\t3 & -2 & -2\\\\\n",
       "\t4 & -2 &  2\\\\\n",
       "\t5 &  1 &  1\\\\\n",
       "\t6 &  1 & -1\\\\\n",
       "\t7 & -1 & -1\\\\\n",
       "\t8 & -1 &  1\\\\\n",
       "\\end{tabular}\n"
      ],
      "text/markdown": [
       "\n",
       "A data.frame: 8 × 2\n",
       "\n",
       "| <!--/--> | X1 &lt;dbl&gt; | X2 &lt;dbl&gt; |\n",
       "|---|---|---|\n",
       "| 1 |  2 |  2 |\n",
       "| 2 |  2 | -2 |\n",
       "| 3 | -2 | -2 |\n",
       "| 4 | -2 |  2 |\n",
       "| 5 |  1 |  1 |\n",
       "| 6 |  1 | -1 |\n",
       "| 7 | -1 | -1 |\n",
       "| 8 | -1 |  1 |\n",
       "\n"
      ],
      "text/plain": [
       "  X1 X2\n",
       "1  2  2\n",
       "2  2 -2\n",
       "3 -2 -2\n",
       "4 -2  2\n",
       "5  1  1\n",
       "6  1 -1\n",
       "7 -1 -1\n",
       "8 -1  1"
      ]
     },
     "metadata": {},
     "output_type": "display_data"
    },
    {
     "data": {
      "text/html": [
       "<table class=\"dataframe\">\n",
       "<caption>A data.frame: 4 × 2</caption>\n",
       "<thead>\n",
       "\t<tr><th></th><th scope=col>X1</th><th scope=col>X2</th></tr>\n",
       "\t<tr><th></th><th scope=col>&lt;dbl&gt;</th><th scope=col>&lt;dbl&gt;</th></tr>\n",
       "</thead>\n",
       "<tbody>\n",
       "\t<tr><th scope=row>1</th><td>2</td><td>2</td></tr>\n",
       "\t<tr><th scope=row>4</th><td>2</td><td>2</td></tr>\n",
       "\t<tr><th scope=row>5</th><td>1</td><td>1</td></tr>\n",
       "\t<tr><th scope=row>8</th><td>1</td><td>1</td></tr>\n",
       "</tbody>\n",
       "</table>\n"
      ],
      "text/latex": [
       "A data.frame: 4 × 2\n",
       "\\begin{tabular}{r|ll}\n",
       "  & X1 & X2\\\\\n",
       "  & <dbl> & <dbl>\\\\\n",
       "\\hline\n",
       "\t1 & 2 & 2\\\\\n",
       "\t4 & 2 & 2\\\\\n",
       "\t5 & 1 & 1\\\\\n",
       "\t8 & 1 & 1\\\\\n",
       "\\end{tabular}\n"
      ],
      "text/markdown": [
       "\n",
       "A data.frame: 4 × 2\n",
       "\n",
       "| <!--/--> | X1 &lt;dbl&gt; | X2 &lt;dbl&gt; |\n",
       "|---|---|---|\n",
       "| 1 | 2 | 2 |\n",
       "| 4 | 2 | 2 |\n",
       "| 5 | 1 | 1 |\n",
       "| 8 | 1 | 1 |\n",
       "\n"
      ],
      "text/plain": [
       "  X1 X2\n",
       "1 2  2 \n",
       "4 2  2 \n",
       "5 1  1 \n",
       "8 1  1 "
      ]
     },
     "metadata": {},
     "output_type": "display_data"
    },
    {
     "data": {
      "text/html": [
       "<table class=\"dataframe\">\n",
       "<caption>A data.frame: 5 × 2</caption>\n",
       "<thead>\n",
       "\t<tr><th></th><th scope=col>X1</th><th scope=col>X2</th></tr>\n",
       "\t<tr><th></th><th scope=col>&lt;dbl&gt;</th><th scope=col>&lt;dbl&gt;</th></tr>\n",
       "</thead>\n",
       "<tbody>\n",
       "\t<tr><th scope=row>1</th><td>3</td><td> 1</td></tr>\n",
       "\t<tr><th scope=row>2</th><td>3</td><td>-1</td></tr>\n",
       "\t<tr><th scope=row>5</th><td>1</td><td> 0</td></tr>\n",
       "\t<tr><th scope=row>6</th><td>0</td><td> 1</td></tr>\n",
       "\t<tr><th scope=row>7</th><td>0</td><td>-1</td></tr>\n",
       "</tbody>\n",
       "</table>\n"
      ],
      "text/latex": [
       "A data.frame: 5 × 2\n",
       "\\begin{tabular}{r|ll}\n",
       "  & X1 & X2\\\\\n",
       "  & <dbl> & <dbl>\\\\\n",
       "\\hline\n",
       "\t1 & 3 &  1\\\\\n",
       "\t2 & 3 & -1\\\\\n",
       "\t5 & 1 &  0\\\\\n",
       "\t6 & 0 &  1\\\\\n",
       "\t7 & 0 & -1\\\\\n",
       "\\end{tabular}\n"
      ],
      "text/markdown": [
       "\n",
       "A data.frame: 5 × 2\n",
       "\n",
       "| <!--/--> | X1 &lt;dbl&gt; | X2 &lt;dbl&gt; |\n",
       "|---|---|---|\n",
       "| 1 | 3 |  1 |\n",
       "| 2 | 3 | -1 |\n",
       "| 5 | 1 |  0 |\n",
       "| 6 | 0 |  1 |\n",
       "| 7 | 0 | -1 |\n",
       "\n"
      ],
      "text/plain": [
       "  X1 X2\n",
       "1 3   1\n",
       "2 3  -1\n",
       "5 1   0\n",
       "6 0   1\n",
       "7 0  -1"
      ]
     },
     "metadata": {},
     "output_type": "display_data"
    },
    {
     "data": {
      "text/html": [
       "<table class=\"dataframe\">\n",
       "<caption>A data.frame: 29 × 4</caption>\n",
       "<thead>\n",
       "\t<tr><th></th><th scope=col>Sepal.Length</th><th scope=col>Sepal.Width</th><th scope=col>Petal.Length</th><th scope=col>Petal.Width</th></tr>\n",
       "\t<tr><th></th><th scope=col>&lt;dbl&gt;</th><th scope=col>&lt;dbl&gt;</th><th scope=col>&lt;dbl&gt;</th><th scope=col>&lt;dbl&gt;</th></tr>\n",
       "</thead>\n",
       "<tbody>\n",
       "\t<tr><th scope=row>24</th><td>5.1</td><td>3.3</td><td>1.7</td><td>0.5</td></tr>\n",
       "\t<tr><th scope=row>42</th><td>4.5</td><td>2.3</td><td>1.3</td><td>0.3</td></tr>\n",
       "\t<tr><th scope=row>53</th><td>6.9</td><td>3.1</td><td>4.9</td><td>1.5</td></tr>\n",
       "\t<tr><th scope=row>55</th><td>6.5</td><td>2.8</td><td>4.6</td><td>1.5</td></tr>\n",
       "\t<tr><th scope=row>57</th><td>6.3</td><td>3.3</td><td>4.7</td><td>1.6</td></tr>\n",
       "\t<tr><th scope=row>58</th><td>4.9</td><td>2.4</td><td>3.3</td><td>1.0</td></tr>\n",
       "\t<tr><th scope=row>67</th><td>5.6</td><td>3.0</td><td>4.5</td><td>1.5</td></tr>\n",
       "\t<tr><th scope=row>69</th><td>6.2</td><td>2.2</td><td>4.5</td><td>1.5</td></tr>\n",
       "\t<tr><th scope=row>71</th><td>5.9</td><td>3.2</td><td>4.8</td><td>1.8</td></tr>\n",
       "\t<tr><th scope=row>73</th><td>6.3</td><td>2.5</td><td>4.9</td><td>1.5</td></tr>\n",
       "\t<tr><th scope=row>77</th><td>6.8</td><td>2.8</td><td>4.8</td><td>1.4</td></tr>\n",
       "\t<tr><th scope=row>78</th><td>6.7</td><td>3.0</td><td>5.0</td><td>1.7</td></tr>\n",
       "\t<tr><th scope=row>79</th><td>6.0</td><td>2.9</td><td>4.5</td><td>1.5</td></tr>\n",
       "\t<tr><th scope=row>84</th><td>6.0</td><td>2.7</td><td>5.1</td><td>1.6</td></tr>\n",
       "\t<tr><th scope=row>85</th><td>5.4</td><td>3.0</td><td>4.5</td><td>1.5</td></tr>\n",
       "\t<tr><th scope=row>88</th><td>6.3</td><td>2.3</td><td>4.4</td><td>1.3</td></tr>\n",
       "\t<tr><th scope=row>99</th><td>5.1</td><td>2.5</td><td>3.0</td><td>1.1</td></tr>\n",
       "\t<tr><th scope=row>107</th><td>4.9</td><td>2.5</td><td>4.5</td><td>1.7</td></tr>\n",
       "\t<tr><th scope=row>111</th><td>6.5</td><td>3.2</td><td>5.1</td><td>2.0</td></tr>\n",
       "\t<tr><th scope=row>120</th><td>6.0</td><td>2.2</td><td>5.0</td><td>1.5</td></tr>\n",
       "\t<tr><th scope=row>124</th><td>6.3</td><td>2.7</td><td>4.9</td><td>1.8</td></tr>\n",
       "\t<tr><th scope=row>127</th><td>6.2</td><td>2.8</td><td>4.8</td><td>1.8</td></tr>\n",
       "\t<tr><th scope=row>128</th><td>6.1</td><td>3.0</td><td>4.9</td><td>1.8</td></tr>\n",
       "\t<tr><th scope=row>130</th><td>7.2</td><td>3.0</td><td>5.8</td><td>1.6</td></tr>\n",
       "\t<tr><th scope=row>134</th><td>6.3</td><td>2.8</td><td>5.1</td><td>1.5</td></tr>\n",
       "\t<tr><th scope=row>135</th><td>6.1</td><td>2.6</td><td>5.6</td><td>1.4</td></tr>\n",
       "\t<tr><th scope=row>138</th><td>6.4</td><td>3.1</td><td>5.5</td><td>1.8</td></tr>\n",
       "\t<tr><th scope=row>139</th><td>6.0</td><td>3.0</td><td>4.8</td><td>1.8</td></tr>\n",
       "\t<tr><th scope=row>150</th><td>5.9</td><td>3.0</td><td>5.1</td><td>1.8</td></tr>\n",
       "</tbody>\n",
       "</table>\n"
      ],
      "text/latex": [
       "A data.frame: 29 × 4\n",
       "\\begin{tabular}{r|llll}\n",
       "  & Sepal.Length & Sepal.Width & Petal.Length & Petal.Width\\\\\n",
       "  & <dbl> & <dbl> & <dbl> & <dbl>\\\\\n",
       "\\hline\n",
       "\t24 & 5.1 & 3.3 & 1.7 & 0.5\\\\\n",
       "\t42 & 4.5 & 2.3 & 1.3 & 0.3\\\\\n",
       "\t53 & 6.9 & 3.1 & 4.9 & 1.5\\\\\n",
       "\t55 & 6.5 & 2.8 & 4.6 & 1.5\\\\\n",
       "\t57 & 6.3 & 3.3 & 4.7 & 1.6\\\\\n",
       "\t58 & 4.9 & 2.4 & 3.3 & 1.0\\\\\n",
       "\t67 & 5.6 & 3.0 & 4.5 & 1.5\\\\\n",
       "\t69 & 6.2 & 2.2 & 4.5 & 1.5\\\\\n",
       "\t71 & 5.9 & 3.2 & 4.8 & 1.8\\\\\n",
       "\t73 & 6.3 & 2.5 & 4.9 & 1.5\\\\\n",
       "\t77 & 6.8 & 2.8 & 4.8 & 1.4\\\\\n",
       "\t78 & 6.7 & 3.0 & 5.0 & 1.7\\\\\n",
       "\t79 & 6.0 & 2.9 & 4.5 & 1.5\\\\\n",
       "\t84 & 6.0 & 2.7 & 5.1 & 1.6\\\\\n",
       "\t85 & 5.4 & 3.0 & 4.5 & 1.5\\\\\n",
       "\t88 & 6.3 & 2.3 & 4.4 & 1.3\\\\\n",
       "\t99 & 5.1 & 2.5 & 3.0 & 1.1\\\\\n",
       "\t107 & 4.9 & 2.5 & 4.5 & 1.7\\\\\n",
       "\t111 & 6.5 & 3.2 & 5.1 & 2.0\\\\\n",
       "\t120 & 6.0 & 2.2 & 5.0 & 1.5\\\\\n",
       "\t124 & 6.3 & 2.7 & 4.9 & 1.8\\\\\n",
       "\t127 & 6.2 & 2.8 & 4.8 & 1.8\\\\\n",
       "\t128 & 6.1 & 3.0 & 4.9 & 1.8\\\\\n",
       "\t130 & 7.2 & 3.0 & 5.8 & 1.6\\\\\n",
       "\t134 & 6.3 & 2.8 & 5.1 & 1.5\\\\\n",
       "\t135 & 6.1 & 2.6 & 5.6 & 1.4\\\\\n",
       "\t138 & 6.4 & 3.1 & 5.5 & 1.8\\\\\n",
       "\t139 & 6.0 & 3.0 & 4.8 & 1.8\\\\\n",
       "\t150 & 5.9 & 3.0 & 5.1 & 1.8\\\\\n",
       "\\end{tabular}\n"
      ],
      "text/markdown": [
       "\n",
       "A data.frame: 29 × 4\n",
       "\n",
       "| <!--/--> | Sepal.Length &lt;dbl&gt; | Sepal.Width &lt;dbl&gt; | Petal.Length &lt;dbl&gt; | Petal.Width &lt;dbl&gt; |\n",
       "|---|---|---|---|---|\n",
       "| 24 | 5.1 | 3.3 | 1.7 | 0.5 |\n",
       "| 42 | 4.5 | 2.3 | 1.3 | 0.3 |\n",
       "| 53 | 6.9 | 3.1 | 4.9 | 1.5 |\n",
       "| 55 | 6.5 | 2.8 | 4.6 | 1.5 |\n",
       "| 57 | 6.3 | 3.3 | 4.7 | 1.6 |\n",
       "| 58 | 4.9 | 2.4 | 3.3 | 1.0 |\n",
       "| 67 | 5.6 | 3.0 | 4.5 | 1.5 |\n",
       "| 69 | 6.2 | 2.2 | 4.5 | 1.5 |\n",
       "| 71 | 5.9 | 3.2 | 4.8 | 1.8 |\n",
       "| 73 | 6.3 | 2.5 | 4.9 | 1.5 |\n",
       "| 77 | 6.8 | 2.8 | 4.8 | 1.4 |\n",
       "| 78 | 6.7 | 3.0 | 5.0 | 1.7 |\n",
       "| 79 | 6.0 | 2.9 | 4.5 | 1.5 |\n",
       "| 84 | 6.0 | 2.7 | 5.1 | 1.6 |\n",
       "| 85 | 5.4 | 3.0 | 4.5 | 1.5 |\n",
       "| 88 | 6.3 | 2.3 | 4.4 | 1.3 |\n",
       "| 99 | 5.1 | 2.5 | 3.0 | 1.1 |\n",
       "| 107 | 4.9 | 2.5 | 4.5 | 1.7 |\n",
       "| 111 | 6.5 | 3.2 | 5.1 | 2.0 |\n",
       "| 120 | 6.0 | 2.2 | 5.0 | 1.5 |\n",
       "| 124 | 6.3 | 2.7 | 4.9 | 1.8 |\n",
       "| 127 | 6.2 | 2.8 | 4.8 | 1.8 |\n",
       "| 128 | 6.1 | 3.0 | 4.9 | 1.8 |\n",
       "| 130 | 7.2 | 3.0 | 5.8 | 1.6 |\n",
       "| 134 | 6.3 | 2.8 | 5.1 | 1.5 |\n",
       "| 135 | 6.1 | 2.6 | 5.6 | 1.4 |\n",
       "| 138 | 6.4 | 3.1 | 5.5 | 1.8 |\n",
       "| 139 | 6.0 | 3.0 | 4.8 | 1.8 |\n",
       "| 150 | 5.9 | 3.0 | 5.1 | 1.8 |\n",
       "\n"
      ],
      "text/plain": [
       "    Sepal.Length Sepal.Width Petal.Length Petal.Width\n",
       "24  5.1          3.3         1.7          0.5        \n",
       "42  4.5          2.3         1.3          0.3        \n",
       "53  6.9          3.1         4.9          1.5        \n",
       "55  6.5          2.8         4.6          1.5        \n",
       "57  6.3          3.3         4.7          1.6        \n",
       "58  4.9          2.4         3.3          1.0        \n",
       "67  5.6          3.0         4.5          1.5        \n",
       "69  6.2          2.2         4.5          1.5        \n",
       "71  5.9          3.2         4.8          1.8        \n",
       "73  6.3          2.5         4.9          1.5        \n",
       "77  6.8          2.8         4.8          1.4        \n",
       "78  6.7          3.0         5.0          1.7        \n",
       "79  6.0          2.9         4.5          1.5        \n",
       "84  6.0          2.7         5.1          1.6        \n",
       "85  5.4          3.0         4.5          1.5        \n",
       "88  6.3          2.3         4.4          1.3        \n",
       "99  5.1          2.5         3.0          1.1        \n",
       "107 4.9          2.5         4.5          1.7        \n",
       "111 6.5          3.2         5.1          2.0        \n",
       "120 6.0          2.2         5.0          1.5        \n",
       "124 6.3          2.7         4.9          1.8        \n",
       "127 6.2          2.8         4.8          1.8        \n",
       "128 6.1          3.0         4.9          1.8        \n",
       "130 7.2          3.0         5.8          1.6        \n",
       "134 6.3          2.8         5.1          1.5        \n",
       "135 6.1          2.6         5.6          1.4        \n",
       "138 6.4          3.1         5.5          1.8        \n",
       "139 6.0          3.0         4.8          1.8        \n",
       "150 5.9          3.0         5.1          1.8        "
      ]
     },
     "metadata": {},
     "output_type": "display_data"
    }
   ],
   "source": [
    "support_vectors_df_a <- dataframe_a[svm_df_a$index, -length(dataframe_a)]\n",
    "support_vectors_df_a\n",
    "support_vectors_df_b <- dataframe_b[svm_df_b$index, -length(dataframe_b)]\n",
    "support_vectors_df_b\n",
    "support_vectors_df_c <- dataframe_c[svm_df_c$index, -length(dataframe_c)]\n",
    "support_vectors_df_c\n",
    "support_vectors_df_d <- dataframe_d[svm_df_d$index, -length(dataframe_d)]\n",
    "support_vectors_df_d\n",
    "support_vectors_df_e <- dataframe_e[svm_df_e$index, -length(dataframe_e)]\n",
    "support_vectors_df_e\n",
    "support_vectors_iris <- iris[svm_iris$index, -length(iris)]\n",
    "support_vectors_iris"
   ]
  },
  {
   "cell_type": "markdown",
   "metadata": {},
   "source": [
    "Para calcular los valores de cada kernel, podemos usar nuestra función auxiliar *kernel*."
   ]
  },
  {
   "cell_type": "code",
   "execution_count": 83,
   "metadata": {
    "vscode": {
     "languageId": "r"
    }
   },
   "outputs": [
    {
     "data": {
      "text/html": [
       "<table class=\"dataframe\">\n",
       "<caption>A matrix: 2 × 2 of type dbl</caption>\n",
       "<tbody>\n",
       "\t<tr><td>0</td><td> 0</td></tr>\n",
       "\t<tr><td>0</td><td>32</td></tr>\n",
       "</tbody>\n",
       "</table>\n"
      ],
      "text/latex": [
       "A matrix: 2 × 2 of type dbl\n",
       "\\begin{tabular}{ll}\n",
       "\t 0 &  0\\\\\n",
       "\t 0 & 32\\\\\n",
       "\\end{tabular}\n"
      ],
      "text/markdown": [
       "\n",
       "A matrix: 2 × 2 of type dbl\n",
       "\n",
       "| 0 |  0 |\n",
       "| 0 | 32 |\n",
       "\n"
      ],
      "text/plain": [
       "     [,1] [,2]\n",
       "[1,] 0     0  \n",
       "[2,] 0    32  "
      ]
     },
     "metadata": {},
     "output_type": "display_data"
    },
    {
     "data": {
      "text/html": [
       "<table class=\"dataframe\">\n",
       "<caption>A matrix: 3 × 3 of type dbl</caption>\n",
       "<tbody>\n",
       "\t<tr><td>4</td><td>0</td><td>2</td></tr>\n",
       "\t<tr><td>0</td><td>0</td><td>0</td></tr>\n",
       "\t<tr><td>2</td><td>0</td><td>2</td></tr>\n",
       "</tbody>\n",
       "</table>\n"
      ],
      "text/latex": [
       "A matrix: 3 × 3 of type dbl\n",
       "\\begin{tabular}{lll}\n",
       "\t 4 & 0 & 2\\\\\n",
       "\t 0 & 0 & 0\\\\\n",
       "\t 2 & 0 & 2\\\\\n",
       "\\end{tabular}\n"
      ],
      "text/markdown": [
       "\n",
       "A matrix: 3 × 3 of type dbl\n",
       "\n",
       "| 4 | 0 | 2 |\n",
       "| 0 | 0 | 0 |\n",
       "| 2 | 0 | 2 |\n",
       "\n"
      ],
      "text/plain": [
       "     [,1] [,2] [,3]\n",
       "[1,] 4    0    2   \n",
       "[2,] 0    0    0   \n",
       "[3,] 2    0    2   "
      ]
     },
     "metadata": {},
     "output_type": "display_data"
    },
    {
     "data": {
      "text/html": [
       "<table class=\"dataframe\">\n",
       "<caption>A matrix: 8 × 8 of type dbl</caption>\n",
       "<tbody>\n",
       "\t<tr><td> 8</td><td> 0</td><td>-8</td><td> 0</td><td> 4</td><td> 0</td><td>-4</td><td> 0</td></tr>\n",
       "\t<tr><td> 0</td><td> 8</td><td> 0</td><td>-8</td><td> 0</td><td> 4</td><td> 0</td><td>-4</td></tr>\n",
       "\t<tr><td>-8</td><td> 0</td><td> 8</td><td> 0</td><td>-4</td><td> 0</td><td> 4</td><td> 0</td></tr>\n",
       "\t<tr><td> 0</td><td>-8</td><td> 0</td><td> 8</td><td> 0</td><td>-4</td><td> 0</td><td> 4</td></tr>\n",
       "\t<tr><td> 4</td><td> 0</td><td>-4</td><td> 0</td><td> 2</td><td> 0</td><td>-2</td><td> 0</td></tr>\n",
       "\t<tr><td> 0</td><td> 4</td><td> 0</td><td>-4</td><td> 0</td><td> 2</td><td> 0</td><td>-2</td></tr>\n",
       "\t<tr><td>-4</td><td> 0</td><td> 4</td><td> 0</td><td>-2</td><td> 0</td><td> 2</td><td> 0</td></tr>\n",
       "\t<tr><td> 0</td><td>-4</td><td> 0</td><td> 4</td><td> 0</td><td>-2</td><td> 0</td><td> 2</td></tr>\n",
       "</tbody>\n",
       "</table>\n"
      ],
      "text/latex": [
       "A matrix: 8 × 8 of type dbl\n",
       "\\begin{tabular}{llllllll}\n",
       "\t  8 &  0 & -8 &  0 &  4 &  0 & -4 &  0\\\\\n",
       "\t  0 &  8 &  0 & -8 &  0 &  4 &  0 & -4\\\\\n",
       "\t -8 &  0 &  8 &  0 & -4 &  0 &  4 &  0\\\\\n",
       "\t  0 & -8 &  0 &  8 &  0 & -4 &  0 &  4\\\\\n",
       "\t  4 &  0 & -4 &  0 &  2 &  0 & -2 &  0\\\\\n",
       "\t  0 &  4 &  0 & -4 &  0 &  2 &  0 & -2\\\\\n",
       "\t -4 &  0 &  4 &  0 & -2 &  0 &  2 &  0\\\\\n",
       "\t  0 & -4 &  0 &  4 &  0 & -2 &  0 &  2\\\\\n",
       "\\end{tabular}\n"
      ],
      "text/markdown": [
       "\n",
       "A matrix: 8 × 8 of type dbl\n",
       "\n",
       "|  8 |  0 | -8 |  0 |  4 |  0 | -4 |  0 |\n",
       "|  0 |  8 |  0 | -8 |  0 |  4 |  0 | -4 |\n",
       "| -8 |  0 |  8 |  0 | -4 |  0 |  4 |  0 |\n",
       "|  0 | -8 |  0 |  8 |  0 | -4 |  0 |  4 |\n",
       "|  4 |  0 | -4 |  0 |  2 |  0 | -2 |  0 |\n",
       "|  0 |  4 |  0 | -4 |  0 |  2 |  0 | -2 |\n",
       "| -4 |  0 |  4 |  0 | -2 |  0 |  2 |  0 |\n",
       "|  0 | -4 |  0 |  4 |  0 | -2 |  0 |  2 |\n",
       "\n"
      ],
      "text/plain": [
       "     [,1] [,2] [,3] [,4] [,5] [,6] [,7] [,8]\n",
       "[1,]  8    0   -8    0    4    0   -4    0  \n",
       "[2,]  0    8    0   -8    0    4    0   -4  \n",
       "[3,] -8    0    8    0   -4    0    4    0  \n",
       "[4,]  0   -8    0    8    0   -4    0    4  \n",
       "[5,]  4    0   -4    0    2    0   -2    0  \n",
       "[6,]  0    4    0   -4    0    2    0   -2  \n",
       "[7,] -4    0    4    0   -2    0    2    0  \n",
       "[8,]  0   -4    0    4    0   -2    0    2  "
      ]
     },
     "metadata": {},
     "output_type": "display_data"
    },
    {
     "data": {
      "text/html": [
       "<table class=\"dataframe\">\n",
       "<caption>A matrix: 8 × 8 of type dbl</caption>\n",
       "<tbody>\n",
       "\t<tr><td> 8</td><td> 24</td><td> 24</td><td> 8</td><td> 4</td><td> -4</td><td> -4</td><td> 4</td></tr>\n",
       "\t<tr><td>24</td><td> 72</td><td> 72</td><td>24</td><td>12</td><td>-12</td><td>-12</td><td>12</td></tr>\n",
       "\t<tr><td>24</td><td> 72</td><td> 72</td><td>24</td><td>12</td><td>-12</td><td>-12</td><td>12</td></tr>\n",
       "\t<tr><td> 8</td><td> 24</td><td> 24</td><td> 8</td><td> 4</td><td> -4</td><td> -4</td><td> 4</td></tr>\n",
       "\t<tr><td> 4</td><td> 12</td><td> 12</td><td> 4</td><td> 2</td><td> -2</td><td> -2</td><td> 2</td></tr>\n",
       "\t<tr><td>-4</td><td>-12</td><td>-12</td><td>-4</td><td>-2</td><td>  2</td><td>  2</td><td>-2</td></tr>\n",
       "\t<tr><td>-4</td><td>-12</td><td>-12</td><td>-4</td><td>-2</td><td>  2</td><td>  2</td><td>-2</td></tr>\n",
       "\t<tr><td> 4</td><td> 12</td><td> 12</td><td> 4</td><td> 2</td><td> -2</td><td> -2</td><td> 2</td></tr>\n",
       "</tbody>\n",
       "</table>\n"
      ],
      "text/latex": [
       "A matrix: 8 × 8 of type dbl\n",
       "\\begin{tabular}{llllllll}\n",
       "\t  8 &  24 &  24 &  8 &  4 &  -4 &  -4 &  4\\\\\n",
       "\t 24 &  72 &  72 & 24 & 12 & -12 & -12 & 12\\\\\n",
       "\t 24 &  72 &  72 & 24 & 12 & -12 & -12 & 12\\\\\n",
       "\t  8 &  24 &  24 &  8 &  4 &  -4 &  -4 &  4\\\\\n",
       "\t  4 &  12 &  12 &  4 &  2 &  -2 &  -2 &  2\\\\\n",
       "\t -4 & -12 & -12 & -4 & -2 &   2 &   2 & -2\\\\\n",
       "\t -4 & -12 & -12 & -4 & -2 &   2 &   2 & -2\\\\\n",
       "\t  4 &  12 &  12 &  4 &  2 &  -2 &  -2 &  2\\\\\n",
       "\\end{tabular}\n"
      ],
      "text/markdown": [
       "\n",
       "A matrix: 8 × 8 of type dbl\n",
       "\n",
       "|  8 |  24 |  24 |  8 |  4 |  -4 |  -4 |  4 |\n",
       "| 24 |  72 |  72 | 24 | 12 | -12 | -12 | 12 |\n",
       "| 24 |  72 |  72 | 24 | 12 | -12 | -12 | 12 |\n",
       "|  8 |  24 |  24 |  8 |  4 |  -4 |  -4 |  4 |\n",
       "|  4 |  12 |  12 |  4 |  2 |  -2 |  -2 |  2 |\n",
       "| -4 | -12 | -12 | -4 | -2 |   2 |   2 | -2 |\n",
       "| -4 | -12 | -12 | -4 | -2 |   2 |   2 | -2 |\n",
       "|  4 |  12 |  12 |  4 |  2 |  -2 |  -2 |  2 |\n",
       "\n"
      ],
      "text/plain": [
       "     [,1] [,2] [,3] [,4] [,5] [,6] [,7] [,8]\n",
       "[1,]  8    24   24   8    4    -4   -4   4  \n",
       "[2,] 24    72   72  24   12   -12  -12  12  \n",
       "[3,] 24    72   72  24   12   -12  -12  12  \n",
       "[4,]  8    24   24   8    4    -4   -4   4  \n",
       "[5,]  4    12   12   4    2    -2   -2   2  \n",
       "[6,] -4   -12  -12  -4   -2     2    2  -2  \n",
       "[7,] -4   -12  -12  -4   -2     2    2  -2  \n",
       "[8,]  4    12   12   4    2    -2   -2   2  "
      ]
     },
     "metadata": {},
     "output_type": "display_data"
    },
    {
     "data": {
      "text/html": [
       "<table class=\"dataframe\">\n",
       "<caption>A matrix: 8 × 8 of type dbl</caption>\n",
       "<tbody>\n",
       "\t<tr><td>10</td><td> 8</td><td>19</td><td>17</td><td> 3</td><td> 1</td><td>-1</td><td>-3</td></tr>\n",
       "\t<tr><td> 8</td><td>10</td><td>17</td><td>19</td><td> 3</td><td>-1</td><td> 1</td><td>-3</td></tr>\n",
       "\t<tr><td>19</td><td>17</td><td>37</td><td>35</td><td> 6</td><td> 1</td><td>-1</td><td>-6</td></tr>\n",
       "\t<tr><td>17</td><td>19</td><td>35</td><td>37</td><td> 6</td><td>-1</td><td> 1</td><td>-6</td></tr>\n",
       "\t<tr><td> 3</td><td> 3</td><td> 6</td><td> 6</td><td> 1</td><td> 0</td><td> 0</td><td>-1</td></tr>\n",
       "\t<tr><td> 1</td><td>-1</td><td> 1</td><td>-1</td><td> 0</td><td> 1</td><td>-1</td><td> 0</td></tr>\n",
       "\t<tr><td>-1</td><td> 1</td><td>-1</td><td> 1</td><td> 0</td><td>-1</td><td> 1</td><td> 0</td></tr>\n",
       "\t<tr><td>-3</td><td>-3</td><td>-6</td><td>-6</td><td>-1</td><td> 0</td><td> 0</td><td> 1</td></tr>\n",
       "</tbody>\n",
       "</table>\n"
      ],
      "text/latex": [
       "A matrix: 8 × 8 of type dbl\n",
       "\\begin{tabular}{llllllll}\n",
       "\t 10 &  8 & 19 & 17 &  3 &  1 & -1 & -3\\\\\n",
       "\t  8 & 10 & 17 & 19 &  3 & -1 &  1 & -3\\\\\n",
       "\t 19 & 17 & 37 & 35 &  6 &  1 & -1 & -6\\\\\n",
       "\t 17 & 19 & 35 & 37 &  6 & -1 &  1 & -6\\\\\n",
       "\t  3 &  3 &  6 &  6 &  1 &  0 &  0 & -1\\\\\n",
       "\t  1 & -1 &  1 & -1 &  0 &  1 & -1 &  0\\\\\n",
       "\t -1 &  1 & -1 &  1 &  0 & -1 &  1 &  0\\\\\n",
       "\t -3 & -3 & -6 & -6 & -1 &  0 &  0 &  1\\\\\n",
       "\\end{tabular}\n"
      ],
      "text/markdown": [
       "\n",
       "A matrix: 8 × 8 of type dbl\n",
       "\n",
       "| 10 |  8 | 19 | 17 |  3 |  1 | -1 | -3 |\n",
       "|  8 | 10 | 17 | 19 |  3 | -1 |  1 | -3 |\n",
       "| 19 | 17 | 37 | 35 |  6 |  1 | -1 | -6 |\n",
       "| 17 | 19 | 35 | 37 |  6 | -1 |  1 | -6 |\n",
       "|  3 |  3 |  6 |  6 |  1 |  0 |  0 | -1 |\n",
       "|  1 | -1 |  1 | -1 |  0 |  1 | -1 |  0 |\n",
       "| -1 |  1 | -1 |  1 |  0 | -1 |  1 |  0 |\n",
       "| -3 | -3 | -6 | -6 | -1 |  0 |  0 |  1 |\n",
       "\n"
      ],
      "text/plain": [
       "     [,1] [,2] [,3] [,4] [,5] [,6] [,7] [,8]\n",
       "[1,] 10    8   19   17    3    1   -1   -3  \n",
       "[2,]  8   10   17   19    3   -1    1   -3  \n",
       "[3,] 19   17   37   35    6    1   -1   -6  \n",
       "[4,] 17   19   35   37    6   -1    1   -6  \n",
       "[5,]  3    3    6    6    1    0    0   -1  \n",
       "[6,]  1   -1    1   -1    0    1   -1    0  \n",
       "[7,] -1    1   -1    1    0   -1    1    0  \n",
       "[8,] -3   -3   -6   -6   -1    0    0    1  "
      ]
     },
     "metadata": {},
     "output_type": "display_data"
    }
   ],
   "source": [
    "kernel_df_a <- kernel(dataframe_a$X1, dataframe_a$X2)\n",
    "kernel_df_a\n",
    "kernel_df_b <- kernel(dataframe_b$X1, dataframe_b$X2)\n",
    "kernel_df_b\n",
    "kernel_df_c <- kernel(dataframe_c$X1, dataframe_c$X2)\n",
    "kernel_df_c\n",
    "kernel_df_d <- kernel(dataframe_d$X1, dataframe_d$X2)\n",
    "kernel_df_d\n",
    "kernel_df_e <- kernel(dataframe_e$X1, dataframe_e$X2)\n",
    "kernel_df_e"
   ]
  },
  {
   "cell_type": "markdown",
   "metadata": {},
   "source": [
    "Teniendo los vectores soporte y los coeficientes de Lagrange, podemos calcular los vectores de pesos de cada dataframe"
   ]
  },
  {
   "cell_type": "code",
   "execution_count": 103,
   "metadata": {
    "vscode": {
     "languageId": "r"
    }
   },
   "outputs": [
    {
     "data": {
      "text/html": [
       "<table class=\"dataframe\">\n",
       "<caption>A matrix: 2 × 1 of type dbl</caption>\n",
       "<tbody>\n",
       "\t<tr><th scope=row>X1</th><td>-2</td></tr>\n",
       "\t<tr><th scope=row>X2</th><td>-2</td></tr>\n",
       "</tbody>\n",
       "</table>\n"
      ],
      "text/latex": [
       "A matrix: 2 × 1 of type dbl\n",
       "\\begin{tabular}{r|l}\n",
       "\tX1 & -2\\\\\n",
       "\tX2 & -2\\\\\n",
       "\\end{tabular}\n"
      ],
      "text/markdown": [
       "\n",
       "A matrix: 2 × 1 of type dbl\n",
       "\n",
       "| X1 | -2 |\n",
       "| X2 | -2 |\n",
       "\n"
      ],
      "text/plain": [
       "   [,1]\n",
       "X1 -2  \n",
       "X2 -2  "
      ]
     },
     "metadata": {},
     "output_type": "display_data"
    },
    {
     "data": {
      "text/html": [
       "<table class=\"dataframe\">\n",
       "<caption>A matrix: 2 × 1 of type dbl</caption>\n",
       "<tbody>\n",
       "\t<tr><th scope=row>X1</th><td> 0.9995117</td></tr>\n",
       "\t<tr><th scope=row>X2</th><td>-0.3334961</td></tr>\n",
       "</tbody>\n",
       "</table>\n"
      ],
      "text/latex": [
       "A matrix: 2 × 1 of type dbl\n",
       "\\begin{tabular}{r|l}\n",
       "\tX1 &  0.9995117\\\\\n",
       "\tX2 & -0.3334961\\\\\n",
       "\\end{tabular}\n"
      ],
      "text/markdown": [
       "\n",
       "A matrix: 2 × 1 of type dbl\n",
       "\n",
       "| X1 |  0.9995117 |\n",
       "| X2 | -0.3334961 |\n",
       "\n"
      ],
      "text/plain": [
       "   [,1]      \n",
       "X1  0.9995117\n",
       "X2 -0.3334961"
      ]
     },
     "metadata": {},
     "output_type": "display_data"
    },
    {
     "data": {
      "text/html": [
       "<table class=\"dataframe\">\n",
       "<caption>A matrix: 2 × 1 of type dbl</caption>\n",
       "<tbody>\n",
       "\t<tr><th scope=row>X1</th><td>0</td></tr>\n",
       "\t<tr><th scope=row>X2</th><td>0</td></tr>\n",
       "</tbody>\n",
       "</table>\n"
      ],
      "text/latex": [
       "A matrix: 2 × 1 of type dbl\n",
       "\\begin{tabular}{r|l}\n",
       "\tX1 & 0\\\\\n",
       "\tX2 & 0\\\\\n",
       "\\end{tabular}\n"
      ],
      "text/markdown": [
       "\n",
       "A matrix: 2 × 1 of type dbl\n",
       "\n",
       "| X1 | 0 |\n",
       "| X2 | 0 |\n",
       "\n"
      ],
      "text/plain": [
       "   [,1]\n",
       "X1 0   \n",
       "X2 0   "
      ]
     },
     "metadata": {},
     "output_type": "display_data"
    },
    {
     "data": {
      "text/html": [
       "<table class=\"dataframe\">\n",
       "<caption>A matrix: 2 × 1 of type dbl</caption>\n",
       "<tbody>\n",
       "\t<tr><th scope=row>X1</th><td>2</td></tr>\n",
       "\t<tr><th scope=row>X2</th><td>2</td></tr>\n",
       "</tbody>\n",
       "</table>\n"
      ],
      "text/latex": [
       "A matrix: 2 × 1 of type dbl\n",
       "\\begin{tabular}{r|l}\n",
       "\tX1 & 2\\\\\n",
       "\tX2 & 2\\\\\n",
       "\\end{tabular}\n"
      ],
      "text/markdown": [
       "\n",
       "A matrix: 2 × 1 of type dbl\n",
       "\n",
       "| X1 | 2 |\n",
       "| X2 | 2 |\n",
       "\n"
      ],
      "text/plain": [
       "   [,1]\n",
       "X1 2   \n",
       "X2 2   "
      ]
     },
     "metadata": {},
     "output_type": "display_data"
    },
    {
     "data": {
      "text/html": [
       "<table class=\"dataframe\">\n",
       "<caption>A matrix: 2 × 1 of type dbl</caption>\n",
       "<tbody>\n",
       "\t<tr><th scope=row>X1</th><td> 4.904762e+00</td></tr>\n",
       "\t<tr><th scope=row>X2</th><td>-4.325561e-09</td></tr>\n",
       "</tbody>\n",
       "</table>\n"
      ],
      "text/latex": [
       "A matrix: 2 × 1 of type dbl\n",
       "\\begin{tabular}{r|l}\n",
       "\tX1 &  4.904762e+00\\\\\n",
       "\tX2 & -4.325561e-09\\\\\n",
       "\\end{tabular}\n"
      ],
      "text/markdown": [
       "\n",
       "A matrix: 2 × 1 of type dbl\n",
       "\n",
       "| X1 |  4.904762e+00 |\n",
       "| X2 | -4.325561e-09 |\n",
       "\n"
      ],
      "text/plain": [
       "   [,1]         \n",
       "X1  4.904762e+00\n",
       "X2 -4.325561e-09"
      ]
     },
     "metadata": {},
     "output_type": "display_data"
    },
    {
     "data": {
      "text/html": [
       "<table class=\"dataframe\">\n",
       "<caption>A matrix: 4 × 2 of type dbl</caption>\n",
       "<tbody>\n",
       "\t<tr><th scope=row>Sepal.Length</th><td>-1.9420110</td><td> 1.781515</td></tr>\n",
       "\t<tr><th scope=row>Sepal.Width</th><td>-0.6597013</td><td> 1.128539</td></tr>\n",
       "\t<tr><th scope=row>Petal.Length</th><td>-3.0284030</td><td>-3.886906</td></tr>\n",
       "\t<tr><th scope=row>Petal.Width</th><td>-1.2531487</td><td>-1.746361</td></tr>\n",
       "</tbody>\n",
       "</table>\n"
      ],
      "text/latex": [
       "A matrix: 4 × 2 of type dbl\n",
       "\\begin{tabular}{r|ll}\n",
       "\tSepal.Length & -1.9420110 &  1.781515\\\\\n",
       "\tSepal.Width & -0.6597013 &  1.128539\\\\\n",
       "\tPetal.Length & -3.0284030 & -3.886906\\\\\n",
       "\tPetal.Width & -1.2531487 & -1.746361\\\\\n",
       "\\end{tabular}\n"
      ],
      "text/markdown": [
       "\n",
       "A matrix: 4 × 2 of type dbl\n",
       "\n",
       "| Sepal.Length | -1.9420110 |  1.781515 |\n",
       "| Sepal.Width | -0.6597013 |  1.128539 |\n",
       "| Petal.Length | -3.0284030 | -3.886906 |\n",
       "| Petal.Width | -1.2531487 | -1.746361 |\n",
       "\n"
      ],
      "text/plain": [
       "             [,1]       [,2]     \n",
       "Sepal.Length -1.9420110  1.781515\n",
       "Sepal.Width  -0.6597013  1.128539\n",
       "Petal.Length -3.0284030 -3.886906\n",
       "Petal.Width  -1.2531487 -1.746361"
      ]
     },
     "metadata": {},
     "output_type": "display_data"
    }
   ],
   "source": [
    "w_df_a <- crossprod(as.matrix(support_vectors_df_a), svm_df_a$coefs)\n",
    "w_df_a\n",
    "w_df_b <- crossprod(as.matrix(support_vectors_df_b), svm_df_b$coefs)\n",
    "w_df_b\n",
    "w_df_c <- crossprod(as.matrix(support_vectors_df_c), svm_df_c$coefs)\n",
    "w_df_c\n",
    "w_df_d <- crossprod(as.matrix(support_vectors_df_d), svm_df_d$coefs)\n",
    "w_df_d\n",
    "w_df_e <- crossprod(as.matrix(support_vectors_df_e), svm_df_e$coefs)\n",
    "w_df_e\n",
    "w_iris <- crossprod(as.matrix(support_vectors_iris), svm_iris$coefs)\n",
    "w_iris"
   ]
  },
  {
   "cell_type": "markdown",
   "metadata": {},
   "source": [
    "Con estos vectores de pesos, podemos calcular el ancho del canal de cada máquina vector soporte"
   ]
  },
  {
   "cell_type": "code",
   "execution_count": 104,
   "metadata": {
    "vscode": {
     "languageId": "r"
    }
   },
   "outputs": [
    {
     "data": {
      "text/html": [
       "0.707106781186547"
      ],
      "text/latex": [
       "0.707106781186547"
      ],
      "text/markdown": [
       "0.707106781186547"
      ],
      "text/plain": [
       "[1] 0.7071068"
      ]
     },
     "metadata": {},
     "output_type": "display_data"
    },
    {
     "data": {
      "text/html": [
       "1.8981080191382"
      ],
      "text/latex": [
       "1.8981080191382"
      ],
      "text/markdown": [
       "1.8981080191382"
      ],
      "text/plain": [
       "[1] 1.898108"
      ]
     },
     "metadata": {},
     "output_type": "display_data"
    },
    {
     "data": {
      "text/html": [
       "Inf"
      ],
      "text/latex": [
       "Inf"
      ],
      "text/markdown": [
       "Inf"
      ],
      "text/plain": [
       "[1] Inf"
      ]
     },
     "metadata": {},
     "output_type": "display_data"
    },
    {
     "data": {
      "text/html": [
       "0.707106781186547"
      ],
      "text/latex": [
       "0.707106781186547"
      ],
      "text/markdown": [
       "0.707106781186547"
      ],
      "text/plain": [
       "[1] 0.7071068"
      ]
     },
     "metadata": {},
     "output_type": "display_data"
    },
    {
     "data": {
      "text/html": [
       "0.407766968354963"
      ],
      "text/latex": [
       "0.407766968354963"
      ],
      "text/markdown": [
       "0.407766968354963"
      ],
      "text/plain": [
       "[1] 0.407767"
      ]
     },
     "metadata": {},
     "output_type": "display_data"
    },
    {
     "data": {
      "text/html": [
       "0.326366207875456"
      ],
      "text/latex": [
       "0.326366207875456"
      ],
      "text/markdown": [
       "0.326366207875456"
      ],
      "text/plain": [
       "[1] 0.3263662"
      ]
     },
     "metadata": {},
     "output_type": "display_data"
    }
   ],
   "source": [
    "width_svm_a <- 2 / (sqrt(sum((w_df_a)^2)))\n",
    "width_svm_a\n",
    "width_svm_b <- 2 / (sqrt(sum((w_df_b)^2)))\n",
    "width_svm_b\n",
    "width_svm_c <- 2 / (sqrt(sum((w_df_c)^2)))\n",
    "width_svm_c\n",
    "width_svm_d <- 2 / (sqrt(sum((w_df_d)^2)))\n",
    "width_svm_d\n",
    "width_svm_e <- 2 / (sqrt(sum((w_df_e)^2)))\n",
    "width_svm_e\n",
    "width_iris <- 2 / (sqrt(sum((w_iris)^2)))\n",
    "width_iris"
   ]
  },
  {
   "cell_type": "markdown",
   "metadata": {},
   "source": [
    "Para obtener el vector B, tenemos la variable *rho* de cada máquina vector soporte"
   ]
  },
  {
   "cell_type": "code",
   "execution_count": 105,
   "metadata": {
    "vscode": {
     "languageId": "r"
    }
   },
   "outputs": [
    {
     "data": {
      "text/html": [
       "0"
      ],
      "text/latex": [
       "0"
      ],
      "text/markdown": [
       "0"
      ],
      "text/plain": [
       "[1] 0"
      ]
     },
     "metadata": {},
     "output_type": "display_data"
    },
    {
     "data": {
      "text/html": [
       "-0.333333333333333"
      ],
      "text/latex": [
       "-0.333333333333333"
      ],
      "text/markdown": [
       "-0.333333333333333"
      ],
      "text/plain": [
       "[1] -0.3333333"
      ]
     },
     "metadata": {},
     "output_type": "display_data"
    },
    {
     "data": {
      "text/html": [
       "0"
      ],
      "text/latex": [
       "0"
      ],
      "text/markdown": [
       "0"
      ],
      "text/plain": [
       "[1] 0"
      ]
     },
     "metadata": {},
     "output_type": "display_data"
    },
    {
     "data": {
      "text/html": [
       "0.0769230723381042"
      ],
      "text/latex": [
       "0.0769230723381042"
      ],
      "text/markdown": [
       "0.0769230723381042"
      ],
      "text/plain": [
       "[1] 0.07692307"
      ]
     },
     "metadata": {},
     "output_type": "display_data"
    },
    {
     "data": {
      "text/html": [
       "0.500000017025348"
      ],
      "text/latex": [
       "0.500000017025348"
      ],
      "text/markdown": [
       "0.500000017025348"
      ],
      "text/plain": [
       "[1] 0.5"
      ]
     },
     "metadata": {},
     "output_type": "display_data"
    },
    {
     "data": {
      "text/html": [
       "<style>\n",
       ".list-inline {list-style: none; margin:0; padding: 0}\n",
       ".list-inline>li {display: inline-block}\n",
       ".list-inline>li:not(:last-child)::after {content: \"\\00b7\"; padding: 0 .5ex}\n",
       "</style>\n",
       "<ol class=list-inline><li>-1.47408564212647</li><li>-0.295231745935259</li><li>3.09758904428322</li></ol>\n"
      ],
      "text/latex": [
       "\\begin{enumerate*}\n",
       "\\item -1.47408564212647\n",
       "\\item -0.295231745935259\n",
       "\\item 3.09758904428322\n",
       "\\end{enumerate*}\n"
      ],
      "text/markdown": [
       "1. -1.47408564212647\n",
       "2. -0.295231745935259\n",
       "3. 3.09758904428322\n",
       "\n",
       "\n"
      ],
      "text/plain": [
       "[1] -1.4740856 -0.2952317  3.0975890"
      ]
     },
     "metadata": {},
     "output_type": "display_data"
    }
   ],
   "source": [
    "b_df_a <- -svm_df_a$rho\n",
    "b_df_a\n",
    "b_df_b <- -svm_df_b$rho\n",
    "b_df_b\n",
    "b_df_c <- -svm_df_c$rho\n",
    "b_df_c\n",
    "b_df_d <- -svm_df_d$rho\n",
    "b_df_d\n",
    "b_df_e <- -svm_df_e$rho\n",
    "b_df_e\n",
    "b_iris <- -svm_iris$rho\n",
    "b_iris"
   ]
  },
  {
   "cell_type": "markdown",
   "metadata": {},
   "source": [
    "La ecuación del hiperplano y de los planos de soporte positivo y negativo de cada máquina vector soporte serían las siguientes"
   ]
  },
  {
   "cell_type": "code",
   "execution_count": 107,
   "metadata": {
    "vscode": {
     "languageId": "r"
    }
   },
   "outputs": [
    {
     "data": {
      "text/html": [
       "'Ecuaciones SVM A:'"
      ],
      "text/latex": [
       "'Ecuaciones SVM A:'"
      ],
      "text/markdown": [
       "'Ecuaciones SVM A:'"
      ],
      "text/plain": [
       "[1] \"Ecuaciones SVM A:\""
      ]
     },
     "metadata": {},
     "output_type": "display_data"
    },
    {
     "data": {
      "text/html": [
       "'[ -2 -2 ]\\' * x + [ 0 ] = 0'"
      ],
      "text/latex": [
       "'{[} -2 -2 {]}\\textbackslash{}' * x + {[} 0 {]} = 0'"
      ],
      "text/markdown": [
       "'[ -2 -2 ]\\' * x + [ 0 ] = 0'"
      ],
      "text/plain": [
       "[1] \"[ -2 -2 ]' * x + [ 0 ] = 0\""
      ]
     },
     "metadata": {},
     "output_type": "display_data"
    },
    {
     "data": {
      "text/html": [
       "'[ -2 -2 ]\\' * x + [ 0 ] = 1'"
      ],
      "text/latex": [
       "'{[} -2 -2 {]}\\textbackslash{}' * x + {[} 0 {]} = 1'"
      ],
      "text/markdown": [
       "'[ -2 -2 ]\\' * x + [ 0 ] = 1'"
      ],
      "text/plain": [
       "[1] \"[ -2 -2 ]' * x + [ 0 ] = 1\""
      ]
     },
     "metadata": {},
     "output_type": "display_data"
    },
    {
     "data": {
      "text/html": [
       "'[ -2 -2 ]\\' * x + [ 0 ] = -1'"
      ],
      "text/latex": [
       "'{[} -2 -2 {]}\\textbackslash{}' * x + {[} 0 {]} = -1'"
      ],
      "text/markdown": [
       "'[ -2 -2 ]\\' * x + [ 0 ] = -1'"
      ],
      "text/plain": [
       "[1] \"[ -2 -2 ]' * x + [ 0 ] = -1\""
      ]
     },
     "metadata": {},
     "output_type": "display_data"
    },
    {
     "data": {
      "text/html": [
       "'Ecuaciones SVM B:'"
      ],
      "text/latex": [
       "'Ecuaciones SVM B:'"
      ],
      "text/markdown": [
       "'Ecuaciones SVM B:'"
      ],
      "text/plain": [
       "[1] \"Ecuaciones SVM B:\""
      ]
     },
     "metadata": {},
     "output_type": "display_data"
    },
    {
     "data": {
      "text/html": [
       "'[ 0.99951168926297 -0.333496083723731 ]\\' * x + [ -0.333333333333333 ] = 0'"
      ],
      "text/latex": [
       "'{[} 0.99951168926297 -0.333496083723731 {]}\\textbackslash{}' * x + {[} -0.333333333333333 {]} = 0'"
      ],
      "text/markdown": [
       "'[ 0.99951168926297 -0.333496083723731 ]\\' * x + [ -0.333333333333333 ] = 0'"
      ],
      "text/plain": [
       "[1] \"[ 0.99951168926297 -0.333496083723731 ]' * x + [ -0.333333333333333 ] = 0\""
      ]
     },
     "metadata": {},
     "output_type": "display_data"
    },
    {
     "data": {
      "text/html": [
       "'[ 0.99951168926297 -0.333496083723731 ]\\' * x + [ -0.333333333333333 ] = 1'"
      ],
      "text/latex": [
       "'{[} 0.99951168926297 -0.333496083723731 {]}\\textbackslash{}' * x + {[} -0.333333333333333 {]} = 1'"
      ],
      "text/markdown": [
       "'[ 0.99951168926297 -0.333496083723731 ]\\' * x + [ -0.333333333333333 ] = 1'"
      ],
      "text/plain": [
       "[1] \"[ 0.99951168926297 -0.333496083723731 ]' * x + [ -0.333333333333333 ] = 1\""
      ]
     },
     "metadata": {},
     "output_type": "display_data"
    },
    {
     "data": {
      "text/html": [
       "'[ 0.99951168926297 -0.333496083723731 ]\\' * x + [ -0.333333333333333 ] = -1'"
      ],
      "text/latex": [
       "'{[} 0.99951168926297 -0.333496083723731 {]}\\textbackslash{}' * x + {[} -0.333333333333333 {]} = -1'"
      ],
      "text/markdown": [
       "'[ 0.99951168926297 -0.333496083723731 ]\\' * x + [ -0.333333333333333 ] = -1'"
      ],
      "text/plain": [
       "[1] \"[ 0.99951168926297 -0.333496083723731 ]' * x + [ -0.333333333333333 ] = -1\""
      ]
     },
     "metadata": {},
     "output_type": "display_data"
    },
    {
     "data": {
      "text/html": [
       "'Ecuaciones SVM C:'"
      ],
      "text/latex": [
       "'Ecuaciones SVM C:'"
      ],
      "text/markdown": [
       "'Ecuaciones SVM C:'"
      ],
      "text/plain": [
       "[1] \"Ecuaciones SVM C:\""
      ]
     },
     "metadata": {},
     "output_type": "display_data"
    },
    {
     "data": {
      "text/html": [
       "'[ 0 0 ]\\' * x + [ 0 ] = 0'"
      ],
      "text/latex": [
       "'{[} 0 0 {]}\\textbackslash{}' * x + {[} 0 {]} = 0'"
      ],
      "text/markdown": [
       "'[ 0 0 ]\\' * x + [ 0 ] = 0'"
      ],
      "text/plain": [
       "[1] \"[ 0 0 ]' * x + [ 0 ] = 0\""
      ]
     },
     "metadata": {},
     "output_type": "display_data"
    },
    {
     "data": {
      "text/html": [
       "'[ 0 0 ]\\' * x + [ 0 ] = 1'"
      ],
      "text/latex": [
       "'{[} 0 0 {]}\\textbackslash{}' * x + {[} 0 {]} = 1'"
      ],
      "text/markdown": [
       "'[ 0 0 ]\\' * x + [ 0 ] = 1'"
      ],
      "text/plain": [
       "[1] \"[ 0 0 ]' * x + [ 0 ] = 1\""
      ]
     },
     "metadata": {},
     "output_type": "display_data"
    },
    {
     "data": {
      "text/html": [
       "'[ 0 0 ]\\' * x + [ 0 ] = -1'"
      ],
      "text/latex": [
       "'{[} 0 0 {]}\\textbackslash{}' * x + {[} 0 {]} = -1'"
      ],
      "text/markdown": [
       "'[ 0 0 ]\\' * x + [ 0 ] = -1'"
      ],
      "text/plain": [
       "[1] \"[ 0 0 ]' * x + [ 0 ] = -1\""
      ]
     },
     "metadata": {},
     "output_type": "display_data"
    },
    {
     "data": {
      "text/html": [
       "'Ecuaciones SVM D:'"
      ],
      "text/latex": [
       "'Ecuaciones SVM D:'"
      ],
      "text/markdown": [
       "'Ecuaciones SVM D:'"
      ],
      "text/plain": [
       "[1] \"Ecuaciones SVM D:\""
      ]
     },
     "metadata": {},
     "output_type": "display_data"
    },
    {
     "data": {
      "text/html": [
       "'[ 2 2 ]\\' * x + [ 0.0769230723381042 ] = 0'"
      ],
      "text/latex": [
       "'{[} 2 2 {]}\\textbackslash{}' * x + {[} 0.0769230723381042 {]} = 0'"
      ],
      "text/markdown": [
       "'[ 2 2 ]\\' * x + [ 0.0769230723381042 ] = 0'"
      ],
      "text/plain": [
       "[1] \"[ 2 2 ]' * x + [ 0.0769230723381042 ] = 0\""
      ]
     },
     "metadata": {},
     "output_type": "display_data"
    },
    {
     "data": {
      "text/html": [
       "'[ 2 2 ]\\' * x + [ 0.0769230723381042 ] = 1'"
      ],
      "text/latex": [
       "'{[} 2 2 {]}\\textbackslash{}' * x + {[} 0.0769230723381042 {]} = 1'"
      ],
      "text/markdown": [
       "'[ 2 2 ]\\' * x + [ 0.0769230723381042 ] = 1'"
      ],
      "text/plain": [
       "[1] \"[ 2 2 ]' * x + [ 0.0769230723381042 ] = 1\""
      ]
     },
     "metadata": {},
     "output_type": "display_data"
    },
    {
     "data": {
      "text/html": [
       "'[ 2 2 ]\\' * x + [ 0.0769230723381042 ] = -1'"
      ],
      "text/latex": [
       "'{[} 2 2 {]}\\textbackslash{}' * x + {[} 0.0769230723381042 {]} = -1'"
      ],
      "text/markdown": [
       "'[ 2 2 ]\\' * x + [ 0.0769230723381042 ] = -1'"
      ],
      "text/plain": [
       "[1] \"[ 2 2 ]' * x + [ 0.0769230723381042 ] = -1\""
      ]
     },
     "metadata": {},
     "output_type": "display_data"
    },
    {
     "data": {
      "text/html": [
       "'Ecuaciones SVM E:'"
      ],
      "text/latex": [
       "'Ecuaciones SVM E:'"
      ],
      "text/markdown": [
       "'Ecuaciones SVM E:'"
      ],
      "text/plain": [
       "[1] \"Ecuaciones SVM E:\""
      ]
     },
     "metadata": {},
     "output_type": "display_data"
    },
    {
     "data": {
      "text/html": [
       "'[ 4.90476216861929 -4.3255614090576e-09 ]\\' * x + [ 0.500000017025348 ] = 0'"
      ],
      "text/latex": [
       "'{[} 4.90476216861929 -4.3255614090576e-09 {]}\\textbackslash{}' * x + {[} 0.500000017025348 {]} = 0'"
      ],
      "text/markdown": [
       "'[ 4.90476216861929 -4.3255614090576e-09 ]\\' * x + [ 0.500000017025348 ] = 0'"
      ],
      "text/plain": [
       "[1] \"[ 4.90476216861929 -4.3255614090576e-09 ]' * x + [ 0.500000017025348 ] = 0\""
      ]
     },
     "metadata": {},
     "output_type": "display_data"
    },
    {
     "data": {
      "text/html": [
       "'[ 4.90476216861929 -4.3255614090576e-09 ]\\' * x + [ 0.500000017025348 ] = 1'"
      ],
      "text/latex": [
       "'{[} 4.90476216861929 -4.3255614090576e-09 {]}\\textbackslash{}' * x + {[} 0.500000017025348 {]} = 1'"
      ],
      "text/markdown": [
       "'[ 4.90476216861929 -4.3255614090576e-09 ]\\' * x + [ 0.500000017025348 ] = 1'"
      ],
      "text/plain": [
       "[1] \"[ 4.90476216861929 -4.3255614090576e-09 ]' * x + [ 0.500000017025348 ] = 1\""
      ]
     },
     "metadata": {},
     "output_type": "display_data"
    },
    {
     "data": {
      "text/html": [
       "'[ 4.90476216861929 -4.3255614090576e-09 ]\\' * x + [ 0.500000017025348 ] = -1'"
      ],
      "text/latex": [
       "'{[} 4.90476216861929 -4.3255614090576e-09 {]}\\textbackslash{}' * x + {[} 0.500000017025348 {]} = -1'"
      ],
      "text/markdown": [
       "'[ 4.90476216861929 -4.3255614090576e-09 ]\\' * x + [ 0.500000017025348 ] = -1'"
      ],
      "text/plain": [
       "[1] \"[ 4.90476216861929 -4.3255614090576e-09 ]' * x + [ 0.500000017025348 ] = -1\""
      ]
     },
     "metadata": {},
     "output_type": "display_data"
    },
    {
     "data": {
      "text/html": [
       "'Ecuaciones SVM iris:'"
      ],
      "text/latex": [
       "'Ecuaciones SVM iris:'"
      ],
      "text/markdown": [
       "'Ecuaciones SVM iris:'"
      ],
      "text/plain": [
       "[1] \"Ecuaciones SVM iris:\""
      ]
     },
     "metadata": {},
     "output_type": "display_data"
    },
    {
     "data": {
      "text/html": [
       "'[ -1.94201103063312 -0.659701254428128 -3.02840299720809 -1.2531487235705 1.78151488541635 1.12853896724544 -3.88690609651112 -1.74636118736971 ]\\' * x + [ -1.47408564212647 -0.295231745935259 3.09758904428322 ] = 0'"
      ],
      "text/latex": [
       "'{[} -1.94201103063312 -0.659701254428128 -3.02840299720809 -1.2531487235705 1.78151488541635 1.12853896724544 -3.88690609651112 -1.74636118736971 {]}\\textbackslash{}' * x + {[} -1.47408564212647 -0.295231745935259 3.09758904428322 {]} = 0'"
      ],
      "text/markdown": [
       "'[ -1.94201103063312 -0.659701254428128 -3.02840299720809 -1.2531487235705 1.78151488541635 1.12853896724544 -3.88690609651112 -1.74636118736971 ]\\' * x + [ -1.47408564212647 -0.295231745935259 3.09758904428322 ] = 0'"
      ],
      "text/plain": [
       "[1] \"[ -1.94201103063312 -0.659701254428128 -3.02840299720809 -1.2531487235705 1.78151488541635 1.12853896724544 -3.88690609651112 -1.74636118736971 ]' * x + [ -1.47408564212647 -0.295231745935259 3.09758904428322 ] = 0\""
      ]
     },
     "metadata": {},
     "output_type": "display_data"
    },
    {
     "data": {
      "text/html": [
       "'[ -1.94201103063312 -0.659701254428128 -3.02840299720809 -1.2531487235705 1.78151488541635 1.12853896724544 -3.88690609651112 -1.74636118736971 ]\\' * x + [ -1.47408564212647 -0.295231745935259 3.09758904428322 ] = 1'"
      ],
      "text/latex": [
       "'{[} -1.94201103063312 -0.659701254428128 -3.02840299720809 -1.2531487235705 1.78151488541635 1.12853896724544 -3.88690609651112 -1.74636118736971 {]}\\textbackslash{}' * x + {[} -1.47408564212647 -0.295231745935259 3.09758904428322 {]} = 1'"
      ],
      "text/markdown": [
       "'[ -1.94201103063312 -0.659701254428128 -3.02840299720809 -1.2531487235705 1.78151488541635 1.12853896724544 -3.88690609651112 -1.74636118736971 ]\\' * x + [ -1.47408564212647 -0.295231745935259 3.09758904428322 ] = 1'"
      ],
      "text/plain": [
       "[1] \"[ -1.94201103063312 -0.659701254428128 -3.02840299720809 -1.2531487235705 1.78151488541635 1.12853896724544 -3.88690609651112 -1.74636118736971 ]' * x + [ -1.47408564212647 -0.295231745935259 3.09758904428322 ] = 1\""
      ]
     },
     "metadata": {},
     "output_type": "display_data"
    },
    {
     "data": {
      "text/html": [
       "'[ -1.94201103063312 -0.659701254428128 -3.02840299720809 -1.2531487235705 1.78151488541635 1.12853896724544 -3.88690609651112 -1.74636118736971 ]\\' * x + [ -1.47408564212647 -0.295231745935259 3.09758904428322 ] = -1'"
      ],
      "text/latex": [
       "'{[} -1.94201103063312 -0.659701254428128 -3.02840299720809 -1.2531487235705 1.78151488541635 1.12853896724544 -3.88690609651112 -1.74636118736971 {]}\\textbackslash{}' * x + {[} -1.47408564212647 -0.295231745935259 3.09758904428322 {]} = -1'"
      ],
      "text/markdown": [
       "'[ -1.94201103063312 -0.659701254428128 -3.02840299720809 -1.2531487235705 1.78151488541635 1.12853896724544 -3.88690609651112 -1.74636118736971 ]\\' * x + [ -1.47408564212647 -0.295231745935259 3.09758904428322 ] = -1'"
      ],
      "text/plain": [
       "[1] \"[ -1.94201103063312 -0.659701254428128 -3.02840299720809 -1.2531487235705 1.78151488541635 1.12853896724544 -3.88690609651112 -1.74636118736971 ]' * x + [ -1.47408564212647 -0.295231745935259 3.09758904428322 ] = -1\""
      ]
     },
     "metadata": {},
     "output_type": "display_data"
    }
   ],
   "source": [
    "eq_hiperplano_df_a <- c(\"[\", w_df_a, \"]' * x + [\", b_df_a, \"] = 0\")\n",
    "eq_positiva_df_a <- c(\"[\", w_df_a, \"]' * x + [\", b_df_a, \"] = 1\")\n",
    "eq_negativa_df_a <- c(\"[\", w_df_a, \"]' * x + [\", b_df_a, \"] = -1\")\n",
    "paste(\"Ecuaciones SVM A:\")\n",
    "paste(eq_hiperplano_df_a, collapse = \" \")\n",
    "paste(eq_positiva_df_a, collapse = \" \")\n",
    "paste(eq_negativa_df_a, collapse = \" \")\n",
    "eq_hiperplano_df_b <- c(\"[\", w_df_b, \"]' * x + [\", b_df_b, \"] = 0\")\n",
    "eq_positiva_df_b <- c(\"[\", w_df_b, \"]' * x + [\", b_df_b, \"] = 1\")\n",
    "eq_negativa_df_b <- c(\"[\", w_df_b, \"]' * x + [\", b_df_b, \"] = -1\")\n",
    "paste(\"Ecuaciones SVM B:\")\n",
    "paste(eq_hiperplano_df_b, collapse = \" \")\n",
    "paste(eq_positiva_df_b, collapse = \" \")\n",
    "paste(eq_negativa_df_b, collapse = \" \")\n",
    "eq_hiperplano_df_c <- c(\"[\", w_df_c, \"]' * x + [\", b_df_c, \"] = 0\")\n",
    "eq_positiva_df_c <- c(\"[\", w_df_c, \"]' * x + [\", b_df_c, \"] = 1\")\n",
    "eq_negativa_df_c <- c(\"[\", w_df_c, \"]' * x + [\", b_df_c, \"] = -1\")\n",
    "paste(\"Ecuaciones SVM C:\")\n",
    "paste(eq_hiperplano_df_c, collapse = \" \")\n",
    "paste(eq_positiva_df_c, collapse = \" \")\n",
    "paste(eq_negativa_df_c, collapse = \" \")\n",
    "eq_hiperplano_df_d <- c(\"[\", w_df_d, \"]' * x + [\", b_df_d, \"] = 0\")\n",
    "eq_positiva_df_d <- c(\"[\", w_df_d, \"]' * x + [\", b_df_d, \"] = 1\")\n",
    "eq_negativa_df_d <- c(\"[\", w_df_d, \"]' * x + [\", b_df_d, \"] = -1\")\n",
    "paste(\"Ecuaciones SVM D:\")\n",
    "paste(eq_hiperplano_df_d, collapse = \" \")\n",
    "paste(eq_positiva_df_d, collapse = \" \")\n",
    "paste(eq_negativa_df_d, collapse = \" \")\n",
    "eq_hiperplano_df_e <- c(\"[\", w_df_e, \"]' * x + [\", b_df_e, \"] = 0\")\n",
    "eq_positiva_df_e <- c(\"[\", w_df_e, \"]' * x + [\", b_df_e, \"] = 1\")\n",
    "eq_negativa_df_e <- c(\"[\", w_df_e, \"]' * x + [\", b_df_e, \"] = -1\")\n",
    "paste(\"Ecuaciones SVM E:\")\n",
    "paste(eq_hiperplano_df_e, collapse = \" \")\n",
    "paste(eq_positiva_df_e, collapse = \" \")\n",
    "paste(eq_negativa_df_e, collapse = \" \")\n",
    "eq_hiperplano_iris <- c(\"[\", w_iris, \"]' * x + [\", b_iris, \"] = 0\")\n",
    "eq_positiva_iris <- c(\"[\", w_iris, \"]' * x + [\", b_iris, \"] = 1\")\n",
    "eq_negativa_iris <- c(\"[\", w_iris, \"]' * x + [\", b_iris, \"] = -1\")\n",
    "paste(\"Ecuaciones SVM iris:\")\n",
    "paste(eq_hiperplano_iris, collapse = \" \")\n",
    "paste(eq_positiva_iris, collapse = \" \")\n",
    "paste(eq_negativa_iris, collapse = \" \")"
   ]
  },
  {
   "cell_type": "markdown",
   "metadata": {},
   "source": [
    "Para determinar la clase a la que pertenece cada punto dado en cada dataframe, usamos la función auxiliar *print_clasificacion*"
   ]
  },
  {
   "cell_type": "code",
   "execution_count": 111,
   "metadata": {
    "vscode": {
     "languageId": "r"
    }
   },
   "outputs": [
    {
     "name": "stdout",
     "output_type": "stream",
     "text": [
      "[1] \"En el dataframe A:\"\n"
     ]
    },
    {
     "name": "stdout",
     "output_type": "stream",
     "text": [
      "[1] 5 6\n",
      "[1] \"Pertenece a la clase: -1\"\n",
      "[1]  1 -4\n",
      "[1] \"Pertenece a la clase: 1\"\n",
      "[1] \"En el dataframe B:\"\n",
      "[1] 5 6\n",
      "[1] \"Pertenece a la clase: 1\"\n",
      "[1]  1 -4\n",
      "[1] \"Pertenece a la clase: 1\"\n",
      "[1] \"En el dataframe D:\"\n",
      "[1] 3 3\n",
      "[1] \"Pertenece a la clase: 1\"\n",
      "[1] -3 -3\n",
      "[1] \"Pertenece a la clase: -1\"\n",
      "[1] \"En el dataframe E:\"\n",
      "[1] 4 5\n",
      "[1] \"Pertenece a la clase: 1\"\n",
      "[1] \"En el dataframe iris:\"\n",
      "[1]  2  5  0 -4\n"
     ]
    },
    {
     "name": "stderr",
     "output_type": "stream",
     "text": [
      "Warning message in t(w) %*% x + b:\n",
      "\"longer object length is not a multiple of shorter object length\"\n"
     ]
    },
    {
     "ename": "ERROR",
     "evalue": "Error in print_clasificacion(puntos_iris$P1, w_iris, b_iris): dims [product 2] do not match the length of object [3]\n",
     "output_type": "error",
     "traceback": [
      "Error in print_clasificacion(puntos_iris$P1, w_iris, b_iris): dims [product 2] do not match the length of object [3]\nTraceback:\n",
      "1. print_clasificacion(puntos_iris$P1, w_iris, b_iris)"
     ]
    }
   ],
   "source": [
    "puntos_df_a <- list(P1 = c(5, 6), P2 = c(1, -4))\n",
    "puntos_df_b <- puntos_df_a\n",
    "puntos_df_d <- list(P1 = c(3, 3), P2 = c(-3, -3))\n",
    "punto_df_e <- c(4, 5)\n",
    "puntos_iris <- list(P1 = sample(-5:5, 4),\n",
    "                    P2 = sample(-5:5, 4))\n",
    "print(\"En el dataframe A:\")\n",
    "print_clasificacion(puntos_df_a$P1, w_df_a, b_df_a)\n",
    "print_clasificacion(puntos_df_a$P2, w_df_a, b_df_a)\n",
    "print(\"En el dataframe B:\")\n",
    "print_clasificacion(puntos_df_b$P1, w_df_b, b_df_b)\n",
    "print_clasificacion(puntos_df_b$P2, w_df_b, b_df_b)\n",
    "print(\"En el dataframe D:\")\n",
    "print_clasificacion(puntos_df_d$P1, w_df_d, b_df_d)\n",
    "print_clasificacion(puntos_df_d$P2, w_df_d, b_df_d)\n",
    "print(\"En el dataframe E:\")\n",
    "print_clasificacion(punto_df_e, w_df_e, b_df_e)\n",
    "print(\"En el dataframe iris:\")\n",
    "print_clasificacion(puntos_iris$P1, w_iris, b_iris)\n",
    "print_clasificacion(puntos_iris$P2, w_iris, b_iris)"
   ]
  },
  {
   "cell_type": "markdown",
   "metadata": {},
   "source": [
    "En el dataframe C, al tener un ancho de canal infinito y ser tanto el vector de pesos como b = 0, no hay puntos que clasifiquen negativamente"
   ]
  }
 ],
 "metadata": {
  "kernelspec": {
   "display_name": "R 4.3",
   "language": "R",
   "name": "ir43"
  },
  "language_info": {
   "codemirror_mode": "r",
   "file_extension": ".r",
   "mimetype": "text/x-r-source",
   "name": "R",
   "pygments_lexer": "r",
   "version": "4.3.1"
  }
 },
 "nbformat": 4,
 "nbformat_minor": 2
}
