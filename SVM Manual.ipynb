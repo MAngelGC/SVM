{
 "cells": [
  {
   "cell_type": "markdown",
   "metadata": {},
   "source": [
    "# Práctica 2 - SVM\n",
    "\n",
    "## Funciones auxiliares\n",
    "Primero, podemos crear algunas funciones auxiliares (como por ejemplo, para la transformación)."
   ]
  },
  {
   "cell_type": "code",
   "execution_count": 52,
   "metadata": {
    "vscode": {
     "languageId": "r"
    }
   },
   "outputs": [],
   "source": [
    "euclidean <- function(xp, xn) sqrt(sum((xp - xn)^2))\n",
    "\n",
    "transformacion <- function(x1, x2) {\n",
    "  len <- length(x1)\n",
    "  for (i in 1:len) {\n",
    "    if (sqrt(x1[i]^2 + x2[i]^2) > 2) {\n",
    "      x1[i] <- 4 - x2[i] + abs(x1[i] - x2[i])\n",
    "      x2[i] <- 4 - x1[i] + abs(x1[i] - x2[i])\n",
    "    }\n",
    "  }\n",
    "  return(list(X1 = x2, X2 = x2))\n",
    "}\n",
    "\n",
    "print_clasificacion <- function(x, w, b) {\n",
    "  print(x)\n",
    "  if ((t(w) %*% x + b) >= 0) {\n",
    "    print(\"Pertenece a la clase: 1\")\n",
    "  } else {\n",
    "    print(\"Pertenece a la clase: -1\")\n",
    "  }\n",
    "}\n",
    "\n",
    "kernel <- function(x1, x2) {\n",
    "  len_x1 <- length(x1)\n",
    "  len_x2 <- length(x2)\n",
    "  k <- matrix(data = NA, nrow = len_x1, ncol = len_x2)\n",
    "  for (i in 1:len_x1) {\n",
    "    xi <- c(x1[i], x2[i])\n",
    "    for (j in 1:len_x2) {\n",
    "      xj <- c(x1[j], x2[j])\n",
    "      k[i, j] <- xi %*% xj\n",
    "    }\n",
    "  }\n",
    "  return(k)\n",
    "}\n",
    "\n",
    "support_vectors <- function(x1_positive, x2_positive,\n",
    "                            x1_negative, x2_negative) {\n",
    "  len_positive <- length(x1_positive)\n",
    "  len_negative <- length(x1_negative)\n",
    "  svp <- NA\n",
    "  svn <- NA\n",
    "  min_dist <- Inf\n",
    "  for (i in 1:len_positive) {\n",
    "    xp <- c(x1_positive[i], x2_positive[i])\n",
    "    for (j in 1:len_negative) {\n",
    "      xn <- c(x1_negative[j], x2_negative[j])\n",
    "      dist <- euclidean(xp, xn)\n",
    "      if (dist < min_dist) {\n",
    "        min_dist <- dist\n",
    "        svp <- xp\n",
    "        svn <- xn\n",
    "      }\n",
    "    }\n",
    "  }\n",
    "  return(list(SVP = svp,\n",
    "              SVN = svn))\n",
    "}\n",
    "\n",
    "equations <- function(svp, svn) {\n",
    "  eq_matrix <- rbind(c(1, -1, 0),\n",
    "                     c((svp %*% svp), -1 * (svn %*% svp), 1),\n",
    "                     c((svp %*% svn), -1 * (svn %*% svn), 1))\n",
    "  sol_matrix <- c(0, 1, -1)\n",
    "  return(solve(eq_matrix, sol_matrix))\n",
    "}\n",
    "\n",
    "weights_vector <- function(coefs, svp, svn) {\n",
    "  w <- coefs[1] * svp - coefs[2] * svn\n",
    "  return(w)\n",
    "}\n",
    "\n",
    "road_width <- function(weights) {\n",
    "  denom <- sqrt((weights[1])^2 + (weights[2])^2)\n",
    "  return(2 / denom)\n",
    "}\n",
    "\n",
    "manual_svm <- function(svp, svn, weights, width, k, coefs) {\n",
    "  weights_rho <- c(paste(c(weights[2]), collapse = \" \"),\n",
    "                   paste(c(coefs[3]), collapse = \" \"))\n",
    "  if (weights[2] >= 0) {\n",
    "    weights_rho[1] <- paste(c(\"+\", weights[2]), collapse = \" \")\n",
    "  }\n",
    "  if (coefs[3] >= 0) {\n",
    "    weights_rho[2] <- paste(c(\"+\", coefs[3]), collapse = \" \")\n",
    "  }\n",
    "  hyperplane <- paste(c(weights[1], \"* x \", weights_rho[1],\n",
    "                        \"* y\", weights_rho[2], \" = 0\"), collapse = \" \")\n",
    "  p_hyperplane <- paste(c(weights[1], \"* x \", weights_rho[1],\n",
    "                          \"* y\", weights_rho[2], \" = 1\"), collapse = \" \")\n",
    "  n_hyperplane <- paste(c(weights[1], \"* x \", weights_rho[1],\n",
    "                          \"* y\", weights_rho[2], \" = -1\"), collapse = \" \")\n",
    "  return(list(SVP = data.frame(X1 = svp[1], X2 = svp[2]),\n",
    "              SVN = data.frame(X1 = svn[1], X2 = svn[2]),\n",
    "              W = data.frame(X1 = weights[1], X2 = weights[2]),\n",
    "              width = width,\n",
    "              K = k,\n",
    "              alpha_1 = coefs[1],\n",
    "              alpha_2 = coefs[2],\n",
    "              rho = coefs[3],\n",
    "              planes = data.frame(hyperplane = hyperplane,\n",
    "                                  positive_support = p_hyperplane,\n",
    "                                  negative_support = n_hyperplane)))\n",
    "}"
   ]
  },
  {
   "cell_type": "markdown",
   "metadata": {},
   "source": [
    "## Librerías y dataframes\n",
    "Una vez creadas las funciones auxiliares, cargamos las librerías necesarias y creamos los dataframes a usar, poniendo la columna Y de cada uno como factor."
   ]
  },
  {
   "cell_type": "code",
   "execution_count": 3,
   "metadata": {
    "vscode": {
     "languageId": "r"
    }
   },
   "outputs": [
    {
     "data": {
      "text/html": [
       "<table class=\"dataframe\">\n",
       "<caption>A data.frame: 2 × 3</caption>\n",
       "<thead>\n",
       "\t<tr><th scope=col>X1</th><th scope=col>X2</th><th scope=col>Y</th></tr>\n",
       "\t<tr><th scope=col>&lt;dbl&gt;</th><th scope=col>&lt;dbl&gt;</th><th scope=col>&lt;fct&gt;</th></tr>\n",
       "</thead>\n",
       "<tbody>\n",
       "\t<tr><td>0</td><td>0</td><td>1 </td></tr>\n",
       "\t<tr><td>4</td><td>4</td><td>-1</td></tr>\n",
       "</tbody>\n",
       "</table>\n"
      ],
      "text/latex": [
       "A data.frame: 2 × 3\n",
       "\\begin{tabular}{lll}\n",
       " X1 & X2 & Y\\\\\n",
       " <dbl> & <dbl> & <fct>\\\\\n",
       "\\hline\n",
       "\t 0 & 0 & 1 \\\\\n",
       "\t 4 & 4 & -1\\\\\n",
       "\\end{tabular}\n"
      ],
      "text/markdown": [
       "\n",
       "A data.frame: 2 × 3\n",
       "\n",
       "| X1 &lt;dbl&gt; | X2 &lt;dbl&gt; | Y &lt;fct&gt; |\n",
       "|---|---|---|\n",
       "| 0 | 0 | 1  |\n",
       "| 4 | 4 | -1 |\n",
       "\n"
      ],
      "text/plain": [
       "  X1 X2 Y \n",
       "1 0  0  1 \n",
       "2 4  4  -1"
      ]
     },
     "metadata": {},
     "output_type": "display_data"
    },
    {
     "data": {
      "text/html": [
       "<table class=\"dataframe\">\n",
       "<caption>A data.frame: 3 × 3</caption>\n",
       "<thead>\n",
       "\t<tr><th scope=col>X1</th><th scope=col>X2</th><th scope=col>Y</th></tr>\n",
       "\t<tr><th scope=col>&lt;dbl&gt;</th><th scope=col>&lt;dbl&gt;</th><th scope=col>&lt;fct&gt;</th></tr>\n",
       "</thead>\n",
       "<tbody>\n",
       "\t<tr><td>2</td><td>0</td><td>1 </td></tr>\n",
       "\t<tr><td>0</td><td>0</td><td>-1</td></tr>\n",
       "\t<tr><td>1</td><td>1</td><td>-1</td></tr>\n",
       "</tbody>\n",
       "</table>\n"
      ],
      "text/latex": [
       "A data.frame: 3 × 3\n",
       "\\begin{tabular}{lll}\n",
       " X1 & X2 & Y\\\\\n",
       " <dbl> & <dbl> & <fct>\\\\\n",
       "\\hline\n",
       "\t 2 & 0 & 1 \\\\\n",
       "\t 0 & 0 & -1\\\\\n",
       "\t 1 & 1 & -1\\\\\n",
       "\\end{tabular}\n"
      ],
      "text/markdown": [
       "\n",
       "A data.frame: 3 × 3\n",
       "\n",
       "| X1 &lt;dbl&gt; | X2 &lt;dbl&gt; | Y &lt;fct&gt; |\n",
       "|---|---|---|\n",
       "| 2 | 0 | 1  |\n",
       "| 0 | 0 | -1 |\n",
       "| 1 | 1 | -1 |\n",
       "\n"
      ],
      "text/plain": [
       "  X1 X2 Y \n",
       "1 2  0  1 \n",
       "2 0  0  -1\n",
       "3 1  1  -1"
      ]
     },
     "metadata": {},
     "output_type": "display_data"
    },
    {
     "data": {
      "text/html": [
       "<table class=\"dataframe\">\n",
       "<caption>A data.frame: 8 × 3</caption>\n",
       "<thead>\n",
       "\t<tr><th scope=col>X1</th><th scope=col>X2</th><th scope=col>Y</th></tr>\n",
       "\t<tr><th scope=col>&lt;dbl&gt;</th><th scope=col>&lt;dbl&gt;</th><th scope=col>&lt;fct&gt;</th></tr>\n",
       "</thead>\n",
       "<tbody>\n",
       "\t<tr><td> 2</td><td> 2</td><td>1 </td></tr>\n",
       "\t<tr><td> 2</td><td>-2</td><td>1 </td></tr>\n",
       "\t<tr><td>-2</td><td>-2</td><td>1 </td></tr>\n",
       "\t<tr><td>-2</td><td> 2</td><td>1 </td></tr>\n",
       "\t<tr><td> 1</td><td> 1</td><td>-1</td></tr>\n",
       "\t<tr><td> 1</td><td>-1</td><td>-1</td></tr>\n",
       "\t<tr><td>-1</td><td>-1</td><td>-1</td></tr>\n",
       "\t<tr><td>-1</td><td> 1</td><td>-1</td></tr>\n",
       "</tbody>\n",
       "</table>\n"
      ],
      "text/latex": [
       "A data.frame: 8 × 3\n",
       "\\begin{tabular}{lll}\n",
       " X1 & X2 & Y\\\\\n",
       " <dbl> & <dbl> & <fct>\\\\\n",
       "\\hline\n",
       "\t  2 &  2 & 1 \\\\\n",
       "\t  2 & -2 & 1 \\\\\n",
       "\t -2 & -2 & 1 \\\\\n",
       "\t -2 &  2 & 1 \\\\\n",
       "\t  1 &  1 & -1\\\\\n",
       "\t  1 & -1 & -1\\\\\n",
       "\t -1 & -1 & -1\\\\\n",
       "\t -1 &  1 & -1\\\\\n",
       "\\end{tabular}\n"
      ],
      "text/markdown": [
       "\n",
       "A data.frame: 8 × 3\n",
       "\n",
       "| X1 &lt;dbl&gt; | X2 &lt;dbl&gt; | Y &lt;fct&gt; |\n",
       "|---|---|---|\n",
       "|  2 |  2 | 1  |\n",
       "|  2 | -2 | 1  |\n",
       "| -2 | -2 | 1  |\n",
       "| -2 |  2 | 1  |\n",
       "|  1 |  1 | -1 |\n",
       "|  1 | -1 | -1 |\n",
       "| -1 | -1 | -1 |\n",
       "| -1 |  1 | -1 |\n",
       "\n"
      ],
      "text/plain": [
       "  X1 X2 Y \n",
       "1  2  2 1 \n",
       "2  2 -2 1 \n",
       "3 -2 -2 1 \n",
       "4 -2  2 1 \n",
       "5  1  1 -1\n",
       "6  1 -1 -1\n",
       "7 -1 -1 -1\n",
       "8 -1  1 -1"
      ]
     },
     "metadata": {},
     "output_type": "display_data"
    },
    {
     "data": {
      "text/html": [
       "<table class=\"dataframe\">\n",
       "<caption>A data.frame: 8 × 3</caption>\n",
       "<thead>\n",
       "\t<tr><th scope=col>X1</th><th scope=col>X2</th><th scope=col>Y</th></tr>\n",
       "\t<tr><th scope=col>&lt;dbl&gt;</th><th scope=col>&lt;dbl&gt;</th><th scope=col>&lt;fct&gt;</th></tr>\n",
       "</thead>\n",
       "<tbody>\n",
       "\t<tr><td> 2</td><td> 2</td><td>1 </td></tr>\n",
       "\t<tr><td> 6</td><td> 6</td><td>1 </td></tr>\n",
       "\t<tr><td> 6</td><td> 6</td><td>1 </td></tr>\n",
       "\t<tr><td> 2</td><td> 2</td><td>1 </td></tr>\n",
       "\t<tr><td> 1</td><td> 1</td><td>-1</td></tr>\n",
       "\t<tr><td>-1</td><td>-1</td><td>-1</td></tr>\n",
       "\t<tr><td>-1</td><td>-1</td><td>-1</td></tr>\n",
       "\t<tr><td> 1</td><td> 1</td><td>-1</td></tr>\n",
       "</tbody>\n",
       "</table>\n"
      ],
      "text/latex": [
       "A data.frame: 8 × 3\n",
       "\\begin{tabular}{lll}\n",
       " X1 & X2 & Y\\\\\n",
       " <dbl> & <dbl> & <fct>\\\\\n",
       "\\hline\n",
       "\t  2 &  2 & 1 \\\\\n",
       "\t  6 &  6 & 1 \\\\\n",
       "\t  6 &  6 & 1 \\\\\n",
       "\t  2 &  2 & 1 \\\\\n",
       "\t  1 &  1 & -1\\\\\n",
       "\t -1 & -1 & -1\\\\\n",
       "\t -1 & -1 & -1\\\\\n",
       "\t  1 &  1 & -1\\\\\n",
       "\\end{tabular}\n"
      ],
      "text/markdown": [
       "\n",
       "A data.frame: 8 × 3\n",
       "\n",
       "| X1 &lt;dbl&gt; | X2 &lt;dbl&gt; | Y &lt;fct&gt; |\n",
       "|---|---|---|\n",
       "|  2 |  2 | 1  |\n",
       "|  6 |  6 | 1  |\n",
       "|  6 |  6 | 1  |\n",
       "|  2 |  2 | 1  |\n",
       "|  1 |  1 | -1 |\n",
       "| -1 | -1 | -1 |\n",
       "| -1 | -1 | -1 |\n",
       "|  1 |  1 | -1 |\n",
       "\n"
      ],
      "text/plain": [
       "  X1 X2 Y \n",
       "1  2  2 1 \n",
       "2  6  6 1 \n",
       "3  6  6 1 \n",
       "4  2  2 1 \n",
       "5  1  1 -1\n",
       "6 -1 -1 -1\n",
       "7 -1 -1 -1\n",
       "8  1  1 -1"
      ]
     },
     "metadata": {},
     "output_type": "display_data"
    },
    {
     "data": {
      "text/html": [
       "<table class=\"dataframe\">\n",
       "<caption>A data.frame: 8 × 3</caption>\n",
       "<thead>\n",
       "\t<tr><th scope=col>X1</th><th scope=col>X2</th><th scope=col>Y</th></tr>\n",
       "\t<tr><th scope=col>&lt;dbl&gt;</th><th scope=col>&lt;dbl&gt;</th><th scope=col>&lt;fct&gt;</th></tr>\n",
       "</thead>\n",
       "<tbody>\n",
       "\t<tr><td> 3</td><td> 1</td><td>1 </td></tr>\n",
       "\t<tr><td> 3</td><td>-1</td><td>1 </td></tr>\n",
       "\t<tr><td> 6</td><td> 1</td><td>1 </td></tr>\n",
       "\t<tr><td> 6</td><td>-1</td><td>1 </td></tr>\n",
       "\t<tr><td> 1</td><td> 0</td><td>-1</td></tr>\n",
       "\t<tr><td> 0</td><td> 1</td><td>-1</td></tr>\n",
       "\t<tr><td> 0</td><td>-1</td><td>-1</td></tr>\n",
       "\t<tr><td>-1</td><td> 0</td><td>-1</td></tr>\n",
       "</tbody>\n",
       "</table>\n"
      ],
      "text/latex": [
       "A data.frame: 8 × 3\n",
       "\\begin{tabular}{lll}\n",
       " X1 & X2 & Y\\\\\n",
       " <dbl> & <dbl> & <fct>\\\\\n",
       "\\hline\n",
       "\t  3 &  1 & 1 \\\\\n",
       "\t  3 & -1 & 1 \\\\\n",
       "\t  6 &  1 & 1 \\\\\n",
       "\t  6 & -1 & 1 \\\\\n",
       "\t  1 &  0 & -1\\\\\n",
       "\t  0 &  1 & -1\\\\\n",
       "\t  0 & -1 & -1\\\\\n",
       "\t -1 &  0 & -1\\\\\n",
       "\\end{tabular}\n"
      ],
      "text/markdown": [
       "\n",
       "A data.frame: 8 × 3\n",
       "\n",
       "| X1 &lt;dbl&gt; | X2 &lt;dbl&gt; | Y &lt;fct&gt; |\n",
       "|---|---|---|\n",
       "|  3 |  1 | 1  |\n",
       "|  3 | -1 | 1  |\n",
       "|  6 |  1 | 1  |\n",
       "|  6 | -1 | 1  |\n",
       "|  1 |  0 | -1 |\n",
       "|  0 |  1 | -1 |\n",
       "|  0 | -1 | -1 |\n",
       "| -1 |  0 | -1 |\n",
       "\n"
      ],
      "text/plain": [
       "  X1 X2 Y \n",
       "1  3  1 1 \n",
       "2  3 -1 1 \n",
       "3  6  1 1 \n",
       "4  6 -1 1 \n",
       "5  1  0 -1\n",
       "6  0  1 -1\n",
       "7  0 -1 -1\n",
       "8 -1  0 -1"
      ]
     },
     "metadata": {},
     "output_type": "display_data"
    }
   ],
   "source": [
    "library(tidyverse)\n",
    "\n",
    "dataframe_a <- data.frame(X1 = c(0, 4), X2 = c(0, 4), Y = c(1, -1))\n",
    "dataframe_a$Y <- as.factor(dataframe_a$Y)\n",
    "dataframe_a\n",
    "\n",
    "dataframe_b <- data.frame(X1 = c(2, 0, 1), X2 = c(0, 0, 1), Y = c(1, -1, -1))\n",
    "dataframe_b$Y <- as.factor(dataframe_b$Y)\n",
    "dataframe_b\n",
    "\n",
    "dataframe_c <- data.frame(X1 = c(2, 2, -2, -2, 1, 1, -1, -1),\n",
    "                          X2 = c(2, -2, -2, 2, 1, -1, -1, 1),\n",
    "                          Y = c(rep(1, 4), rep(-1, 4)))\n",
    "dataframe_c$Y <- as.factor(dataframe_c$Y)\n",
    "dataframe_c\n",
    "\n",
    "dataframe_d <- dataframe_c\n",
    "x1_x2 <- transformacion(dataframe_d$X1, dataframe_d$X2)\n",
    "dataframe_d$X1 <- x1_x2$X1\n",
    "dataframe_d$X2 <- x1_x2$X2\n",
    "dataframe_d\n",
    "\n",
    "dataframe_e <- data.frame(X1 = c(3, 3, 6, 6, 1, 0, 0, -1),\n",
    "                          X2 = c(1, -1, 1, -1, 0, 1, -1, 0),\n",
    "                          Y = c(rep(1, 4), rep(-1, 4)))\n",
    "dataframe_e$Y <- as.factor(dataframe_e$Y)\n",
    "dataframe_e"
   ]
  },
  {
   "cell_type": "markdown",
   "metadata": {},
   "source": [
    "## Desarrollo\n",
    "Primero, determinamos los vectores soporte de cada dataframe"
   ]
  },
  {
   "cell_type": "code",
   "execution_count": 43,
   "metadata": {
    "vscode": {
     "languageId": "r"
    }
   },
   "outputs": [
    {
     "data": {
      "text/html": [
       "<dl>\n",
       "\t<dt>$SVP</dt>\n",
       "\t\t<dd><style>\n",
       ".list-inline {list-style: none; margin:0; padding: 0}\n",
       ".list-inline>li {display: inline-block}\n",
       ".list-inline>li:not(:last-child)::after {content: \"\\00b7\"; padding: 0 .5ex}\n",
       "</style>\n",
       "<ol class=list-inline><li>0</li><li>0</li></ol>\n",
       "</dd>\n",
       "\t<dt>$SVN</dt>\n",
       "\t\t<dd><style>\n",
       ".list-inline {list-style: none; margin:0; padding: 0}\n",
       ".list-inline>li {display: inline-block}\n",
       ".list-inline>li:not(:last-child)::after {content: \"\\00b7\"; padding: 0 .5ex}\n",
       "</style>\n",
       "<ol class=list-inline><li>4</li><li>4</li></ol>\n",
       "</dd>\n",
       "</dl>\n"
      ],
      "text/latex": [
       "\\begin{description}\n",
       "\\item[\\$SVP] \\begin{enumerate*}\n",
       "\\item 0\n",
       "\\item 0\n",
       "\\end{enumerate*}\n",
       "\n",
       "\\item[\\$SVN] \\begin{enumerate*}\n",
       "\\item 4\n",
       "\\item 4\n",
       "\\end{enumerate*}\n",
       "\n",
       "\\end{description}\n"
      ],
      "text/markdown": [
       "$SVP\n",
       ":   1. 0\n",
       "2. 0\n",
       "\n",
       "\n",
       "\n",
       "$SVN\n",
       ":   1. 4\n",
       "2. 4\n",
       "\n",
       "\n",
       "\n",
       "\n",
       "\n"
      ],
      "text/plain": [
       "$SVP\n",
       "[1] 0 0\n",
       "\n",
       "$SVN\n",
       "[1] 4 4\n"
      ]
     },
     "metadata": {},
     "output_type": "display_data"
    },
    {
     "data": {
      "text/html": [
       "<dl>\n",
       "\t<dt>$SVP</dt>\n",
       "\t\t<dd><style>\n",
       ".list-inline {list-style: none; margin:0; padding: 0}\n",
       ".list-inline>li {display: inline-block}\n",
       ".list-inline>li:not(:last-child)::after {content: \"\\00b7\"; padding: 0 .5ex}\n",
       "</style>\n",
       "<ol class=list-inline><li>2</li><li>0</li></ol>\n",
       "</dd>\n",
       "\t<dt>$SVN</dt>\n",
       "\t\t<dd><style>\n",
       ".list-inline {list-style: none; margin:0; padding: 0}\n",
       ".list-inline>li {display: inline-block}\n",
       ".list-inline>li:not(:last-child)::after {content: \"\\00b7\"; padding: 0 .5ex}\n",
       "</style>\n",
       "<ol class=list-inline><li>1</li><li>1</li></ol>\n",
       "</dd>\n",
       "</dl>\n"
      ],
      "text/latex": [
       "\\begin{description}\n",
       "\\item[\\$SVP] \\begin{enumerate*}\n",
       "\\item 2\n",
       "\\item 0\n",
       "\\end{enumerate*}\n",
       "\n",
       "\\item[\\$SVN] \\begin{enumerate*}\n",
       "\\item 1\n",
       "\\item 1\n",
       "\\end{enumerate*}\n",
       "\n",
       "\\end{description}\n"
      ],
      "text/markdown": [
       "$SVP\n",
       ":   1. 2\n",
       "2. 0\n",
       "\n",
       "\n",
       "\n",
       "$SVN\n",
       ":   1. 1\n",
       "2. 1\n",
       "\n",
       "\n",
       "\n",
       "\n",
       "\n"
      ],
      "text/plain": [
       "$SVP\n",
       "[1] 2 0\n",
       "\n",
       "$SVN\n",
       "[1] 1 1\n"
      ]
     },
     "metadata": {},
     "output_type": "display_data"
    },
    {
     "data": {
      "text/html": [
       "<dl>\n",
       "\t<dt>$SVP</dt>\n",
       "\t\t<dd><style>\n",
       ".list-inline {list-style: none; margin:0; padding: 0}\n",
       ".list-inline>li {display: inline-block}\n",
       ".list-inline>li:not(:last-child)::after {content: \"\\00b7\"; padding: 0 .5ex}\n",
       "</style>\n",
       "<ol class=list-inline><li>2</li><li>2</li></ol>\n",
       "</dd>\n",
       "\t<dt>$SVN</dt>\n",
       "\t\t<dd><style>\n",
       ".list-inline {list-style: none; margin:0; padding: 0}\n",
       ".list-inline>li {display: inline-block}\n",
       ".list-inline>li:not(:last-child)::after {content: \"\\00b7\"; padding: 0 .5ex}\n",
       "</style>\n",
       "<ol class=list-inline><li>1</li><li>1</li></ol>\n",
       "</dd>\n",
       "</dl>\n"
      ],
      "text/latex": [
       "\\begin{description}\n",
       "\\item[\\$SVP] \\begin{enumerate*}\n",
       "\\item 2\n",
       "\\item 2\n",
       "\\end{enumerate*}\n",
       "\n",
       "\\item[\\$SVN] \\begin{enumerate*}\n",
       "\\item 1\n",
       "\\item 1\n",
       "\\end{enumerate*}\n",
       "\n",
       "\\end{description}\n"
      ],
      "text/markdown": [
       "$SVP\n",
       ":   1. 2\n",
       "2. 2\n",
       "\n",
       "\n",
       "\n",
       "$SVN\n",
       ":   1. 1\n",
       "2. 1\n",
       "\n",
       "\n",
       "\n",
       "\n",
       "\n"
      ],
      "text/plain": [
       "$SVP\n",
       "[1] 2 2\n",
       "\n",
       "$SVN\n",
       "[1] 1 1\n"
      ]
     },
     "metadata": {},
     "output_type": "display_data"
    },
    {
     "data": {
      "text/html": [
       "<dl>\n",
       "\t<dt>$SVP</dt>\n",
       "\t\t<dd><style>\n",
       ".list-inline {list-style: none; margin:0; padding: 0}\n",
       ".list-inline>li {display: inline-block}\n",
       ".list-inline>li:not(:last-child)::after {content: \"\\00b7\"; padding: 0 .5ex}\n",
       "</style>\n",
       "<ol class=list-inline><li>2</li><li>2</li></ol>\n",
       "</dd>\n",
       "\t<dt>$SVN</dt>\n",
       "\t\t<dd><style>\n",
       ".list-inline {list-style: none; margin:0; padding: 0}\n",
       ".list-inline>li {display: inline-block}\n",
       ".list-inline>li:not(:last-child)::after {content: \"\\00b7\"; padding: 0 .5ex}\n",
       "</style>\n",
       "<ol class=list-inline><li>1</li><li>1</li></ol>\n",
       "</dd>\n",
       "</dl>\n"
      ],
      "text/latex": [
       "\\begin{description}\n",
       "\\item[\\$SVP] \\begin{enumerate*}\n",
       "\\item 2\n",
       "\\item 2\n",
       "\\end{enumerate*}\n",
       "\n",
       "\\item[\\$SVN] \\begin{enumerate*}\n",
       "\\item 1\n",
       "\\item 1\n",
       "\\end{enumerate*}\n",
       "\n",
       "\\end{description}\n"
      ],
      "text/markdown": [
       "$SVP\n",
       ":   1. 2\n",
       "2. 2\n",
       "\n",
       "\n",
       "\n",
       "$SVN\n",
       ":   1. 1\n",
       "2. 1\n",
       "\n",
       "\n",
       "\n",
       "\n",
       "\n"
      ],
      "text/plain": [
       "$SVP\n",
       "[1] 2 2\n",
       "\n",
       "$SVN\n",
       "[1] 1 1\n"
      ]
     },
     "metadata": {},
     "output_type": "display_data"
    },
    {
     "data": {
      "text/html": [
       "<dl>\n",
       "\t<dt>$SVP</dt>\n",
       "\t\t<dd><style>\n",
       ".list-inline {list-style: none; margin:0; padding: 0}\n",
       ".list-inline>li {display: inline-block}\n",
       ".list-inline>li:not(:last-child)::after {content: \"\\00b7\"; padding: 0 .5ex}\n",
       "</style>\n",
       "<ol class=list-inline><li>3</li><li>1</li></ol>\n",
       "</dd>\n",
       "\t<dt>$SVN</dt>\n",
       "\t\t<dd><style>\n",
       ".list-inline {list-style: none; margin:0; padding: 0}\n",
       ".list-inline>li {display: inline-block}\n",
       ".list-inline>li:not(:last-child)::after {content: \"\\00b7\"; padding: 0 .5ex}\n",
       "</style>\n",
       "<ol class=list-inline><li>1</li><li>0</li></ol>\n",
       "</dd>\n",
       "</dl>\n"
      ],
      "text/latex": [
       "\\begin{description}\n",
       "\\item[\\$SVP] \\begin{enumerate*}\n",
       "\\item 3\n",
       "\\item 1\n",
       "\\end{enumerate*}\n",
       "\n",
       "\\item[\\$SVN] \\begin{enumerate*}\n",
       "\\item 1\n",
       "\\item 0\n",
       "\\end{enumerate*}\n",
       "\n",
       "\\end{description}\n"
      ],
      "text/markdown": [
       "$SVP\n",
       ":   1. 3\n",
       "2. 1\n",
       "\n",
       "\n",
       "\n",
       "$SVN\n",
       ":   1. 1\n",
       "2. 0\n",
       "\n",
       "\n",
       "\n",
       "\n",
       "\n"
      ],
      "text/plain": [
       "$SVP\n",
       "[1] 3 1\n",
       "\n",
       "$SVN\n",
       "[1] 1 0\n"
      ]
     },
     "metadata": {},
     "output_type": "display_data"
    }
   ],
   "source": [
    "dataframe_a_positive <- as.vector(dataframe_a[dataframe_a$Y == 1, -3])\n",
    "dataframe_a_negative <- as.vector(dataframe_a[dataframe_a$Y == -1, -3])\n",
    "sv_df_a <- support_vectors(dataframe_a_positive[[1]], dataframe_a_positive[[2]],\n",
    "                           dataframe_a_negative[[1]], dataframe_a_negative[[2]])\n",
    "sv_df_a\n",
    "dataframe_b_positive <- as.vector(dataframe_b[dataframe_b$Y == 1, -3])\n",
    "dataframe_b_negative <- as.vector(dataframe_b[dataframe_b$Y == -1, -3])\n",
    "sv_df_b <- support_vectors(dataframe_b_positive[[1]], dataframe_b_positive[[2]],\n",
    "                           dataframe_b_negative[[1]], dataframe_b_negative[[2]])\n",
    "sv_df_b\n",
    "dataframe_c_positive <- as.vector(dataframe_c[dataframe_c$Y == 1, -3])\n",
    "dataframe_c_negative <- as.vector(dataframe_c[dataframe_c$Y == -1, -3])\n",
    "sv_df_c <- support_vectors(dataframe_c_positive[[1]], dataframe_c_positive[[2]],\n",
    "                           dataframe_c_negative[[1]], dataframe_c_negative[[2]])\n",
    "sv_df_c\n",
    "dataframe_d_positive <- as.vector(dataframe_d[dataframe_d$Y == 1, -3])\n",
    "dataframe_d_negative <- as.vector(dataframe_d[dataframe_d$Y == -1, -3])\n",
    "sv_df_d <- support_vectors(dataframe_d_positive[[1]], dataframe_d_positive[[2]],\n",
    "                           dataframe_d_negative[[1]], dataframe_d_negative[[2]])\n",
    "sv_df_d\n",
    "dataframe_e_positive <- as.vector(dataframe_e[dataframe_e$Y == 1, -3])\n",
    "dataframe_e_negative <- as.vector(dataframe_e[dataframe_e$Y == -1, -3])\n",
    "sv_df_e <- support_vectors(dataframe_e_positive[[1]], dataframe_e_positive[[2]],\n",
    "                           dataframe_e_negative[[1]], dataframe_e_negative[[2]])\n",
    "sv_df_e"
   ]
  },
  {
   "cell_type": "markdown",
   "metadata": {},
   "source": [
    "Para calcular los kernels, podemos usar nuestra función auxiliar *kernel*"
   ]
  },
  {
   "cell_type": "code",
   "execution_count": 14,
   "metadata": {
    "vscode": {
     "languageId": "r"
    }
   },
   "outputs": [
    {
     "data": {
      "text/html": [
       "<table class=\"dataframe\">\n",
       "<caption>A matrix: 2 × 2 of type dbl</caption>\n",
       "<tbody>\n",
       "\t<tr><td>0</td><td> 0</td></tr>\n",
       "\t<tr><td>0</td><td>32</td></tr>\n",
       "</tbody>\n",
       "</table>\n"
      ],
      "text/latex": [
       "A matrix: 2 × 2 of type dbl\n",
       "\\begin{tabular}{ll}\n",
       "\t 0 &  0\\\\\n",
       "\t 0 & 32\\\\\n",
       "\\end{tabular}\n"
      ],
      "text/markdown": [
       "\n",
       "A matrix: 2 × 2 of type dbl\n",
       "\n",
       "| 0 |  0 |\n",
       "| 0 | 32 |\n",
       "\n"
      ],
      "text/plain": [
       "     [,1] [,2]\n",
       "[1,] 0     0  \n",
       "[2,] 0    32  "
      ]
     },
     "metadata": {},
     "output_type": "display_data"
    },
    {
     "data": {
      "text/html": [
       "<table class=\"dataframe\">\n",
       "<caption>A matrix: 3 × 3 of type dbl</caption>\n",
       "<tbody>\n",
       "\t<tr><td>4</td><td>0</td><td>2</td></tr>\n",
       "\t<tr><td>0</td><td>0</td><td>0</td></tr>\n",
       "\t<tr><td>2</td><td>0</td><td>2</td></tr>\n",
       "</tbody>\n",
       "</table>\n"
      ],
      "text/latex": [
       "A matrix: 3 × 3 of type dbl\n",
       "\\begin{tabular}{lll}\n",
       "\t 4 & 0 & 2\\\\\n",
       "\t 0 & 0 & 0\\\\\n",
       "\t 2 & 0 & 2\\\\\n",
       "\\end{tabular}\n"
      ],
      "text/markdown": [
       "\n",
       "A matrix: 3 × 3 of type dbl\n",
       "\n",
       "| 4 | 0 | 2 |\n",
       "| 0 | 0 | 0 |\n",
       "| 2 | 0 | 2 |\n",
       "\n"
      ],
      "text/plain": [
       "     [,1] [,2] [,3]\n",
       "[1,] 4    0    2   \n",
       "[2,] 0    0    0   \n",
       "[3,] 2    0    2   "
      ]
     },
     "metadata": {},
     "output_type": "display_data"
    },
    {
     "data": {
      "text/html": [
       "<table class=\"dataframe\">\n",
       "<caption>A matrix: 8 × 8 of type dbl</caption>\n",
       "<tbody>\n",
       "\t<tr><td> 8</td><td> 0</td><td>-8</td><td> 0</td><td> 4</td><td> 0</td><td>-4</td><td> 0</td></tr>\n",
       "\t<tr><td> 0</td><td> 8</td><td> 0</td><td>-8</td><td> 0</td><td> 4</td><td> 0</td><td>-4</td></tr>\n",
       "\t<tr><td>-8</td><td> 0</td><td> 8</td><td> 0</td><td>-4</td><td> 0</td><td> 4</td><td> 0</td></tr>\n",
       "\t<tr><td> 0</td><td>-8</td><td> 0</td><td> 8</td><td> 0</td><td>-4</td><td> 0</td><td> 4</td></tr>\n",
       "\t<tr><td> 4</td><td> 0</td><td>-4</td><td> 0</td><td> 2</td><td> 0</td><td>-2</td><td> 0</td></tr>\n",
       "\t<tr><td> 0</td><td> 4</td><td> 0</td><td>-4</td><td> 0</td><td> 2</td><td> 0</td><td>-2</td></tr>\n",
       "\t<tr><td>-4</td><td> 0</td><td> 4</td><td> 0</td><td>-2</td><td> 0</td><td> 2</td><td> 0</td></tr>\n",
       "\t<tr><td> 0</td><td>-4</td><td> 0</td><td> 4</td><td> 0</td><td>-2</td><td> 0</td><td> 2</td></tr>\n",
       "</tbody>\n",
       "</table>\n"
      ],
      "text/latex": [
       "A matrix: 8 × 8 of type dbl\n",
       "\\begin{tabular}{llllllll}\n",
       "\t  8 &  0 & -8 &  0 &  4 &  0 & -4 &  0\\\\\n",
       "\t  0 &  8 &  0 & -8 &  0 &  4 &  0 & -4\\\\\n",
       "\t -8 &  0 &  8 &  0 & -4 &  0 &  4 &  0\\\\\n",
       "\t  0 & -8 &  0 &  8 &  0 & -4 &  0 &  4\\\\\n",
       "\t  4 &  0 & -4 &  0 &  2 &  0 & -2 &  0\\\\\n",
       "\t  0 &  4 &  0 & -4 &  0 &  2 &  0 & -2\\\\\n",
       "\t -4 &  0 &  4 &  0 & -2 &  0 &  2 &  0\\\\\n",
       "\t  0 & -4 &  0 &  4 &  0 & -2 &  0 &  2\\\\\n",
       "\\end{tabular}\n"
      ],
      "text/markdown": [
       "\n",
       "A matrix: 8 × 8 of type dbl\n",
       "\n",
       "|  8 |  0 | -8 |  0 |  4 |  0 | -4 |  0 |\n",
       "|  0 |  8 |  0 | -8 |  0 |  4 |  0 | -4 |\n",
       "| -8 |  0 |  8 |  0 | -4 |  0 |  4 |  0 |\n",
       "|  0 | -8 |  0 |  8 |  0 | -4 |  0 |  4 |\n",
       "|  4 |  0 | -4 |  0 |  2 |  0 | -2 |  0 |\n",
       "|  0 |  4 |  0 | -4 |  0 |  2 |  0 | -2 |\n",
       "| -4 |  0 |  4 |  0 | -2 |  0 |  2 |  0 |\n",
       "|  0 | -4 |  0 |  4 |  0 | -2 |  0 |  2 |\n",
       "\n"
      ],
      "text/plain": [
       "     [,1] [,2] [,3] [,4] [,5] [,6] [,7] [,8]\n",
       "[1,]  8    0   -8    0    4    0   -4    0  \n",
       "[2,]  0    8    0   -8    0    4    0   -4  \n",
       "[3,] -8    0    8    0   -4    0    4    0  \n",
       "[4,]  0   -8    0    8    0   -4    0    4  \n",
       "[5,]  4    0   -4    0    2    0   -2    0  \n",
       "[6,]  0    4    0   -4    0    2    0   -2  \n",
       "[7,] -4    0    4    0   -2    0    2    0  \n",
       "[8,]  0   -4    0    4    0   -2    0    2  "
      ]
     },
     "metadata": {},
     "output_type": "display_data"
    },
    {
     "data": {
      "text/html": [
       "<table class=\"dataframe\">\n",
       "<caption>A matrix: 8 × 8 of type dbl</caption>\n",
       "<tbody>\n",
       "\t<tr><td> 8</td><td> 24</td><td> 24</td><td> 8</td><td> 4</td><td> -4</td><td> -4</td><td> 4</td></tr>\n",
       "\t<tr><td>24</td><td> 72</td><td> 72</td><td>24</td><td>12</td><td>-12</td><td>-12</td><td>12</td></tr>\n",
       "\t<tr><td>24</td><td> 72</td><td> 72</td><td>24</td><td>12</td><td>-12</td><td>-12</td><td>12</td></tr>\n",
       "\t<tr><td> 8</td><td> 24</td><td> 24</td><td> 8</td><td> 4</td><td> -4</td><td> -4</td><td> 4</td></tr>\n",
       "\t<tr><td> 4</td><td> 12</td><td> 12</td><td> 4</td><td> 2</td><td> -2</td><td> -2</td><td> 2</td></tr>\n",
       "\t<tr><td>-4</td><td>-12</td><td>-12</td><td>-4</td><td>-2</td><td>  2</td><td>  2</td><td>-2</td></tr>\n",
       "\t<tr><td>-4</td><td>-12</td><td>-12</td><td>-4</td><td>-2</td><td>  2</td><td>  2</td><td>-2</td></tr>\n",
       "\t<tr><td> 4</td><td> 12</td><td> 12</td><td> 4</td><td> 2</td><td> -2</td><td> -2</td><td> 2</td></tr>\n",
       "</tbody>\n",
       "</table>\n"
      ],
      "text/latex": [
       "A matrix: 8 × 8 of type dbl\n",
       "\\begin{tabular}{llllllll}\n",
       "\t  8 &  24 &  24 &  8 &  4 &  -4 &  -4 &  4\\\\\n",
       "\t 24 &  72 &  72 & 24 & 12 & -12 & -12 & 12\\\\\n",
       "\t 24 &  72 &  72 & 24 & 12 & -12 & -12 & 12\\\\\n",
       "\t  8 &  24 &  24 &  8 &  4 &  -4 &  -4 &  4\\\\\n",
       "\t  4 &  12 &  12 &  4 &  2 &  -2 &  -2 &  2\\\\\n",
       "\t -4 & -12 & -12 & -4 & -2 &   2 &   2 & -2\\\\\n",
       "\t -4 & -12 & -12 & -4 & -2 &   2 &   2 & -2\\\\\n",
       "\t  4 &  12 &  12 &  4 &  2 &  -2 &  -2 &  2\\\\\n",
       "\\end{tabular}\n"
      ],
      "text/markdown": [
       "\n",
       "A matrix: 8 × 8 of type dbl\n",
       "\n",
       "|  8 |  24 |  24 |  8 |  4 |  -4 |  -4 |  4 |\n",
       "| 24 |  72 |  72 | 24 | 12 | -12 | -12 | 12 |\n",
       "| 24 |  72 |  72 | 24 | 12 | -12 | -12 | 12 |\n",
       "|  8 |  24 |  24 |  8 |  4 |  -4 |  -4 |  4 |\n",
       "|  4 |  12 |  12 |  4 |  2 |  -2 |  -2 |  2 |\n",
       "| -4 | -12 | -12 | -4 | -2 |   2 |   2 | -2 |\n",
       "| -4 | -12 | -12 | -4 | -2 |   2 |   2 | -2 |\n",
       "|  4 |  12 |  12 |  4 |  2 |  -2 |  -2 |  2 |\n",
       "\n"
      ],
      "text/plain": [
       "     [,1] [,2] [,3] [,4] [,5] [,6] [,7] [,8]\n",
       "[1,]  8    24   24   8    4    -4   -4   4  \n",
       "[2,] 24    72   72  24   12   -12  -12  12  \n",
       "[3,] 24    72   72  24   12   -12  -12  12  \n",
       "[4,]  8    24   24   8    4    -4   -4   4  \n",
       "[5,]  4    12   12   4    2    -2   -2   2  \n",
       "[6,] -4   -12  -12  -4   -2     2    2  -2  \n",
       "[7,] -4   -12  -12  -4   -2     2    2  -2  \n",
       "[8,]  4    12   12   4    2    -2   -2   2  "
      ]
     },
     "metadata": {},
     "output_type": "display_data"
    },
    {
     "data": {
      "text/html": [
       "<table class=\"dataframe\">\n",
       "<caption>A matrix: 8 × 8 of type dbl</caption>\n",
       "<tbody>\n",
       "\t<tr><td>10</td><td> 8</td><td>19</td><td>17</td><td> 3</td><td> 1</td><td>-1</td><td>-3</td></tr>\n",
       "\t<tr><td> 8</td><td>10</td><td>17</td><td>19</td><td> 3</td><td>-1</td><td> 1</td><td>-3</td></tr>\n",
       "\t<tr><td>19</td><td>17</td><td>37</td><td>35</td><td> 6</td><td> 1</td><td>-1</td><td>-6</td></tr>\n",
       "\t<tr><td>17</td><td>19</td><td>35</td><td>37</td><td> 6</td><td>-1</td><td> 1</td><td>-6</td></tr>\n",
       "\t<tr><td> 3</td><td> 3</td><td> 6</td><td> 6</td><td> 1</td><td> 0</td><td> 0</td><td>-1</td></tr>\n",
       "\t<tr><td> 1</td><td>-1</td><td> 1</td><td>-1</td><td> 0</td><td> 1</td><td>-1</td><td> 0</td></tr>\n",
       "\t<tr><td>-1</td><td> 1</td><td>-1</td><td> 1</td><td> 0</td><td>-1</td><td> 1</td><td> 0</td></tr>\n",
       "\t<tr><td>-3</td><td>-3</td><td>-6</td><td>-6</td><td>-1</td><td> 0</td><td> 0</td><td> 1</td></tr>\n",
       "</tbody>\n",
       "</table>\n"
      ],
      "text/latex": [
       "A matrix: 8 × 8 of type dbl\n",
       "\\begin{tabular}{llllllll}\n",
       "\t 10 &  8 & 19 & 17 &  3 &  1 & -1 & -3\\\\\n",
       "\t  8 & 10 & 17 & 19 &  3 & -1 &  1 & -3\\\\\n",
       "\t 19 & 17 & 37 & 35 &  6 &  1 & -1 & -6\\\\\n",
       "\t 17 & 19 & 35 & 37 &  6 & -1 &  1 & -6\\\\\n",
       "\t  3 &  3 &  6 &  6 &  1 &  0 &  0 & -1\\\\\n",
       "\t  1 & -1 &  1 & -1 &  0 &  1 & -1 &  0\\\\\n",
       "\t -1 &  1 & -1 &  1 &  0 & -1 &  1 &  0\\\\\n",
       "\t -3 & -3 & -6 & -6 & -1 &  0 &  0 &  1\\\\\n",
       "\\end{tabular}\n"
      ],
      "text/markdown": [
       "\n",
       "A matrix: 8 × 8 of type dbl\n",
       "\n",
       "| 10 |  8 | 19 | 17 |  3 |  1 | -1 | -3 |\n",
       "|  8 | 10 | 17 | 19 |  3 | -1 |  1 | -3 |\n",
       "| 19 | 17 | 37 | 35 |  6 |  1 | -1 | -6 |\n",
       "| 17 | 19 | 35 | 37 |  6 | -1 |  1 | -6 |\n",
       "|  3 |  3 |  6 |  6 |  1 |  0 |  0 | -1 |\n",
       "|  1 | -1 |  1 | -1 |  0 |  1 | -1 |  0 |\n",
       "| -1 |  1 | -1 |  1 |  0 | -1 |  1 |  0 |\n",
       "| -3 | -3 | -6 | -6 | -1 |  0 |  0 |  1 |\n",
       "\n"
      ],
      "text/plain": [
       "     [,1] [,2] [,3] [,4] [,5] [,6] [,7] [,8]\n",
       "[1,] 10    8   19   17    3    1   -1   -3  \n",
       "[2,]  8   10   17   19    3   -1    1   -3  \n",
       "[3,] 19   17   37   35    6    1   -1   -6  \n",
       "[4,] 17   19   35   37    6   -1    1   -6  \n",
       "[5,]  3    3    6    6    1    0    0   -1  \n",
       "[6,]  1   -1    1   -1    0    1   -1    0  \n",
       "[7,] -1    1   -1    1    0   -1    1    0  \n",
       "[8,] -3   -3   -6   -6   -1    0    0    1  "
      ]
     },
     "metadata": {},
     "output_type": "display_data"
    }
   ],
   "source": [
    "kernel_df_a <- kernel(dataframe_a$X1, dataframe_a$X2)\n",
    "kernel_df_a\n",
    "kernel_df_b <- kernel(dataframe_b$X1, dataframe_b$X2)\n",
    "kernel_df_b\n",
    "kernel_df_c <- kernel(dataframe_c$X1, dataframe_c$X2)\n",
    "kernel_df_c\n",
    "kernel_df_d <- kernel(dataframe_d$X1, dataframe_d$X2)\n",
    "kernel_df_d\n",
    "kernel_df_e <- kernel(dataframe_e$X1, dataframe_e$X2)\n",
    "kernel_df_e"
   ]
  },
  {
   "cell_type": "markdown",
   "metadata": {},
   "source": [
    "Para determinar los coeficientes de cada máquina vector soporte, tenemos que plantear y resolver las ecuaciones, usando nuestra función auxiliar *equations*"
   ]
  },
  {
   "cell_type": "code",
   "execution_count": 32,
   "metadata": {
    "vscode": {
     "languageId": "r"
    }
   },
   "outputs": [
    {
     "data": {
      "text/html": [
       "<style>\n",
       ".list-inline {list-style: none; margin:0; padding: 0}\n",
       ".list-inline>li {display: inline-block}\n",
       ".list-inline>li:not(:last-child)::after {content: \"\\00b7\"; padding: 0 .5ex}\n",
       "</style>\n",
       "<ol class=list-inline><li>0.0625</li><li>0.0625</li><li>1</li></ol>\n"
      ],
      "text/latex": [
       "\\begin{enumerate*}\n",
       "\\item 0.0625\n",
       "\\item 0.0625\n",
       "\\item 1\n",
       "\\end{enumerate*}\n"
      ],
      "text/markdown": [
       "1. 0.0625\n",
       "2. 0.0625\n",
       "3. 1\n",
       "\n",
       "\n"
      ],
      "text/plain": [
       "[1] 0.0625 0.0625 1.0000"
      ]
     },
     "metadata": {},
     "output_type": "display_data"
    },
    {
     "data": {
      "text/html": [
       "<style>\n",
       ".list-inline {list-style: none; margin:0; padding: 0}\n",
       ".list-inline>li {display: inline-block}\n",
       ".list-inline>li:not(:last-child)::after {content: \"\\00b7\"; padding: 0 .5ex}\n",
       "</style>\n",
       "<ol class=list-inline><li>1</li><li>1</li><li>-1</li></ol>\n"
      ],
      "text/latex": [
       "\\begin{enumerate*}\n",
       "\\item 1\n",
       "\\item 1\n",
       "\\item -1\n",
       "\\end{enumerate*}\n"
      ],
      "text/markdown": [
       "1. 1\n",
       "2. 1\n",
       "3. -1\n",
       "\n",
       "\n"
      ],
      "text/plain": [
       "[1]  1  1 -1"
      ]
     },
     "metadata": {},
     "output_type": "display_data"
    },
    {
     "data": {
      "text/html": [
       "<style>\n",
       ".list-inline {list-style: none; margin:0; padding: 0}\n",
       ".list-inline>li {display: inline-block}\n",
       ".list-inline>li:not(:last-child)::after {content: \"\\00b7\"; padding: 0 .5ex}\n",
       "</style>\n",
       "<ol class=list-inline><li>1</li><li>1</li><li>-3</li></ol>\n"
      ],
      "text/latex": [
       "\\begin{enumerate*}\n",
       "\\item 1\n",
       "\\item 1\n",
       "\\item -3\n",
       "\\end{enumerate*}\n"
      ],
      "text/markdown": [
       "1. 1\n",
       "2. 1\n",
       "3. -3\n",
       "\n",
       "\n"
      ],
      "text/plain": [
       "[1]  1  1 -3"
      ]
     },
     "metadata": {},
     "output_type": "display_data"
    },
    {
     "data": {
      "text/html": [
       "<style>\n",
       ".list-inline {list-style: none; margin:0; padding: 0}\n",
       ".list-inline>li {display: inline-block}\n",
       ".list-inline>li:not(:last-child)::after {content: \"\\00b7\"; padding: 0 .5ex}\n",
       "</style>\n",
       "<ol class=list-inline><li>1</li><li>1</li><li>-3</li></ol>\n"
      ],
      "text/latex": [
       "\\begin{enumerate*}\n",
       "\\item 1\n",
       "\\item 1\n",
       "\\item -3\n",
       "\\end{enumerate*}\n"
      ],
      "text/markdown": [
       "1. 1\n",
       "2. 1\n",
       "3. -3\n",
       "\n",
       "\n"
      ],
      "text/plain": [
       "[1]  1  1 -3"
      ]
     },
     "metadata": {},
     "output_type": "display_data"
    },
    {
     "data": {
      "text/html": [
       "<style>\n",
       ".list-inline {list-style: none; margin:0; padding: 0}\n",
       ".list-inline>li {display: inline-block}\n",
       ".list-inline>li:not(:last-child)::after {content: \"\\00b7\"; padding: 0 .5ex}\n",
       "</style>\n",
       "<ol class=list-inline><li>0.4</li><li>0.4</li><li>-1.8</li></ol>\n"
      ],
      "text/latex": [
       "\\begin{enumerate*}\n",
       "\\item 0.4\n",
       "\\item 0.4\n",
       "\\item -1.8\n",
       "\\end{enumerate*}\n"
      ],
      "text/markdown": [
       "1. 0.4\n",
       "2. 0.4\n",
       "3. -1.8\n",
       "\n",
       "\n"
      ],
      "text/plain": [
       "[1]  0.4  0.4 -1.8"
      ]
     },
     "metadata": {},
     "output_type": "display_data"
    }
   ],
   "source": [
    "coefs_df_a <- equations(sv_df_a$SVP, sv_df_a$SVN)\n",
    "coefs_df_a\n",
    "coefs_df_b <- equations(sv_df_b$SVP, sv_df_b$SVN)\n",
    "coefs_df_b\n",
    "coefs_df_c <- equations(sv_df_c$SVP, sv_df_c$SVN)\n",
    "coefs_df_c\n",
    "coefs_df_d <- equations(sv_df_d$SVP, sv_df_d$SVN)\n",
    "coefs_df_d\n",
    "coefs_df_e <- equations(sv_df_e$SVP, sv_df_e$SVN)\n",
    "coefs_df_e"
   ]
  },
  {
   "cell_type": "markdown",
   "metadata": {},
   "source": [
    "Una vez tenemos los coeficientes, podemos calcular los vectores de pesos de cada máquina."
   ]
  },
  {
   "cell_type": "code",
   "execution_count": 38,
   "metadata": {
    "vscode": {
     "languageId": "r"
    }
   },
   "outputs": [
    {
     "data": {
      "text/html": [
       "<style>\n",
       ".list-inline {list-style: none; margin:0; padding: 0}\n",
       ".list-inline>li {display: inline-block}\n",
       ".list-inline>li:not(:last-child)::after {content: \"\\00b7\"; padding: 0 .5ex}\n",
       "</style>\n",
       "<ol class=list-inline><li>-0.25</li><li>-0.25</li></ol>\n"
      ],
      "text/latex": [
       "\\begin{enumerate*}\n",
       "\\item -0.25\n",
       "\\item -0.25\n",
       "\\end{enumerate*}\n"
      ],
      "text/markdown": [
       "1. -0.25\n",
       "2. -0.25\n",
       "\n",
       "\n"
      ],
      "text/plain": [
       "[1] -0.25 -0.25"
      ]
     },
     "metadata": {},
     "output_type": "display_data"
    },
    {
     "data": {
      "text/html": [
       "<style>\n",
       ".list-inline {list-style: none; margin:0; padding: 0}\n",
       ".list-inline>li {display: inline-block}\n",
       ".list-inline>li:not(:last-child)::after {content: \"\\00b7\"; padding: 0 .5ex}\n",
       "</style>\n",
       "<ol class=list-inline><li>1</li><li>-1</li></ol>\n"
      ],
      "text/latex": [
       "\\begin{enumerate*}\n",
       "\\item 1\n",
       "\\item -1\n",
       "\\end{enumerate*}\n"
      ],
      "text/markdown": [
       "1. 1\n",
       "2. -1\n",
       "\n",
       "\n"
      ],
      "text/plain": [
       "[1]  1 -1"
      ]
     },
     "metadata": {},
     "output_type": "display_data"
    },
    {
     "data": {
      "text/html": [
       "<style>\n",
       ".list-inline {list-style: none; margin:0; padding: 0}\n",
       ".list-inline>li {display: inline-block}\n",
       ".list-inline>li:not(:last-child)::after {content: \"\\00b7\"; padding: 0 .5ex}\n",
       "</style>\n",
       "<ol class=list-inline><li>1</li><li>1</li></ol>\n"
      ],
      "text/latex": [
       "\\begin{enumerate*}\n",
       "\\item 1\n",
       "\\item 1\n",
       "\\end{enumerate*}\n"
      ],
      "text/markdown": [
       "1. 1\n",
       "2. 1\n",
       "\n",
       "\n"
      ],
      "text/plain": [
       "[1] 1 1"
      ]
     },
     "metadata": {},
     "output_type": "display_data"
    },
    {
     "data": {
      "text/html": [
       "<style>\n",
       ".list-inline {list-style: none; margin:0; padding: 0}\n",
       ".list-inline>li {display: inline-block}\n",
       ".list-inline>li:not(:last-child)::after {content: \"\\00b7\"; padding: 0 .5ex}\n",
       "</style>\n",
       "<ol class=list-inline><li>1</li><li>1</li></ol>\n"
      ],
      "text/latex": [
       "\\begin{enumerate*}\n",
       "\\item 1\n",
       "\\item 1\n",
       "\\end{enumerate*}\n"
      ],
      "text/markdown": [
       "1. 1\n",
       "2. 1\n",
       "\n",
       "\n"
      ],
      "text/plain": [
       "[1] 1 1"
      ]
     },
     "metadata": {},
     "output_type": "display_data"
    },
    {
     "data": {
      "text/html": [
       "<style>\n",
       ".list-inline {list-style: none; margin:0; padding: 0}\n",
       ".list-inline>li {display: inline-block}\n",
       ".list-inline>li:not(:last-child)::after {content: \"\\00b7\"; padding: 0 .5ex}\n",
       "</style>\n",
       "<ol class=list-inline><li>0.8</li><li>0.4</li></ol>\n"
      ],
      "text/latex": [
       "\\begin{enumerate*}\n",
       "\\item 0.8\n",
       "\\item 0.4\n",
       "\\end{enumerate*}\n"
      ],
      "text/markdown": [
       "1. 0.8\n",
       "2. 0.4\n",
       "\n",
       "\n"
      ],
      "text/plain": [
       "[1] 0.8 0.4"
      ]
     },
     "metadata": {},
     "output_type": "display_data"
    }
   ],
   "source": [
    "w_df_a <- weights_vector(coefs_df_a, sv_df_a$SVP, sv_df_a$SVN)\n",
    "w_df_a\n",
    "w_df_b <- weights_vector(coefs_df_b, sv_df_b$SVP, sv_df_b$SVN)\n",
    "w_df_b\n",
    "w_df_c <- weights_vector(coefs_df_c, sv_df_c$SVP, sv_df_c$SVN)\n",
    "w_df_c\n",
    "w_df_d <- weights_vector(coefs_df_d, sv_df_d$SVP, sv_df_d$SVN)\n",
    "w_df_d\n",
    "w_df_e <- weights_vector(coefs_df_e, sv_df_e$SVP, sv_df_e$SVN)\n",
    "w_df_e"
   ]
  },
  {
   "cell_type": "markdown",
   "metadata": {},
   "source": [
    "Teniendo los vectores de pesos, podemos obtener el ancho del canal de cada máquina"
   ]
  },
  {
   "cell_type": "code",
   "execution_count": 42,
   "metadata": {
    "vscode": {
     "languageId": "r"
    }
   },
   "outputs": [
    {
     "data": {
      "text/html": [
       "5.65685424949238"
      ],
      "text/latex": [
       "5.65685424949238"
      ],
      "text/markdown": [
       "5.65685424949238"
      ],
      "text/plain": [
       "[1] 5.656854"
      ]
     },
     "metadata": {},
     "output_type": "display_data"
    },
    {
     "data": {
      "text/html": [
       "1.41421356237309"
      ],
      "text/latex": [
       "1.41421356237309"
      ],
      "text/markdown": [
       "1.41421356237309"
      ],
      "text/plain": [
       "[1] 1.414214"
      ]
     },
     "metadata": {},
     "output_type": "display_data"
    },
    {
     "data": {
      "text/html": [
       "1.41421356237309"
      ],
      "text/latex": [
       "1.41421356237309"
      ],
      "text/markdown": [
       "1.41421356237309"
      ],
      "text/plain": [
       "[1] 1.414214"
      ]
     },
     "metadata": {},
     "output_type": "display_data"
    },
    {
     "data": {
      "text/html": [
       "1.41421356237309"
      ],
      "text/latex": [
       "1.41421356237309"
      ],
      "text/markdown": [
       "1.41421356237309"
      ],
      "text/plain": [
       "[1] 1.414214"
      ]
     },
     "metadata": {},
     "output_type": "display_data"
    },
    {
     "data": {
      "text/html": [
       "2.23606797749979"
      ],
      "text/latex": [
       "2.23606797749979"
      ],
      "text/markdown": [
       "2.23606797749979"
      ],
      "text/plain": [
       "[1] 2.236068"
      ]
     },
     "metadata": {},
     "output_type": "display_data"
    }
   ],
   "source": [
    "width_df_a <- road_width(w_df_a)\n",
    "width_df_a\n",
    "width_df_b <- road_width(w_df_b)\n",
    "width_df_b\n",
    "width_df_c <- road_width(w_df_c)\n",
    "width_df_c\n",
    "width_df_d <- road_width(w_df_d)\n",
    "width_df_d\n",
    "width_df_e <- road_width(w_df_e)\n",
    "width_df_e"
   ]
  },
  {
   "cell_type": "markdown",
   "metadata": {},
   "source": [
    "Con todo lo obtenido anteriormente, podemos crear nuestras máquinas vector soporte con la función *manual_svm*"
   ]
  },
  {
   "cell_type": "code",
   "execution_count": 53,
   "metadata": {
    "vscode": {
     "languageId": "r"
    }
   },
   "outputs": [
    {
     "data": {
      "text/html": [
       "<dl>\n",
       "\t<dt>$SVP</dt>\n",
       "\t\t<dd><table class=\"dataframe\">\n",
       "<caption>A data.frame: 1 × 2</caption>\n",
       "<thead>\n",
       "\t<tr><th scope=col>X1</th><th scope=col>X2</th></tr>\n",
       "\t<tr><th scope=col>&lt;dbl&gt;</th><th scope=col>&lt;dbl&gt;</th></tr>\n",
       "</thead>\n",
       "<tbody>\n",
       "\t<tr><td>0</td><td>0</td></tr>\n",
       "</tbody>\n",
       "</table>\n",
       "</dd>\n",
       "\t<dt>$SVN</dt>\n",
       "\t\t<dd><table class=\"dataframe\">\n",
       "<caption>A data.frame: 1 × 2</caption>\n",
       "<thead>\n",
       "\t<tr><th scope=col>X1</th><th scope=col>X2</th></tr>\n",
       "\t<tr><th scope=col>&lt;dbl&gt;</th><th scope=col>&lt;dbl&gt;</th></tr>\n",
       "</thead>\n",
       "<tbody>\n",
       "\t<tr><td>4</td><td>4</td></tr>\n",
       "</tbody>\n",
       "</table>\n",
       "</dd>\n",
       "\t<dt>$W</dt>\n",
       "\t\t<dd><table class=\"dataframe\">\n",
       "<caption>A data.frame: 1 × 2</caption>\n",
       "<thead>\n",
       "\t<tr><th scope=col>X1</th><th scope=col>X2</th></tr>\n",
       "\t<tr><th scope=col>&lt;dbl&gt;</th><th scope=col>&lt;dbl&gt;</th></tr>\n",
       "</thead>\n",
       "<tbody>\n",
       "\t<tr><td>-0.25</td><td>-0.25</td></tr>\n",
       "</tbody>\n",
       "</table>\n",
       "</dd>\n",
       "\t<dt>$width</dt>\n",
       "\t\t<dd>5.65685424949238</dd>\n",
       "\t<dt>$K</dt>\n",
       "\t\t<dd><table class=\"dataframe\">\n",
       "<caption>A matrix: 2 × 2 of type dbl</caption>\n",
       "<tbody>\n",
       "\t<tr><td>0</td><td> 0</td></tr>\n",
       "\t<tr><td>0</td><td>32</td></tr>\n",
       "</tbody>\n",
       "</table>\n",
       "</dd>\n",
       "\t<dt>$alpha_1</dt>\n",
       "\t\t<dd>0.0625</dd>\n",
       "\t<dt>$alpha_2</dt>\n",
       "\t\t<dd>0.0625</dd>\n",
       "\t<dt>$rho</dt>\n",
       "\t\t<dd>1</dd>\n",
       "\t<dt>$planes</dt>\n",
       "\t\t<dd><table class=\"dataframe\">\n",
       "<caption>A data.frame: 1 × 3</caption>\n",
       "<thead>\n",
       "\t<tr><th scope=col>hyperplane</th><th scope=col>positive_support</th><th scope=col>negative_support</th></tr>\n",
       "\t<tr><th scope=col>&lt;chr&gt;</th><th scope=col>&lt;chr&gt;</th><th scope=col>&lt;chr&gt;</th></tr>\n",
       "</thead>\n",
       "<tbody>\n",
       "\t<tr><td>-0.25 * x  -0.25 * y + 1  = 0</td><td>-0.25 * x  -0.25 * y + 1  = 1</td><td>-0.25 * x  -0.25 * y + 1  = -1</td></tr>\n",
       "</tbody>\n",
       "</table>\n",
       "</dd>\n",
       "</dl>\n"
      ],
      "text/latex": [
       "\\begin{description}\n",
       "\\item[\\$SVP] A data.frame: 1 × 2\n",
       "\\begin{tabular}{ll}\n",
       " X1 & X2\\\\\n",
       " <dbl> & <dbl>\\\\\n",
       "\\hline\n",
       "\t 0 & 0\\\\\n",
       "\\end{tabular}\n",
       "\n",
       "\\item[\\$SVN] A data.frame: 1 × 2\n",
       "\\begin{tabular}{ll}\n",
       " X1 & X2\\\\\n",
       " <dbl> & <dbl>\\\\\n",
       "\\hline\n",
       "\t 4 & 4\\\\\n",
       "\\end{tabular}\n",
       "\n",
       "\\item[\\$W] A data.frame: 1 × 2\n",
       "\\begin{tabular}{ll}\n",
       " X1 & X2\\\\\n",
       " <dbl> & <dbl>\\\\\n",
       "\\hline\n",
       "\t -0.25 & -0.25\\\\\n",
       "\\end{tabular}\n",
       "\n",
       "\\item[\\$width] 5.65685424949238\n",
       "\\item[\\$K] A matrix: 2 × 2 of type dbl\n",
       "\\begin{tabular}{ll}\n",
       "\t 0 &  0\\\\\n",
       "\t 0 & 32\\\\\n",
       "\\end{tabular}\n",
       "\n",
       "\\item[\\$alpha\\_1] 0.0625\n",
       "\\item[\\$alpha\\_2] 0.0625\n",
       "\\item[\\$rho] 1\n",
       "\\item[\\$planes] A data.frame: 1 × 3\n",
       "\\begin{tabular}{lll}\n",
       " hyperplane & positive\\_support & negative\\_support\\\\\n",
       " <chr> & <chr> & <chr>\\\\\n",
       "\\hline\n",
       "\t -0.25 * x  -0.25 * y + 1  = 0 & -0.25 * x  -0.25 * y + 1  = 1 & -0.25 * x  -0.25 * y + 1  = -1\\\\\n",
       "\\end{tabular}\n",
       "\n",
       "\\end{description}\n"
      ],
      "text/markdown": [
       "$SVP\n",
       ":   \n",
       "A data.frame: 1 × 2\n",
       "\n",
       "| X1 &lt;dbl&gt; | X2 &lt;dbl&gt; |\n",
       "|---|---|\n",
       "| 0 | 0 |\n",
       "\n",
       "\n",
       "$SVN\n",
       ":   \n",
       "A data.frame: 1 × 2\n",
       "\n",
       "| X1 &lt;dbl&gt; | X2 &lt;dbl&gt; |\n",
       "|---|---|\n",
       "| 4 | 4 |\n",
       "\n",
       "\n",
       "$W\n",
       ":   \n",
       "A data.frame: 1 × 2\n",
       "\n",
       "| X1 &lt;dbl&gt; | X2 &lt;dbl&gt; |\n",
       "|---|---|\n",
       "| -0.25 | -0.25 |\n",
       "\n",
       "\n",
       "$width\n",
       ":   5.65685424949238\n",
       "$K\n",
       ":   \n",
       "A matrix: 2 × 2 of type dbl\n",
       "\n",
       "| 0 |  0 |\n",
       "| 0 | 32 |\n",
       "\n",
       "\n",
       "$alpha_1\n",
       ":   0.0625\n",
       "$alpha_2\n",
       ":   0.0625\n",
       "$rho\n",
       ":   1\n",
       "$planes\n",
       ":   \n",
       "A data.frame: 1 × 3\n",
       "\n",
       "| hyperplane &lt;chr&gt; | positive_support &lt;chr&gt; | negative_support &lt;chr&gt; |\n",
       "|---|---|---|\n",
       "| -0.25 * x  -0.25 * y + 1  = 0 | -0.25 * x  -0.25 * y + 1  = 1 | -0.25 * x  -0.25 * y + 1  = -1 |\n",
       "\n",
       "\n",
       "\n",
       "\n"
      ],
      "text/plain": [
       "$SVP\n",
       "  X1 X2\n",
       "1  0  0\n",
       "\n",
       "$SVN\n",
       "  X1 X2\n",
       "1  4  4\n",
       "\n",
       "$W\n",
       "     X1    X2\n",
       "1 -0.25 -0.25\n",
       "\n",
       "$width\n",
       "[1] 5.656854\n",
       "\n",
       "$K\n",
       "     [,1] [,2]\n",
       "[1,]    0    0\n",
       "[2,]    0   32\n",
       "\n",
       "$alpha_1\n",
       "[1] 0.0625\n",
       "\n",
       "$alpha_2\n",
       "[1] 0.0625\n",
       "\n",
       "$rho\n",
       "[1] 1\n",
       "\n",
       "$planes\n",
       "                     hyperplane              positive_support\n",
       "1 -0.25 * x  -0.25 * y + 1  = 0 -0.25 * x  -0.25 * y + 1  = 1\n",
       "                negative_support\n",
       "1 -0.25 * x  -0.25 * y + 1  = -1\n"
      ]
     },
     "metadata": {},
     "output_type": "display_data"
    },
    {
     "data": {
      "text/html": [
       "<dl>\n",
       "\t<dt>$SVP</dt>\n",
       "\t\t<dd><table class=\"dataframe\">\n",
       "<caption>A data.frame: 1 × 2</caption>\n",
       "<thead>\n",
       "\t<tr><th scope=col>X1</th><th scope=col>X2</th></tr>\n",
       "\t<tr><th scope=col>&lt;dbl&gt;</th><th scope=col>&lt;dbl&gt;</th></tr>\n",
       "</thead>\n",
       "<tbody>\n",
       "\t<tr><td>2</td><td>0</td></tr>\n",
       "</tbody>\n",
       "</table>\n",
       "</dd>\n",
       "\t<dt>$SVN</dt>\n",
       "\t\t<dd><table class=\"dataframe\">\n",
       "<caption>A data.frame: 1 × 2</caption>\n",
       "<thead>\n",
       "\t<tr><th scope=col>X1</th><th scope=col>X2</th></tr>\n",
       "\t<tr><th scope=col>&lt;dbl&gt;</th><th scope=col>&lt;dbl&gt;</th></tr>\n",
       "</thead>\n",
       "<tbody>\n",
       "\t<tr><td>1</td><td>1</td></tr>\n",
       "</tbody>\n",
       "</table>\n",
       "</dd>\n",
       "\t<dt>$W</dt>\n",
       "\t\t<dd><table class=\"dataframe\">\n",
       "<caption>A data.frame: 1 × 2</caption>\n",
       "<thead>\n",
       "\t<tr><th scope=col>X1</th><th scope=col>X2</th></tr>\n",
       "\t<tr><th scope=col>&lt;dbl&gt;</th><th scope=col>&lt;dbl&gt;</th></tr>\n",
       "</thead>\n",
       "<tbody>\n",
       "\t<tr><td>1</td><td>-1</td></tr>\n",
       "</tbody>\n",
       "</table>\n",
       "</dd>\n",
       "\t<dt>$width</dt>\n",
       "\t\t<dd>1.41421356237309</dd>\n",
       "\t<dt>$K</dt>\n",
       "\t\t<dd><table class=\"dataframe\">\n",
       "<caption>A matrix: 3 × 3 of type dbl</caption>\n",
       "<tbody>\n",
       "\t<tr><td>4</td><td>0</td><td>2</td></tr>\n",
       "\t<tr><td>0</td><td>0</td><td>0</td></tr>\n",
       "\t<tr><td>2</td><td>0</td><td>2</td></tr>\n",
       "</tbody>\n",
       "</table>\n",
       "</dd>\n",
       "\t<dt>$alpha_1</dt>\n",
       "\t\t<dd>1</dd>\n",
       "\t<dt>$alpha_2</dt>\n",
       "\t\t<dd>1</dd>\n",
       "\t<dt>$rho</dt>\n",
       "\t\t<dd>-1</dd>\n",
       "\t<dt>$planes</dt>\n",
       "\t\t<dd><table class=\"dataframe\">\n",
       "<caption>A data.frame: 1 × 3</caption>\n",
       "<thead>\n",
       "\t<tr><th scope=col>hyperplane</th><th scope=col>positive_support</th><th scope=col>negative_support</th></tr>\n",
       "\t<tr><th scope=col>&lt;chr&gt;</th><th scope=col>&lt;chr&gt;</th><th scope=col>&lt;chr&gt;</th></tr>\n",
       "</thead>\n",
       "<tbody>\n",
       "\t<tr><td>1 * x  -1 * y -1  = 0</td><td>1 * x  -1 * y -1  = 1</td><td>1 * x  -1 * y -1  = -1</td></tr>\n",
       "</tbody>\n",
       "</table>\n",
       "</dd>\n",
       "</dl>\n"
      ],
      "text/latex": [
       "\\begin{description}\n",
       "\\item[\\$SVP] A data.frame: 1 × 2\n",
       "\\begin{tabular}{ll}\n",
       " X1 & X2\\\\\n",
       " <dbl> & <dbl>\\\\\n",
       "\\hline\n",
       "\t 2 & 0\\\\\n",
       "\\end{tabular}\n",
       "\n",
       "\\item[\\$SVN] A data.frame: 1 × 2\n",
       "\\begin{tabular}{ll}\n",
       " X1 & X2\\\\\n",
       " <dbl> & <dbl>\\\\\n",
       "\\hline\n",
       "\t 1 & 1\\\\\n",
       "\\end{tabular}\n",
       "\n",
       "\\item[\\$W] A data.frame: 1 × 2\n",
       "\\begin{tabular}{ll}\n",
       " X1 & X2\\\\\n",
       " <dbl> & <dbl>\\\\\n",
       "\\hline\n",
       "\t 1 & -1\\\\\n",
       "\\end{tabular}\n",
       "\n",
       "\\item[\\$width] 1.41421356237309\n",
       "\\item[\\$K] A matrix: 3 × 3 of type dbl\n",
       "\\begin{tabular}{lll}\n",
       "\t 4 & 0 & 2\\\\\n",
       "\t 0 & 0 & 0\\\\\n",
       "\t 2 & 0 & 2\\\\\n",
       "\\end{tabular}\n",
       "\n",
       "\\item[\\$alpha\\_1] 1\n",
       "\\item[\\$alpha\\_2] 1\n",
       "\\item[\\$rho] -1\n",
       "\\item[\\$planes] A data.frame: 1 × 3\n",
       "\\begin{tabular}{lll}\n",
       " hyperplane & positive\\_support & negative\\_support\\\\\n",
       " <chr> & <chr> & <chr>\\\\\n",
       "\\hline\n",
       "\t 1 * x  -1 * y -1  = 0 & 1 * x  -1 * y -1  = 1 & 1 * x  -1 * y -1  = -1\\\\\n",
       "\\end{tabular}\n",
       "\n",
       "\\end{description}\n"
      ],
      "text/markdown": [
       "$SVP\n",
       ":   \n",
       "A data.frame: 1 × 2\n",
       "\n",
       "| X1 &lt;dbl&gt; | X2 &lt;dbl&gt; |\n",
       "|---|---|\n",
       "| 2 | 0 |\n",
       "\n",
       "\n",
       "$SVN\n",
       ":   \n",
       "A data.frame: 1 × 2\n",
       "\n",
       "| X1 &lt;dbl&gt; | X2 &lt;dbl&gt; |\n",
       "|---|---|\n",
       "| 1 | 1 |\n",
       "\n",
       "\n",
       "$W\n",
       ":   \n",
       "A data.frame: 1 × 2\n",
       "\n",
       "| X1 &lt;dbl&gt; | X2 &lt;dbl&gt; |\n",
       "|---|---|\n",
       "| 1 | -1 |\n",
       "\n",
       "\n",
       "$width\n",
       ":   1.41421356237309\n",
       "$K\n",
       ":   \n",
       "A matrix: 3 × 3 of type dbl\n",
       "\n",
       "| 4 | 0 | 2 |\n",
       "| 0 | 0 | 0 |\n",
       "| 2 | 0 | 2 |\n",
       "\n",
       "\n",
       "$alpha_1\n",
       ":   1\n",
       "$alpha_2\n",
       ":   1\n",
       "$rho\n",
       ":   -1\n",
       "$planes\n",
       ":   \n",
       "A data.frame: 1 × 3\n",
       "\n",
       "| hyperplane &lt;chr&gt; | positive_support &lt;chr&gt; | negative_support &lt;chr&gt; |\n",
       "|---|---|---|\n",
       "| 1 * x  -1 * y -1  = 0 | 1 * x  -1 * y -1  = 1 | 1 * x  -1 * y -1  = -1 |\n",
       "\n",
       "\n",
       "\n",
       "\n"
      ],
      "text/plain": [
       "$SVP\n",
       "  X1 X2\n",
       "1  2  0\n",
       "\n",
       "$SVN\n",
       "  X1 X2\n",
       "1  1  1\n",
       "\n",
       "$W\n",
       "  X1 X2\n",
       "1  1 -1\n",
       "\n",
       "$width\n",
       "[1] 1.414214\n",
       "\n",
       "$K\n",
       "     [,1] [,2] [,3]\n",
       "[1,]    4    0    2\n",
       "[2,]    0    0    0\n",
       "[3,]    2    0    2\n",
       "\n",
       "$alpha_1\n",
       "[1] 1\n",
       "\n",
       "$alpha_2\n",
       "[1] 1\n",
       "\n",
       "$rho\n",
       "[1] -1\n",
       "\n",
       "$planes\n",
       "             hyperplane      positive_support       negative_support\n",
       "1 1 * x  -1 * y -1  = 0 1 * x  -1 * y -1  = 1 1 * x  -1 * y -1  = -1\n"
      ]
     },
     "metadata": {},
     "output_type": "display_data"
    },
    {
     "data": {
      "text/html": [
       "<dl>\n",
       "\t<dt>$SVP</dt>\n",
       "\t\t<dd><table class=\"dataframe\">\n",
       "<caption>A data.frame: 1 × 2</caption>\n",
       "<thead>\n",
       "\t<tr><th scope=col>X1</th><th scope=col>X2</th></tr>\n",
       "\t<tr><th scope=col>&lt;dbl&gt;</th><th scope=col>&lt;dbl&gt;</th></tr>\n",
       "</thead>\n",
       "<tbody>\n",
       "\t<tr><td>2</td><td>2</td></tr>\n",
       "</tbody>\n",
       "</table>\n",
       "</dd>\n",
       "\t<dt>$SVN</dt>\n",
       "\t\t<dd><table class=\"dataframe\">\n",
       "<caption>A data.frame: 1 × 2</caption>\n",
       "<thead>\n",
       "\t<tr><th scope=col>X1</th><th scope=col>X2</th></tr>\n",
       "\t<tr><th scope=col>&lt;dbl&gt;</th><th scope=col>&lt;dbl&gt;</th></tr>\n",
       "</thead>\n",
       "<tbody>\n",
       "\t<tr><td>1</td><td>1</td></tr>\n",
       "</tbody>\n",
       "</table>\n",
       "</dd>\n",
       "\t<dt>$W</dt>\n",
       "\t\t<dd><table class=\"dataframe\">\n",
       "<caption>A data.frame: 1 × 2</caption>\n",
       "<thead>\n",
       "\t<tr><th scope=col>X1</th><th scope=col>X2</th></tr>\n",
       "\t<tr><th scope=col>&lt;dbl&gt;</th><th scope=col>&lt;dbl&gt;</th></tr>\n",
       "</thead>\n",
       "<tbody>\n",
       "\t<tr><td>1</td><td>1</td></tr>\n",
       "</tbody>\n",
       "</table>\n",
       "</dd>\n",
       "\t<dt>$width</dt>\n",
       "\t\t<dd>1.41421356237309</dd>\n",
       "\t<dt>$K</dt>\n",
       "\t\t<dd><table class=\"dataframe\">\n",
       "<caption>A matrix: 8 × 8 of type dbl</caption>\n",
       "<tbody>\n",
       "\t<tr><td> 8</td><td> 0</td><td>-8</td><td> 0</td><td> 4</td><td> 0</td><td>-4</td><td> 0</td></tr>\n",
       "\t<tr><td> 0</td><td> 8</td><td> 0</td><td>-8</td><td> 0</td><td> 4</td><td> 0</td><td>-4</td></tr>\n",
       "\t<tr><td>-8</td><td> 0</td><td> 8</td><td> 0</td><td>-4</td><td> 0</td><td> 4</td><td> 0</td></tr>\n",
       "\t<tr><td> 0</td><td>-8</td><td> 0</td><td> 8</td><td> 0</td><td>-4</td><td> 0</td><td> 4</td></tr>\n",
       "\t<tr><td> 4</td><td> 0</td><td>-4</td><td> 0</td><td> 2</td><td> 0</td><td>-2</td><td> 0</td></tr>\n",
       "\t<tr><td> 0</td><td> 4</td><td> 0</td><td>-4</td><td> 0</td><td> 2</td><td> 0</td><td>-2</td></tr>\n",
       "\t<tr><td>-4</td><td> 0</td><td> 4</td><td> 0</td><td>-2</td><td> 0</td><td> 2</td><td> 0</td></tr>\n",
       "\t<tr><td> 0</td><td>-4</td><td> 0</td><td> 4</td><td> 0</td><td>-2</td><td> 0</td><td> 2</td></tr>\n",
       "</tbody>\n",
       "</table>\n",
       "</dd>\n",
       "\t<dt>$alpha_1</dt>\n",
       "\t\t<dd>1</dd>\n",
       "\t<dt>$alpha_2</dt>\n",
       "\t\t<dd>1</dd>\n",
       "\t<dt>$rho</dt>\n",
       "\t\t<dd>-3</dd>\n",
       "\t<dt>$planes</dt>\n",
       "\t\t<dd><table class=\"dataframe\">\n",
       "<caption>A data.frame: 1 × 3</caption>\n",
       "<thead>\n",
       "\t<tr><th scope=col>hyperplane</th><th scope=col>positive_support</th><th scope=col>negative_support</th></tr>\n",
       "\t<tr><th scope=col>&lt;chr&gt;</th><th scope=col>&lt;chr&gt;</th><th scope=col>&lt;chr&gt;</th></tr>\n",
       "</thead>\n",
       "<tbody>\n",
       "\t<tr><td>1 * x  + 1 * y -3  = 0</td><td>1 * x  + 1 * y -3  = 1</td><td>1 * x  + 1 * y -3  = -1</td></tr>\n",
       "</tbody>\n",
       "</table>\n",
       "</dd>\n",
       "</dl>\n"
      ],
      "text/latex": [
       "\\begin{description}\n",
       "\\item[\\$SVP] A data.frame: 1 × 2\n",
       "\\begin{tabular}{ll}\n",
       " X1 & X2\\\\\n",
       " <dbl> & <dbl>\\\\\n",
       "\\hline\n",
       "\t 2 & 2\\\\\n",
       "\\end{tabular}\n",
       "\n",
       "\\item[\\$SVN] A data.frame: 1 × 2\n",
       "\\begin{tabular}{ll}\n",
       " X1 & X2\\\\\n",
       " <dbl> & <dbl>\\\\\n",
       "\\hline\n",
       "\t 1 & 1\\\\\n",
       "\\end{tabular}\n",
       "\n",
       "\\item[\\$W] A data.frame: 1 × 2\n",
       "\\begin{tabular}{ll}\n",
       " X1 & X2\\\\\n",
       " <dbl> & <dbl>\\\\\n",
       "\\hline\n",
       "\t 1 & 1\\\\\n",
       "\\end{tabular}\n",
       "\n",
       "\\item[\\$width] 1.41421356237309\n",
       "\\item[\\$K] A matrix: 8 × 8 of type dbl\n",
       "\\begin{tabular}{llllllll}\n",
       "\t  8 &  0 & -8 &  0 &  4 &  0 & -4 &  0\\\\\n",
       "\t  0 &  8 &  0 & -8 &  0 &  4 &  0 & -4\\\\\n",
       "\t -8 &  0 &  8 &  0 & -4 &  0 &  4 &  0\\\\\n",
       "\t  0 & -8 &  0 &  8 &  0 & -4 &  0 &  4\\\\\n",
       "\t  4 &  0 & -4 &  0 &  2 &  0 & -2 &  0\\\\\n",
       "\t  0 &  4 &  0 & -4 &  0 &  2 &  0 & -2\\\\\n",
       "\t -4 &  0 &  4 &  0 & -2 &  0 &  2 &  0\\\\\n",
       "\t  0 & -4 &  0 &  4 &  0 & -2 &  0 &  2\\\\\n",
       "\\end{tabular}\n",
       "\n",
       "\\item[\\$alpha\\_1] 1\n",
       "\\item[\\$alpha\\_2] 1\n",
       "\\item[\\$rho] -3\n",
       "\\item[\\$planes] A data.frame: 1 × 3\n",
       "\\begin{tabular}{lll}\n",
       " hyperplane & positive\\_support & negative\\_support\\\\\n",
       " <chr> & <chr> & <chr>\\\\\n",
       "\\hline\n",
       "\t 1 * x  + 1 * y -3  = 0 & 1 * x  + 1 * y -3  = 1 & 1 * x  + 1 * y -3  = -1\\\\\n",
       "\\end{tabular}\n",
       "\n",
       "\\end{description}\n"
      ],
      "text/markdown": [
       "$SVP\n",
       ":   \n",
       "A data.frame: 1 × 2\n",
       "\n",
       "| X1 &lt;dbl&gt; | X2 &lt;dbl&gt; |\n",
       "|---|---|\n",
       "| 2 | 2 |\n",
       "\n",
       "\n",
       "$SVN\n",
       ":   \n",
       "A data.frame: 1 × 2\n",
       "\n",
       "| X1 &lt;dbl&gt; | X2 &lt;dbl&gt; |\n",
       "|---|---|\n",
       "| 1 | 1 |\n",
       "\n",
       "\n",
       "$W\n",
       ":   \n",
       "A data.frame: 1 × 2\n",
       "\n",
       "| X1 &lt;dbl&gt; | X2 &lt;dbl&gt; |\n",
       "|---|---|\n",
       "| 1 | 1 |\n",
       "\n",
       "\n",
       "$width\n",
       ":   1.41421356237309\n",
       "$K\n",
       ":   \n",
       "A matrix: 8 × 8 of type dbl\n",
       "\n",
       "|  8 |  0 | -8 |  0 |  4 |  0 | -4 |  0 |\n",
       "|  0 |  8 |  0 | -8 |  0 |  4 |  0 | -4 |\n",
       "| -8 |  0 |  8 |  0 | -4 |  0 |  4 |  0 |\n",
       "|  0 | -8 |  0 |  8 |  0 | -4 |  0 |  4 |\n",
       "|  4 |  0 | -4 |  0 |  2 |  0 | -2 |  0 |\n",
       "|  0 |  4 |  0 | -4 |  0 |  2 |  0 | -2 |\n",
       "| -4 |  0 |  4 |  0 | -2 |  0 |  2 |  0 |\n",
       "|  0 | -4 |  0 |  4 |  0 | -2 |  0 |  2 |\n",
       "\n",
       "\n",
       "$alpha_1\n",
       ":   1\n",
       "$alpha_2\n",
       ":   1\n",
       "$rho\n",
       ":   -3\n",
       "$planes\n",
       ":   \n",
       "A data.frame: 1 × 3\n",
       "\n",
       "| hyperplane &lt;chr&gt; | positive_support &lt;chr&gt; | negative_support &lt;chr&gt; |\n",
       "|---|---|---|\n",
       "| 1 * x  + 1 * y -3  = 0 | 1 * x  + 1 * y -3  = 1 | 1 * x  + 1 * y -3  = -1 |\n",
       "\n",
       "\n",
       "\n",
       "\n"
      ],
      "text/plain": [
       "$SVP\n",
       "  X1 X2\n",
       "1  2  2\n",
       "\n",
       "$SVN\n",
       "  X1 X2\n",
       "1  1  1\n",
       "\n",
       "$W\n",
       "  X1 X2\n",
       "1  1  1\n",
       "\n",
       "$width\n",
       "[1] 1.414214\n",
       "\n",
       "$K\n",
       "     [,1] [,2] [,3] [,4] [,5] [,6] [,7] [,8]\n",
       "[1,]    8    0   -8    0    4    0   -4    0\n",
       "[2,]    0    8    0   -8    0    4    0   -4\n",
       "[3,]   -8    0    8    0   -4    0    4    0\n",
       "[4,]    0   -8    0    8    0   -4    0    4\n",
       "[5,]    4    0   -4    0    2    0   -2    0\n",
       "[6,]    0    4    0   -4    0    2    0   -2\n",
       "[7,]   -4    0    4    0   -2    0    2    0\n",
       "[8,]    0   -4    0    4    0   -2    0    2\n",
       "\n",
       "$alpha_1\n",
       "[1] 1\n",
       "\n",
       "$alpha_2\n",
       "[1] 1\n",
       "\n",
       "$rho\n",
       "[1] -3\n",
       "\n",
       "$planes\n",
       "              hyperplane       positive_support        negative_support\n",
       "1 1 * x  + 1 * y -3  = 0 1 * x  + 1 * y -3  = 1 1 * x  + 1 * y -3  = -1\n"
      ]
     },
     "metadata": {},
     "output_type": "display_data"
    },
    {
     "data": {
      "text/html": [
       "<dl>\n",
       "\t<dt>$SVP</dt>\n",
       "\t\t<dd><table class=\"dataframe\">\n",
       "<caption>A data.frame: 1 × 2</caption>\n",
       "<thead>\n",
       "\t<tr><th scope=col>X1</th><th scope=col>X2</th></tr>\n",
       "\t<tr><th scope=col>&lt;dbl&gt;</th><th scope=col>&lt;dbl&gt;</th></tr>\n",
       "</thead>\n",
       "<tbody>\n",
       "\t<tr><td>2</td><td>2</td></tr>\n",
       "</tbody>\n",
       "</table>\n",
       "</dd>\n",
       "\t<dt>$SVN</dt>\n",
       "\t\t<dd><table class=\"dataframe\">\n",
       "<caption>A data.frame: 1 × 2</caption>\n",
       "<thead>\n",
       "\t<tr><th scope=col>X1</th><th scope=col>X2</th></tr>\n",
       "\t<tr><th scope=col>&lt;dbl&gt;</th><th scope=col>&lt;dbl&gt;</th></tr>\n",
       "</thead>\n",
       "<tbody>\n",
       "\t<tr><td>1</td><td>1</td></tr>\n",
       "</tbody>\n",
       "</table>\n",
       "</dd>\n",
       "\t<dt>$W</dt>\n",
       "\t\t<dd><table class=\"dataframe\">\n",
       "<caption>A data.frame: 1 × 2</caption>\n",
       "<thead>\n",
       "\t<tr><th scope=col>X1</th><th scope=col>X2</th></tr>\n",
       "\t<tr><th scope=col>&lt;dbl&gt;</th><th scope=col>&lt;dbl&gt;</th></tr>\n",
       "</thead>\n",
       "<tbody>\n",
       "\t<tr><td>1</td><td>1</td></tr>\n",
       "</tbody>\n",
       "</table>\n",
       "</dd>\n",
       "\t<dt>$width</dt>\n",
       "\t\t<dd>1.41421356237309</dd>\n",
       "\t<dt>$K</dt>\n",
       "\t\t<dd><table class=\"dataframe\">\n",
       "<caption>A matrix: 8 × 8 of type dbl</caption>\n",
       "<tbody>\n",
       "\t<tr><td> 8</td><td> 24</td><td> 24</td><td> 8</td><td> 4</td><td> -4</td><td> -4</td><td> 4</td></tr>\n",
       "\t<tr><td>24</td><td> 72</td><td> 72</td><td>24</td><td>12</td><td>-12</td><td>-12</td><td>12</td></tr>\n",
       "\t<tr><td>24</td><td> 72</td><td> 72</td><td>24</td><td>12</td><td>-12</td><td>-12</td><td>12</td></tr>\n",
       "\t<tr><td> 8</td><td> 24</td><td> 24</td><td> 8</td><td> 4</td><td> -4</td><td> -4</td><td> 4</td></tr>\n",
       "\t<tr><td> 4</td><td> 12</td><td> 12</td><td> 4</td><td> 2</td><td> -2</td><td> -2</td><td> 2</td></tr>\n",
       "\t<tr><td>-4</td><td>-12</td><td>-12</td><td>-4</td><td>-2</td><td>  2</td><td>  2</td><td>-2</td></tr>\n",
       "\t<tr><td>-4</td><td>-12</td><td>-12</td><td>-4</td><td>-2</td><td>  2</td><td>  2</td><td>-2</td></tr>\n",
       "\t<tr><td> 4</td><td> 12</td><td> 12</td><td> 4</td><td> 2</td><td> -2</td><td> -2</td><td> 2</td></tr>\n",
       "</tbody>\n",
       "</table>\n",
       "</dd>\n",
       "\t<dt>$alpha_1</dt>\n",
       "\t\t<dd>1</dd>\n",
       "\t<dt>$alpha_2</dt>\n",
       "\t\t<dd>1</dd>\n",
       "\t<dt>$rho</dt>\n",
       "\t\t<dd>-3</dd>\n",
       "\t<dt>$planes</dt>\n",
       "\t\t<dd><table class=\"dataframe\">\n",
       "<caption>A data.frame: 1 × 3</caption>\n",
       "<thead>\n",
       "\t<tr><th scope=col>hyperplane</th><th scope=col>positive_support</th><th scope=col>negative_support</th></tr>\n",
       "\t<tr><th scope=col>&lt;chr&gt;</th><th scope=col>&lt;chr&gt;</th><th scope=col>&lt;chr&gt;</th></tr>\n",
       "</thead>\n",
       "<tbody>\n",
       "\t<tr><td>1 * x  + 1 * y -3  = 0</td><td>1 * x  + 1 * y -3  = 1</td><td>1 * x  + 1 * y -3  = -1</td></tr>\n",
       "</tbody>\n",
       "</table>\n",
       "</dd>\n",
       "</dl>\n"
      ],
      "text/latex": [
       "\\begin{description}\n",
       "\\item[\\$SVP] A data.frame: 1 × 2\n",
       "\\begin{tabular}{ll}\n",
       " X1 & X2\\\\\n",
       " <dbl> & <dbl>\\\\\n",
       "\\hline\n",
       "\t 2 & 2\\\\\n",
       "\\end{tabular}\n",
       "\n",
       "\\item[\\$SVN] A data.frame: 1 × 2\n",
       "\\begin{tabular}{ll}\n",
       " X1 & X2\\\\\n",
       " <dbl> & <dbl>\\\\\n",
       "\\hline\n",
       "\t 1 & 1\\\\\n",
       "\\end{tabular}\n",
       "\n",
       "\\item[\\$W] A data.frame: 1 × 2\n",
       "\\begin{tabular}{ll}\n",
       " X1 & X2\\\\\n",
       " <dbl> & <dbl>\\\\\n",
       "\\hline\n",
       "\t 1 & 1\\\\\n",
       "\\end{tabular}\n",
       "\n",
       "\\item[\\$width] 1.41421356237309\n",
       "\\item[\\$K] A matrix: 8 × 8 of type dbl\n",
       "\\begin{tabular}{llllllll}\n",
       "\t  8 &  24 &  24 &  8 &  4 &  -4 &  -4 &  4\\\\\n",
       "\t 24 &  72 &  72 & 24 & 12 & -12 & -12 & 12\\\\\n",
       "\t 24 &  72 &  72 & 24 & 12 & -12 & -12 & 12\\\\\n",
       "\t  8 &  24 &  24 &  8 &  4 &  -4 &  -4 &  4\\\\\n",
       "\t  4 &  12 &  12 &  4 &  2 &  -2 &  -2 &  2\\\\\n",
       "\t -4 & -12 & -12 & -4 & -2 &   2 &   2 & -2\\\\\n",
       "\t -4 & -12 & -12 & -4 & -2 &   2 &   2 & -2\\\\\n",
       "\t  4 &  12 &  12 &  4 &  2 &  -2 &  -2 &  2\\\\\n",
       "\\end{tabular}\n",
       "\n",
       "\\item[\\$alpha\\_1] 1\n",
       "\\item[\\$alpha\\_2] 1\n",
       "\\item[\\$rho] -3\n",
       "\\item[\\$planes] A data.frame: 1 × 3\n",
       "\\begin{tabular}{lll}\n",
       " hyperplane & positive\\_support & negative\\_support\\\\\n",
       " <chr> & <chr> & <chr>\\\\\n",
       "\\hline\n",
       "\t 1 * x  + 1 * y -3  = 0 & 1 * x  + 1 * y -3  = 1 & 1 * x  + 1 * y -3  = -1\\\\\n",
       "\\end{tabular}\n",
       "\n",
       "\\end{description}\n"
      ],
      "text/markdown": [
       "$SVP\n",
       ":   \n",
       "A data.frame: 1 × 2\n",
       "\n",
       "| X1 &lt;dbl&gt; | X2 &lt;dbl&gt; |\n",
       "|---|---|\n",
       "| 2 | 2 |\n",
       "\n",
       "\n",
       "$SVN\n",
       ":   \n",
       "A data.frame: 1 × 2\n",
       "\n",
       "| X1 &lt;dbl&gt; | X2 &lt;dbl&gt; |\n",
       "|---|---|\n",
       "| 1 | 1 |\n",
       "\n",
       "\n",
       "$W\n",
       ":   \n",
       "A data.frame: 1 × 2\n",
       "\n",
       "| X1 &lt;dbl&gt; | X2 &lt;dbl&gt; |\n",
       "|---|---|\n",
       "| 1 | 1 |\n",
       "\n",
       "\n",
       "$width\n",
       ":   1.41421356237309\n",
       "$K\n",
       ":   \n",
       "A matrix: 8 × 8 of type dbl\n",
       "\n",
       "|  8 |  24 |  24 |  8 |  4 |  -4 |  -4 |  4 |\n",
       "| 24 |  72 |  72 | 24 | 12 | -12 | -12 | 12 |\n",
       "| 24 |  72 |  72 | 24 | 12 | -12 | -12 | 12 |\n",
       "|  8 |  24 |  24 |  8 |  4 |  -4 |  -4 |  4 |\n",
       "|  4 |  12 |  12 |  4 |  2 |  -2 |  -2 |  2 |\n",
       "| -4 | -12 | -12 | -4 | -2 |   2 |   2 | -2 |\n",
       "| -4 | -12 | -12 | -4 | -2 |   2 |   2 | -2 |\n",
       "|  4 |  12 |  12 |  4 |  2 |  -2 |  -2 |  2 |\n",
       "\n",
       "\n",
       "$alpha_1\n",
       ":   1\n",
       "$alpha_2\n",
       ":   1\n",
       "$rho\n",
       ":   -3\n",
       "$planes\n",
       ":   \n",
       "A data.frame: 1 × 3\n",
       "\n",
       "| hyperplane &lt;chr&gt; | positive_support &lt;chr&gt; | negative_support &lt;chr&gt; |\n",
       "|---|---|---|\n",
       "| 1 * x  + 1 * y -3  = 0 | 1 * x  + 1 * y -3  = 1 | 1 * x  + 1 * y -3  = -1 |\n",
       "\n",
       "\n",
       "\n",
       "\n"
      ],
      "text/plain": [
       "$SVP\n",
       "  X1 X2\n",
       "1  2  2\n",
       "\n",
       "$SVN\n",
       "  X1 X2\n",
       "1  1  1\n",
       "\n",
       "$W\n",
       "  X1 X2\n",
       "1  1  1\n",
       "\n",
       "$width\n",
       "[1] 1.414214\n",
       "\n",
       "$K\n",
       "     [,1] [,2] [,3] [,4] [,5] [,6] [,7] [,8]\n",
       "[1,]    8   24   24    8    4   -4   -4    4\n",
       "[2,]   24   72   72   24   12  -12  -12   12\n",
       "[3,]   24   72   72   24   12  -12  -12   12\n",
       "[4,]    8   24   24    8    4   -4   -4    4\n",
       "[5,]    4   12   12    4    2   -2   -2    2\n",
       "[6,]   -4  -12  -12   -4   -2    2    2   -2\n",
       "[7,]   -4  -12  -12   -4   -2    2    2   -2\n",
       "[8,]    4   12   12    4    2   -2   -2    2\n",
       "\n",
       "$alpha_1\n",
       "[1] 1\n",
       "\n",
       "$alpha_2\n",
       "[1] 1\n",
       "\n",
       "$rho\n",
       "[1] -3\n",
       "\n",
       "$planes\n",
       "              hyperplane       positive_support        negative_support\n",
       "1 1 * x  + 1 * y -3  = 0 1 * x  + 1 * y -3  = 1 1 * x  + 1 * y -3  = -1\n"
      ]
     },
     "metadata": {},
     "output_type": "display_data"
    },
    {
     "data": {
      "text/html": [
       "<dl>\n",
       "\t<dt>$SVP</dt>\n",
       "\t\t<dd><table class=\"dataframe\">\n",
       "<caption>A data.frame: 1 × 2</caption>\n",
       "<thead>\n",
       "\t<tr><th scope=col>X1</th><th scope=col>X2</th></tr>\n",
       "\t<tr><th scope=col>&lt;dbl&gt;</th><th scope=col>&lt;dbl&gt;</th></tr>\n",
       "</thead>\n",
       "<tbody>\n",
       "\t<tr><td>3</td><td>1</td></tr>\n",
       "</tbody>\n",
       "</table>\n",
       "</dd>\n",
       "\t<dt>$SVN</dt>\n",
       "\t\t<dd><table class=\"dataframe\">\n",
       "<caption>A data.frame: 1 × 2</caption>\n",
       "<thead>\n",
       "\t<tr><th scope=col>X1</th><th scope=col>X2</th></tr>\n",
       "\t<tr><th scope=col>&lt;dbl&gt;</th><th scope=col>&lt;dbl&gt;</th></tr>\n",
       "</thead>\n",
       "<tbody>\n",
       "\t<tr><td>1</td><td>0</td></tr>\n",
       "</tbody>\n",
       "</table>\n",
       "</dd>\n",
       "\t<dt>$W</dt>\n",
       "\t\t<dd><table class=\"dataframe\">\n",
       "<caption>A data.frame: 1 × 2</caption>\n",
       "<thead>\n",
       "\t<tr><th scope=col>X1</th><th scope=col>X2</th></tr>\n",
       "\t<tr><th scope=col>&lt;dbl&gt;</th><th scope=col>&lt;dbl&gt;</th></tr>\n",
       "</thead>\n",
       "<tbody>\n",
       "\t<tr><td>0.8</td><td>0.4</td></tr>\n",
       "</tbody>\n",
       "</table>\n",
       "</dd>\n",
       "\t<dt>$width</dt>\n",
       "\t\t<dd>2.23606797749979</dd>\n",
       "\t<dt>$K</dt>\n",
       "\t\t<dd><table class=\"dataframe\">\n",
       "<caption>A matrix: 8 × 8 of type dbl</caption>\n",
       "<tbody>\n",
       "\t<tr><td>10</td><td> 8</td><td>19</td><td>17</td><td> 3</td><td> 1</td><td>-1</td><td>-3</td></tr>\n",
       "\t<tr><td> 8</td><td>10</td><td>17</td><td>19</td><td> 3</td><td>-1</td><td> 1</td><td>-3</td></tr>\n",
       "\t<tr><td>19</td><td>17</td><td>37</td><td>35</td><td> 6</td><td> 1</td><td>-1</td><td>-6</td></tr>\n",
       "\t<tr><td>17</td><td>19</td><td>35</td><td>37</td><td> 6</td><td>-1</td><td> 1</td><td>-6</td></tr>\n",
       "\t<tr><td> 3</td><td> 3</td><td> 6</td><td> 6</td><td> 1</td><td> 0</td><td> 0</td><td>-1</td></tr>\n",
       "\t<tr><td> 1</td><td>-1</td><td> 1</td><td>-1</td><td> 0</td><td> 1</td><td>-1</td><td> 0</td></tr>\n",
       "\t<tr><td>-1</td><td> 1</td><td>-1</td><td> 1</td><td> 0</td><td>-1</td><td> 1</td><td> 0</td></tr>\n",
       "\t<tr><td>-3</td><td>-3</td><td>-6</td><td>-6</td><td>-1</td><td> 0</td><td> 0</td><td> 1</td></tr>\n",
       "</tbody>\n",
       "</table>\n",
       "</dd>\n",
       "\t<dt>$alpha_1</dt>\n",
       "\t\t<dd>0.4</dd>\n",
       "\t<dt>$alpha_2</dt>\n",
       "\t\t<dd>0.4</dd>\n",
       "\t<dt>$rho</dt>\n",
       "\t\t<dd>-1.8</dd>\n",
       "\t<dt>$planes</dt>\n",
       "\t\t<dd><table class=\"dataframe\">\n",
       "<caption>A data.frame: 1 × 3</caption>\n",
       "<thead>\n",
       "\t<tr><th scope=col>hyperplane</th><th scope=col>positive_support</th><th scope=col>negative_support</th></tr>\n",
       "\t<tr><th scope=col>&lt;chr&gt;</th><th scope=col>&lt;chr&gt;</th><th scope=col>&lt;chr&gt;</th></tr>\n",
       "</thead>\n",
       "<tbody>\n",
       "\t<tr><td>0.8 * x  + 0.4 * y -1.8  = 0</td><td>0.8 * x  + 0.4 * y -1.8  = 1</td><td>0.8 * x  + 0.4 * y -1.8  = -1</td></tr>\n",
       "</tbody>\n",
       "</table>\n",
       "</dd>\n",
       "</dl>\n"
      ],
      "text/latex": [
       "\\begin{description}\n",
       "\\item[\\$SVP] A data.frame: 1 × 2\n",
       "\\begin{tabular}{ll}\n",
       " X1 & X2\\\\\n",
       " <dbl> & <dbl>\\\\\n",
       "\\hline\n",
       "\t 3 & 1\\\\\n",
       "\\end{tabular}\n",
       "\n",
       "\\item[\\$SVN] A data.frame: 1 × 2\n",
       "\\begin{tabular}{ll}\n",
       " X1 & X2\\\\\n",
       " <dbl> & <dbl>\\\\\n",
       "\\hline\n",
       "\t 1 & 0\\\\\n",
       "\\end{tabular}\n",
       "\n",
       "\\item[\\$W] A data.frame: 1 × 2\n",
       "\\begin{tabular}{ll}\n",
       " X1 & X2\\\\\n",
       " <dbl> & <dbl>\\\\\n",
       "\\hline\n",
       "\t 0.8 & 0.4\\\\\n",
       "\\end{tabular}\n",
       "\n",
       "\\item[\\$width] 2.23606797749979\n",
       "\\item[\\$K] A matrix: 8 × 8 of type dbl\n",
       "\\begin{tabular}{llllllll}\n",
       "\t 10 &  8 & 19 & 17 &  3 &  1 & -1 & -3\\\\\n",
       "\t  8 & 10 & 17 & 19 &  3 & -1 &  1 & -3\\\\\n",
       "\t 19 & 17 & 37 & 35 &  6 &  1 & -1 & -6\\\\\n",
       "\t 17 & 19 & 35 & 37 &  6 & -1 &  1 & -6\\\\\n",
       "\t  3 &  3 &  6 &  6 &  1 &  0 &  0 & -1\\\\\n",
       "\t  1 & -1 &  1 & -1 &  0 &  1 & -1 &  0\\\\\n",
       "\t -1 &  1 & -1 &  1 &  0 & -1 &  1 &  0\\\\\n",
       "\t -3 & -3 & -6 & -6 & -1 &  0 &  0 &  1\\\\\n",
       "\\end{tabular}\n",
       "\n",
       "\\item[\\$alpha\\_1] 0.4\n",
       "\\item[\\$alpha\\_2] 0.4\n",
       "\\item[\\$rho] -1.8\n",
       "\\item[\\$planes] A data.frame: 1 × 3\n",
       "\\begin{tabular}{lll}\n",
       " hyperplane & positive\\_support & negative\\_support\\\\\n",
       " <chr> & <chr> & <chr>\\\\\n",
       "\\hline\n",
       "\t 0.8 * x  + 0.4 * y -1.8  = 0 & 0.8 * x  + 0.4 * y -1.8  = 1 & 0.8 * x  + 0.4 * y -1.8  = -1\\\\\n",
       "\\end{tabular}\n",
       "\n",
       "\\end{description}\n"
      ],
      "text/markdown": [
       "$SVP\n",
       ":   \n",
       "A data.frame: 1 × 2\n",
       "\n",
       "| X1 &lt;dbl&gt; | X2 &lt;dbl&gt; |\n",
       "|---|---|\n",
       "| 3 | 1 |\n",
       "\n",
       "\n",
       "$SVN\n",
       ":   \n",
       "A data.frame: 1 × 2\n",
       "\n",
       "| X1 &lt;dbl&gt; | X2 &lt;dbl&gt; |\n",
       "|---|---|\n",
       "| 1 | 0 |\n",
       "\n",
       "\n",
       "$W\n",
       ":   \n",
       "A data.frame: 1 × 2\n",
       "\n",
       "| X1 &lt;dbl&gt; | X2 &lt;dbl&gt; |\n",
       "|---|---|\n",
       "| 0.8 | 0.4 |\n",
       "\n",
       "\n",
       "$width\n",
       ":   2.23606797749979\n",
       "$K\n",
       ":   \n",
       "A matrix: 8 × 8 of type dbl\n",
       "\n",
       "| 10 |  8 | 19 | 17 |  3 |  1 | -1 | -3 |\n",
       "|  8 | 10 | 17 | 19 |  3 | -1 |  1 | -3 |\n",
       "| 19 | 17 | 37 | 35 |  6 |  1 | -1 | -6 |\n",
       "| 17 | 19 | 35 | 37 |  6 | -1 |  1 | -6 |\n",
       "|  3 |  3 |  6 |  6 |  1 |  0 |  0 | -1 |\n",
       "|  1 | -1 |  1 | -1 |  0 |  1 | -1 |  0 |\n",
       "| -1 |  1 | -1 |  1 |  0 | -1 |  1 |  0 |\n",
       "| -3 | -3 | -6 | -6 | -1 |  0 |  0 |  1 |\n",
       "\n",
       "\n",
       "$alpha_1\n",
       ":   0.4\n",
       "$alpha_2\n",
       ":   0.4\n",
       "$rho\n",
       ":   -1.8\n",
       "$planes\n",
       ":   \n",
       "A data.frame: 1 × 3\n",
       "\n",
       "| hyperplane &lt;chr&gt; | positive_support &lt;chr&gt; | negative_support &lt;chr&gt; |\n",
       "|---|---|---|\n",
       "| 0.8 * x  + 0.4 * y -1.8  = 0 | 0.8 * x  + 0.4 * y -1.8  = 1 | 0.8 * x  + 0.4 * y -1.8  = -1 |\n",
       "\n",
       "\n",
       "\n",
       "\n"
      ],
      "text/plain": [
       "$SVP\n",
       "  X1 X2\n",
       "1  3  1\n",
       "\n",
       "$SVN\n",
       "  X1 X2\n",
       "1  1  0\n",
       "\n",
       "$W\n",
       "   X1  X2\n",
       "1 0.8 0.4\n",
       "\n",
       "$width\n",
       "[1] 2.236068\n",
       "\n",
       "$K\n",
       "     [,1] [,2] [,3] [,4] [,5] [,6] [,7] [,8]\n",
       "[1,]   10    8   19   17    3    1   -1   -3\n",
       "[2,]    8   10   17   19    3   -1    1   -3\n",
       "[3,]   19   17   37   35    6    1   -1   -6\n",
       "[4,]   17   19   35   37    6   -1    1   -6\n",
       "[5,]    3    3    6    6    1    0    0   -1\n",
       "[6,]    1   -1    1   -1    0    1   -1    0\n",
       "[7,]   -1    1   -1    1    0   -1    1    0\n",
       "[8,]   -3   -3   -6   -6   -1    0    0    1\n",
       "\n",
       "$alpha_1\n",
       "[1] 0.4\n",
       "\n",
       "$alpha_2\n",
       "[1] 0.4\n",
       "\n",
       "$rho\n",
       "[1] -1.8\n",
       "\n",
       "$planes\n",
       "                    hyperplane             positive_support\n",
       "1 0.8 * x  + 0.4 * y -1.8  = 0 0.8 * x  + 0.4 * y -1.8  = 1\n",
       "               negative_support\n",
       "1 0.8 * x  + 0.4 * y -1.8  = -1\n"
      ]
     },
     "metadata": {},
     "output_type": "display_data"
    }
   ],
   "source": [
    "svm_df_a <- manual_svm(sv_df_a$SVP, sv_df_a$SVN, w_df_a,\n",
    "                       width_df_a, kernel_df_a, coefs_df_a)\n",
    "svm_df_a\n",
    "svm_df_b <- manual_svm(sv_df_b$SVP, sv_df_b$SVN, w_df_b,\n",
    "                       width_df_b, kernel_df_b, coefs_df_b)\n",
    "svm_df_b\n",
    "svm_df_c <- manual_svm(sv_df_c$SVP, sv_df_c$SVN, w_df_c,\n",
    "                       width_df_c, kernel_df_c, coefs_df_c)\n",
    "svm_df_c\n",
    "svm_df_d <- manual_svm(sv_df_d$SVP, sv_df_d$SVN, w_df_d,\n",
    "                       width_df_d, kernel_df_d, coefs_df_d)\n",
    "svm_df_d\n",
    "svm_df_e <- manual_svm(sv_df_e$SVP, sv_df_e$SVN, w_df_e,\n",
    "                       width_df_e, kernel_df_e, coefs_df_e)\n",
    "svm_df_e"
   ]
  },
  {
   "cell_type": "markdown",
   "metadata": {},
   "source": [
    "Y con esto, podemos dibujar los puntos y planos"
   ]
  },
  {
   "cell_type": "code",
   "execution_count": 58,
   "metadata": {
    "vscode": {
     "languageId": "r"
    }
   },
   "outputs": [
    {
     "data": {
      "image/png": "[encoded data removed]",
      "text/plain": [
       "plot without title"
      ]
     },
     "metadata": {
      "image/png": {
       "height": 420,
       "width": 420
      }
     },
     "output_type": "display_data"
    },
    {
     "data": {
      "image/png": "[encoded data removed]",
      "text/plain": [
       "plot without title"
      ]
     },
     "metadata": {
      "image/png": {
       "height": 420,
       "width": 420
      }
     },
     "output_type": "display_data"
    },
    {
     "data": {
      "image/png": "[encoded data removed]",
      "text/plain": [
       "plot without title"
      ]
     },
     "metadata": {
      "image/png": {
       "height": 420,
       "width": 420
      }
     },
     "output_type": "display_data"
    },
    {
     "data": {
      "image/png": "[encoded data removed]",
      "text/plain": [
       "plot without title"
      ]
     },
     "metadata": {
      "image/png": {
       "height": 420,
       "width": 420
      }
     },
     "output_type": "display_data"
    },
    {
     "data": {
      "image/png": "[encoded data removed]",
      "text/plain": [
       "plot without title"
      ]
     },
     "metadata": {
      "image/png": {
       "height": 420,
       "width": 420
      }
     },
     "output_type": "display_data"
    }
   ],
   "source": [
    "plot(dataframe_a$X1, dataframe_a$X2, xlab = \"X1\", ylab = \"X2\")\n",
    "abline(- coefs_df_a[3] / w_df_a[2], -w_df_a[1] / w_df_a[2])\n",
    "abline((1 - coefs_df_a[3]) / w_df_a[2], -w_df_a[1] / w_df_a[2])\n",
    "abline((-1 - coefs_df_a[3]) / w_df_a[2], -w_df_a[1] / w_df_a[2])\n",
    "plot(dataframe_b$X1, dataframe_b$X2, xlab = \"X1\", ylab = \"X2\")\n",
    "abline(- coefs_df_b[3] / w_df_b[2], -w_df_b[1] / w_df_b[2])\n",
    "abline((1 - coefs_df_b[3]) / w_df_b[2], -w_df_b[1] / w_df_b[2])\n",
    "abline((-1 - coefs_df_b[3]) / w_df_b[2], -w_df_b[1] / w_df_b[2])\n",
    "plot(dataframe_c$X1, dataframe_c$X2, xlab = \"X1\", ylab = \"X2\")\n",
    "abline(- coefs_df_c[3] / w_df_c[2], -w_df_c[1] / w_df_c[2])\n",
    "abline((1 - coefs_df_c[3]) / w_df_c[2], -w_df_c[1] / w_df_c[2])\n",
    "abline((-1 - coefs_df_c[3]) / w_df_c[2], -w_df_c[1] / w_df_c[2])\n",
    "plot(dataframe_d$X1, dataframe_d$X2, xlab = \"X1\", ylab = \"X2\")\n",
    "abline(- coefs_df_d[3] / w_df_d[2], -w_df_d[1] / w_df_d[2])\n",
    "abline((1 - coefs_df_d[3]) / w_df_d[2], -w_df_d[1] / w_df_d[2])\n",
    "abline((-1 - coefs_df_d[3]) / w_df_d[2], -w_df_d[1] / w_df_d[2])\n",
    "plot(dataframe_e$X1, dataframe_e$X2, xlab = \"X1\", ylab = \"X2\")\n",
    "abline(- coefs_df_e[3] / w_df_e[2], -w_df_e[1] / w_df_e[2])\n",
    "abline((1 - coefs_df_e[3]) / w_df_e[2], -w_df_e[1] / w_df_e[2])\n",
    "abline((-1 - coefs_df_e[3]) / w_df_e[2], -w_df_e[1] / w_df_e[2])"
   ]
  }
 ],
 "metadata": {
  "kernelspec": {
   "display_name": "R 4.3",
   "language": "R",
   "name": "ir43"
  },
  "language_info": {
   "codemirror_mode": "r",
   "file_extension": ".r",
   "mimetype": "text/x-r-source",
   "name": "R",
   "pygments_lexer": "r",
   "version": "4.3.1"
  }
 },
 "nbformat": 4,
 "nbformat_minor": 2
}
