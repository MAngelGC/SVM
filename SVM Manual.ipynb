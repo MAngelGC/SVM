{
 "cells": [
  {
   "cell_type": "markdown",
   "metadata": {},
   "source": [
    "# Práctica 2 - SVM\n",
    "\n",
    "## Librerías y dataframes\n",
    "Primero, cargamos las librerías necesarias y creamos los dataframes a usar"
   ]
  },
  {
   "cell_type": "code",
   "execution_count": 2,
   "metadata": {
    "vscode": {
     "languageId": "r"
    }
   },
   "outputs": [
    {
     "name": "stderr",
     "output_type": "stream",
     "text": [
      "── \u001b[1mAttaching core tidyverse packages\u001b[22m ──────────────────────── tidyverse 2.0.0 ──\n",
      "\u001b[32m✔\u001b[39m \u001b[34mdplyr    \u001b[39m 1.1.3     \u001b[32m✔\u001b[39m \u001b[34mreadr    \u001b[39m 2.1.4\n",
      "\u001b[32m✔\u001b[39m \u001b[34mforcats  \u001b[39m 1.0.0     \u001b[32m✔\u001b[39m \u001b[34mstringr  \u001b[39m 1.5.0\n",
      "\u001b[32m✔\u001b[39m \u001b[34mggplot2  \u001b[39m 3.4.4     \u001b[32m✔\u001b[39m \u001b[34mtibble   \u001b[39m 3.2.1\n",
      "\u001b[32m✔\u001b[39m \u001b[34mlubridate\u001b[39m 1.9.3     \u001b[32m✔\u001b[39m \u001b[34mtidyr    \u001b[39m 1.3.0\n",
      "\u001b[32m✔\u001b[39m \u001b[34mpurrr    \u001b[39m 1.0.2     \n",
      "── \u001b[1mConflicts\u001b[22m ────────────────────────────────────────── tidyverse_conflicts() ──\n",
      "\u001b[31m✖\u001b[39m \u001b[34mdplyr\u001b[39m::\u001b[32mfilter()\u001b[39m masks \u001b[34mstats\u001b[39m::filter()\n",
      "\u001b[31m✖\u001b[39m \u001b[34mdplyr\u001b[39m::\u001b[32mlag()\u001b[39m    masks \u001b[34mstats\u001b[39m::lag()\n",
      "\u001b[36mℹ\u001b[39m Use the conflicted package (\u001b[3m\u001b[34m<http://conflicted.r-lib.org/>\u001b[39m\u001b[23m) to force all conflicts to become errors\n"
     ]
    },
    {
     "data": {
      "text/html": [
       "<table class=\"dataframe\">\n",
       "<caption>A data.frame: 2 × 3</caption>\n",
       "<thead>\n",
       "\t<tr><th scope=col>X1</th><th scope=col>X2</th><th scope=col>Y</th></tr>\n",
       "\t<tr><th scope=col>&lt;dbl&gt;</th><th scope=col>&lt;dbl&gt;</th><th scope=col>&lt;dbl&gt;</th></tr>\n",
       "</thead>\n",
       "<tbody>\n",
       "\t<tr><td>0</td><td>0</td><td> 1</td></tr>\n",
       "\t<tr><td>4</td><td>4</td><td>-1</td></tr>\n",
       "</tbody>\n",
       "</table>\n"
      ],
      "text/latex": [
       "A data.frame: 2 × 3\n",
       "\\begin{tabular}{lll}\n",
       " X1 & X2 & Y\\\\\n",
       " <dbl> & <dbl> & <dbl>\\\\\n",
       "\\hline\n",
       "\t 0 & 0 &  1\\\\\n",
       "\t 4 & 4 & -1\\\\\n",
       "\\end{tabular}\n"
      ],
      "text/markdown": [
       "\n",
       "A data.frame: 2 × 3\n",
       "\n",
       "| X1 &lt;dbl&gt; | X2 &lt;dbl&gt; | Y &lt;dbl&gt; |\n",
       "|---|---|---|\n",
       "| 0 | 0 |  1 |\n",
       "| 4 | 4 | -1 |\n",
       "\n"
      ],
      "text/plain": [
       "  X1 X2 Y \n",
       "1 0  0   1\n",
       "2 4  4  -1"
      ]
     },
     "metadata": {},
     "output_type": "display_data"
    },
    {
     "data": {
      "text/html": [
       "<table class=\"dataframe\">\n",
       "<caption>A data.frame: 3 × 3</caption>\n",
       "<thead>\n",
       "\t<tr><th scope=col>X1</th><th scope=col>X2</th><th scope=col>Y</th></tr>\n",
       "\t<tr><th scope=col>&lt;dbl&gt;</th><th scope=col>&lt;dbl&gt;</th><th scope=col>&lt;dbl&gt;</th></tr>\n",
       "</thead>\n",
       "<tbody>\n",
       "\t<tr><td>2</td><td>0</td><td> 1</td></tr>\n",
       "\t<tr><td>0</td><td>0</td><td>-1</td></tr>\n",
       "\t<tr><td>1</td><td>1</td><td>-1</td></tr>\n",
       "</tbody>\n",
       "</table>\n"
      ],
      "text/latex": [
       "A data.frame: 3 × 3\n",
       "\\begin{tabular}{lll}\n",
       " X1 & X2 & Y\\\\\n",
       " <dbl> & <dbl> & <dbl>\\\\\n",
       "\\hline\n",
       "\t 2 & 0 &  1\\\\\n",
       "\t 0 & 0 & -1\\\\\n",
       "\t 1 & 1 & -1\\\\\n",
       "\\end{tabular}\n"
      ],
      "text/markdown": [
       "\n",
       "A data.frame: 3 × 3\n",
       "\n",
       "| X1 &lt;dbl&gt; | X2 &lt;dbl&gt; | Y &lt;dbl&gt; |\n",
       "|---|---|---|\n",
       "| 2 | 0 |  1 |\n",
       "| 0 | 0 | -1 |\n",
       "| 1 | 1 | -1 |\n",
       "\n"
      ],
      "text/plain": [
       "  X1 X2 Y \n",
       "1 2  0   1\n",
       "2 0  0  -1\n",
       "3 1  1  -1"
      ]
     },
     "metadata": {},
     "output_type": "display_data"
    },
    {
     "data": {
      "text/html": [
       "<table class=\"dataframe\">\n",
       "<caption>A data.frame: 12 × 3</caption>\n",
       "<thead>\n",
       "\t<tr><th scope=col>X1</th><th scope=col>X2</th><th scope=col>Y</th></tr>\n",
       "\t<tr><th scope=col>&lt;dbl&gt;</th><th scope=col>&lt;dbl&gt;</th><th scope=col>&lt;dbl&gt;</th></tr>\n",
       "</thead>\n",
       "<tbody>\n",
       "\t<tr><td> 2</td><td> 2</td><td> 1</td></tr>\n",
       "\t<tr><td> 2</td><td>-2</td><td> 1</td></tr>\n",
       "\t<tr><td>-2</td><td>-2</td><td> 1</td></tr>\n",
       "\t<tr><td>-2</td><td> 2</td><td> 1</td></tr>\n",
       "\t<tr><td> 2</td><td> 2</td><td> 1</td></tr>\n",
       "\t<tr><td> 2</td><td>-2</td><td> 1</td></tr>\n",
       "\t<tr><td>-2</td><td>-2</td><td> 1</td></tr>\n",
       "\t<tr><td>-2</td><td> 2</td><td> 1</td></tr>\n",
       "\t<tr><td> 1</td><td> 1</td><td>-1</td></tr>\n",
       "\t<tr><td> 1</td><td>-1</td><td>-1</td></tr>\n",
       "\t<tr><td>-1</td><td>-1</td><td>-1</td></tr>\n",
       "\t<tr><td>-1</td><td> 1</td><td>-1</td></tr>\n",
       "</tbody>\n",
       "</table>\n"
      ],
      "text/latex": [
       "A data.frame: 12 × 3\n",
       "\\begin{tabular}{lll}\n",
       " X1 & X2 & Y\\\\\n",
       " <dbl> & <dbl> & <dbl>\\\\\n",
       "\\hline\n",
       "\t  2 &  2 &  1\\\\\n",
       "\t  2 & -2 &  1\\\\\n",
       "\t -2 & -2 &  1\\\\\n",
       "\t -2 &  2 &  1\\\\\n",
       "\t  2 &  2 &  1\\\\\n",
       "\t  2 & -2 &  1\\\\\n",
       "\t -2 & -2 &  1\\\\\n",
       "\t -2 &  2 &  1\\\\\n",
       "\t  1 &  1 & -1\\\\\n",
       "\t  1 & -1 & -1\\\\\n",
       "\t -1 & -1 & -1\\\\\n",
       "\t -1 &  1 & -1\\\\\n",
       "\\end{tabular}\n"
      ],
      "text/markdown": [
       "\n",
       "A data.frame: 12 × 3\n",
       "\n",
       "| X1 &lt;dbl&gt; | X2 &lt;dbl&gt; | Y &lt;dbl&gt; |\n",
       "|---|---|---|\n",
       "|  2 |  2 |  1 |\n",
       "|  2 | -2 |  1 |\n",
       "| -2 | -2 |  1 |\n",
       "| -2 |  2 |  1 |\n",
       "|  2 |  2 |  1 |\n",
       "|  2 | -2 |  1 |\n",
       "| -2 | -2 |  1 |\n",
       "| -2 |  2 |  1 |\n",
       "|  1 |  1 | -1 |\n",
       "|  1 | -1 | -1 |\n",
       "| -1 | -1 | -1 |\n",
       "| -1 |  1 | -1 |\n",
       "\n"
      ],
      "text/plain": [
       "   X1 X2 Y \n",
       "1   2  2  1\n",
       "2   2 -2  1\n",
       "3  -2 -2  1\n",
       "4  -2  2  1\n",
       "5   2  2  1\n",
       "6   2 -2  1\n",
       "7  -2 -2  1\n",
       "8  -2  2  1\n",
       "9   1  1 -1\n",
       "10  1 -1 -1\n",
       "11 -1 -1 -1\n",
       "12 -1  1 -1"
      ]
     },
     "metadata": {},
     "output_type": "display_data"
    }
   ],
   "source": [
    "library(tidyverse)\n",
    "\n",
    "dataframe_a <- data.frame(X1 = c(0, 4), X2 = c(0, 4), Y = c(1, -1))\n",
    "dataframe_a\n",
    "\n",
    "dataframe_b <- data.frame(X1 = c(2, 0, 1), X2 = c(0, 0, 1), Y = c(1, -1, -1))\n",
    "dataframe_b\n",
    "\n",
    "dataframe_c <- data.frame(X1 = c(2, 2, -2, -2, 1, 1, -1, -1),\n",
    "                          X2 = c(2, -2, -2, 2, 1, -1, -1, 1),\n",
    "                          Y = c(rep(1, 8), rep(-1, 4)))\n",
    "dataframe_c"
   ]
  },
  {
   "cell_type": "markdown",
   "metadata": {},
   "source": [
    "## Funciones auxiliares\n",
    "Una vez cargadas las librerías y creados los dataframes, podemos crear algunas funciones auxiliares (como por ejemplo, para la transformación)."
   ]
  },
  {
   "cell_type": "code",
   "execution_count": 137,
   "metadata": {
    "vscode": {
     "languageId": "r"
    }
   },
   "outputs": [],
   "source": [
    "euclidean <- function(xp, xn) sqrt(sum((xp - xn)^2))\n",
    "\n",
    "transformacion <- function(vector) {\n",
    "  x1 <- vector[1]\n",
    "  print(x1)\n",
    "  x2 <- vector[2]\n",
    "  print(x2)\n",
    "  if (sqrt(x1^2 + x2^2) > 2) {\n",
    "    vector[1] <- 4 - x2 + abs(x1 - x2)\n",
    "    vector[2] <- 4 - x1 + abs(x1 - x2)\n",
    "  }\n",
    "}\n",
    "\n",
    "kernel <- function(x1, x2) {\n",
    "  len_x1 <- length(x1)\n",
    "  len_x2 <- length(x2)\n",
    "  k <- matrix(data = NA, nrow = len_x1, ncol = len_x2)\n",
    "  for (i in 1:len_x1) {\n",
    "    xi <- c(x1[i], x2[i])\n",
    "    for (j in 1:len_x2) {\n",
    "      xj <- c(x1[j], x2[j])\n",
    "      k[i, j] <- xi %*% xj\n",
    "    }\n",
    "  }\n",
    "  return(k)\n",
    "}\n",
    "\n",
    "support_vectors <- function(x1_positive, x2_positive,\n",
    "                            x1_negative, x2_negative) {\n",
    "  len_positive <- length(x1_positive)\n",
    "  len_negative <- length(x1_negative)\n",
    "  svp <- NA\n",
    "  svn <- NA\n",
    "  min_dist <- Inf\n",
    "  for (i in 1:len_positive) {\n",
    "    xp <- c(x1_positive[i], x2_positive[i])\n",
    "    for (j in 1:len_negative) {\n",
    "      xn <- c(x1_negative[j], x2_negative[j])\n",
    "      dist <- euclidean(xp, xn)\n",
    "      if (dist < min_dist) {\n",
    "        min_dist <- dist\n",
    "        svp <- xp\n",
    "        svn <- xn\n",
    "      }\n",
    "    }\n",
    "  }\n",
    "  return(list(SVP = data.frame(X1 = svp[1], X2 = svp[2]),\n",
    "              SVN = data.frame(X1 = svn[1], X2 = svn[2])))\n",
    "}"
   ]
  },
  {
   "cell_type": "markdown",
   "metadata": {},
   "source": [
    "## Ejercicio 1. Determinar y mostrar los vectores soporte\n",
    "Para el dataframe A, los vectores soporte son sus dos puntos, pero podemos determinarlos usando una función auxiliar."
   ]
  },
  {
   "cell_type": "code",
   "execution_count": 139,
   "metadata": {
    "vscode": {
     "languageId": "r"
    }
   },
   "outputs": [
    {
     "data": {
      "text/html": [
       "<dl>\n",
       "\t<dt>$SVP</dt>\n",
       "\t\t<dd><table class=\"dataframe\">\n",
       "<caption>A data.frame: 1 × 2</caption>\n",
       "<thead>\n",
       "\t<tr><th scope=col>X1</th><th scope=col>X2</th></tr>\n",
       "\t<tr><th scope=col>&lt;dbl&gt;</th><th scope=col>&lt;dbl&gt;</th></tr>\n",
       "</thead>\n",
       "<tbody>\n",
       "\t<tr><td>0</td><td>0</td></tr>\n",
       "</tbody>\n",
       "</table>\n",
       "</dd>\n",
       "\t<dt>$SVN</dt>\n",
       "\t\t<dd><table class=\"dataframe\">\n",
       "<caption>A data.frame: 1 × 2</caption>\n",
       "<thead>\n",
       "\t<tr><th scope=col>X1</th><th scope=col>X2</th></tr>\n",
       "\t<tr><th scope=col>&lt;dbl&gt;</th><th scope=col>&lt;dbl&gt;</th></tr>\n",
       "</thead>\n",
       "<tbody>\n",
       "\t<tr><td>4</td><td>4</td></tr>\n",
       "</tbody>\n",
       "</table>\n",
       "</dd>\n",
       "</dl>\n"
      ],
      "text/latex": [
       "\\begin{description}\n",
       "\\item[\\$SVP] A data.frame: 1 × 2\n",
       "\\begin{tabular}{ll}\n",
       " X1 & X2\\\\\n",
       " <dbl> & <dbl>\\\\\n",
       "\\hline\n",
       "\t 0 & 0\\\\\n",
       "\\end{tabular}\n",
       "\n",
       "\\item[\\$SVN] A data.frame: 1 × 2\n",
       "\\begin{tabular}{ll}\n",
       " X1 & X2\\\\\n",
       " <dbl> & <dbl>\\\\\n",
       "\\hline\n",
       "\t 4 & 4\\\\\n",
       "\\end{tabular}\n",
       "\n",
       "\\end{description}\n"
      ],
      "text/markdown": [
       "$SVP\n",
       ":   \n",
       "A data.frame: 1 × 2\n",
       "\n",
       "| X1 &lt;dbl&gt; | X2 &lt;dbl&gt; |\n",
       "|---|---|\n",
       "| 0 | 0 |\n",
       "\n",
       "\n",
       "$SVN\n",
       ":   \n",
       "A data.frame: 1 × 2\n",
       "\n",
       "| X1 &lt;dbl&gt; | X2 &lt;dbl&gt; |\n",
       "|---|---|\n",
       "| 4 | 4 |\n",
       "\n",
       "\n",
       "\n",
       "\n"
      ],
      "text/plain": [
       "$SVP\n",
       "  X1 X2\n",
       "1  0  0\n",
       "\n",
       "$SVN\n",
       "  X1 X2\n",
       "1  4  4\n"
      ]
     },
     "metadata": {},
     "output_type": "display_data"
    }
   ],
   "source": [
    "dataframe_a_positive <- as.vector(dataframe_a[dataframe_a$Y == 1, -3])\n",
    "dataframe_a_negative <- as.vector(dataframe_a[dataframe_a$Y == -1, -3])\n",
    "support_vectors(dataframe_a_positive[[1]], dataframe_a_positive[[2]],\n",
    "                dataframe_a_negative[[1]], dataframe_a_negative[[2]])"
   ]
  },
  {
   "cell_type": "markdown",
   "metadata": {},
   "source": [
    "De igual forma, para los dataframes B y C podemos usar la función auxiliar para determinar los vectores soporte."
   ]
  },
  {
   "cell_type": "code",
   "execution_count": 140,
   "metadata": {
    "vscode": {
     "languageId": "r"
    }
   },
   "outputs": [
    {
     "data": {
      "text/html": [
       "<dl>\n",
       "\t<dt>$SVP</dt>\n",
       "\t\t<dd><table class=\"dataframe\">\n",
       "<caption>A data.frame: 1 × 2</caption>\n",
       "<thead>\n",
       "\t<tr><th scope=col>X1</th><th scope=col>X2</th></tr>\n",
       "\t<tr><th scope=col>&lt;dbl&gt;</th><th scope=col>&lt;dbl&gt;</th></tr>\n",
       "</thead>\n",
       "<tbody>\n",
       "\t<tr><td>2</td><td>0</td></tr>\n",
       "</tbody>\n",
       "</table>\n",
       "</dd>\n",
       "\t<dt>$SVN</dt>\n",
       "\t\t<dd><table class=\"dataframe\">\n",
       "<caption>A data.frame: 1 × 2</caption>\n",
       "<thead>\n",
       "\t<tr><th scope=col>X1</th><th scope=col>X2</th></tr>\n",
       "\t<tr><th scope=col>&lt;dbl&gt;</th><th scope=col>&lt;dbl&gt;</th></tr>\n",
       "</thead>\n",
       "<tbody>\n",
       "\t<tr><td>1</td><td>1</td></tr>\n",
       "</tbody>\n",
       "</table>\n",
       "</dd>\n",
       "</dl>\n"
      ],
      "text/latex": [
       "\\begin{description}\n",
       "\\item[\\$SVP] A data.frame: 1 × 2\n",
       "\\begin{tabular}{ll}\n",
       " X1 & X2\\\\\n",
       " <dbl> & <dbl>\\\\\n",
       "\\hline\n",
       "\t 2 & 0\\\\\n",
       "\\end{tabular}\n",
       "\n",
       "\\item[\\$SVN] A data.frame: 1 × 2\n",
       "\\begin{tabular}{ll}\n",
       " X1 & X2\\\\\n",
       " <dbl> & <dbl>\\\\\n",
       "\\hline\n",
       "\t 1 & 1\\\\\n",
       "\\end{tabular}\n",
       "\n",
       "\\end{description}\n"
      ],
      "text/markdown": [
       "$SVP\n",
       ":   \n",
       "A data.frame: 1 × 2\n",
       "\n",
       "| X1 &lt;dbl&gt; | X2 &lt;dbl&gt; |\n",
       "|---|---|\n",
       "| 2 | 0 |\n",
       "\n",
       "\n",
       "$SVN\n",
       ":   \n",
       "A data.frame: 1 × 2\n",
       "\n",
       "| X1 &lt;dbl&gt; | X2 &lt;dbl&gt; |\n",
       "|---|---|\n",
       "| 1 | 1 |\n",
       "\n",
       "\n",
       "\n",
       "\n"
      ],
      "text/plain": [
       "$SVP\n",
       "  X1 X2\n",
       "1  2  0\n",
       "\n",
       "$SVN\n",
       "  X1 X2\n",
       "1  1  1\n"
      ]
     },
     "metadata": {},
     "output_type": "display_data"
    },
    {
     "data": {
      "text/html": [
       "<dl>\n",
       "\t<dt>$SVP</dt>\n",
       "\t\t<dd><table class=\"dataframe\">\n",
       "<caption>A data.frame: 1 × 2</caption>\n",
       "<thead>\n",
       "\t<tr><th scope=col>X1</th><th scope=col>X2</th></tr>\n",
       "\t<tr><th scope=col>&lt;dbl&gt;</th><th scope=col>&lt;dbl&gt;</th></tr>\n",
       "</thead>\n",
       "<tbody>\n",
       "\t<tr><td>2</td><td>2</td></tr>\n",
       "</tbody>\n",
       "</table>\n",
       "</dd>\n",
       "\t<dt>$SVN</dt>\n",
       "\t\t<dd><table class=\"dataframe\">\n",
       "<caption>A data.frame: 1 × 2</caption>\n",
       "<thead>\n",
       "\t<tr><th scope=col>X1</th><th scope=col>X2</th></tr>\n",
       "\t<tr><th scope=col>&lt;dbl&gt;</th><th scope=col>&lt;dbl&gt;</th></tr>\n",
       "</thead>\n",
       "<tbody>\n",
       "\t<tr><td>1</td><td>1</td></tr>\n",
       "</tbody>\n",
       "</table>\n",
       "</dd>\n",
       "</dl>\n"
      ],
      "text/latex": [
       "\\begin{description}\n",
       "\\item[\\$SVP] A data.frame: 1 × 2\n",
       "\\begin{tabular}{ll}\n",
       " X1 & X2\\\\\n",
       " <dbl> & <dbl>\\\\\n",
       "\\hline\n",
       "\t 2 & 2\\\\\n",
       "\\end{tabular}\n",
       "\n",
       "\\item[\\$SVN] A data.frame: 1 × 2\n",
       "\\begin{tabular}{ll}\n",
       " X1 & X2\\\\\n",
       " <dbl> & <dbl>\\\\\n",
       "\\hline\n",
       "\t 1 & 1\\\\\n",
       "\\end{tabular}\n",
       "\n",
       "\\end{description}\n"
      ],
      "text/markdown": [
       "$SVP\n",
       ":   \n",
       "A data.frame: 1 × 2\n",
       "\n",
       "| X1 &lt;dbl&gt; | X2 &lt;dbl&gt; |\n",
       "|---|---|\n",
       "| 2 | 2 |\n",
       "\n",
       "\n",
       "$SVN\n",
       ":   \n",
       "A data.frame: 1 × 2\n",
       "\n",
       "| X1 &lt;dbl&gt; | X2 &lt;dbl&gt; |\n",
       "|---|---|\n",
       "| 1 | 1 |\n",
       "\n",
       "\n",
       "\n",
       "\n"
      ],
      "text/plain": [
       "$SVP\n",
       "  X1 X2\n",
       "1  2  2\n",
       "\n",
       "$SVN\n",
       "  X1 X2\n",
       "1  1  1\n"
      ]
     },
     "metadata": {},
     "output_type": "display_data"
    }
   ],
   "source": [
    "dataframe_b_positive <- as.vector(dataframe_b[dataframe_b$Y == 1, -3])\n",
    "dataframe_c_positive <- as.vector(dataframe_c[dataframe_c$Y == 1, -3])\n",
    "dataframe_b_negative <- as.vector(dataframe_c[dataframe_b$Y == -1, -3])\n",
    "dataframe_c_negative <- as.vector(dataframe_c[dataframe_c$Y == -1, -3])\n",
    "support_vectors(dataframe_b_positive[[1]], dataframe_b_positive[[2]],\n",
    "                dataframe_b_negative[[1]], dataframe_b_negative[[2]])\n",
    "support_vectors(dataframe_c_positive[[1]], dataframe_c_positive[[2]],\n",
    "                dataframe_c_negative[[1]], dataframe_c_negative[[2]])"
   ]
  }
 ],
 "metadata": {
  "kernelspec": {
   "display_name": "R 4.3",
   "language": "R",
   "name": "ir43"
  },
  "language_info": {
   "codemirror_mode": "r",
   "file_extension": ".r",
   "mimetype": "text/x-r-source",
   "name": "R",
   "pygments_lexer": "r",
   "version": "4.3.1"
  }
 },
 "nbformat": 4,
 "nbformat_minor": 2
}
